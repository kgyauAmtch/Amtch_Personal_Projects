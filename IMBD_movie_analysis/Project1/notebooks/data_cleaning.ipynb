{
 "cells": [
  {
   "cell_type": "markdown",
   "metadata": {},
   "source": [
    "### Fetching the data"
   ]
  },
  {
   "cell_type": "code",
   "execution_count": null,
   "metadata": {},
   "outputs": [],
   "source": [
    "import pandas as pd\n",
    "import numpy as np\n",
    "import ast\n",
    "import seaborn as sns\n",
    "import matplotlib.pyplot as plt"
   ]
  },
  {
   "cell_type": "code",
   "execution_count": null,
   "metadata": {},
   "outputs": [],
   "source": [
    "file_path='/Users/gyauk/github/labs/IMBD_movie_analysis/Project1/data/raw/movies.csv'\n",
    "df=pd.read_csv(file_path)\n",
    "df.head()"
   ]
  },
  {
   "cell_type": "code",
   "execution_count": null,
   "metadata": {},
   "outputs": [],
   "source": [
    "df.columns.to_list()\n"
   ]
  },
  {
   "cell_type": "markdown",
   "metadata": {},
   "source": [
    "## Data Preparation & Cleaning"
   ]
  },
  {
   "cell_type": "markdown",
   "metadata": {},
   "source": [
    "### Drop Irrelevant Columns"
   ]
  },
  {
   "cell_type": "code",
   "execution_count": null,
   "metadata": {},
   "outputs": [],
   "source": [
    "df= df.drop(columns =['adult', 'imdb_id', 'original_title', 'video', 'homepage'])\n",
    "df.head()"
   ]
  },
  {
   "cell_type": "code",
   "execution_count": null,
   "metadata": {},
   "outputs": [],
   "source": [
    "for col in df.columns:\n",
    "    print(f\"{col}: {type(df[col].iloc[0])}\")"
   ]
  },
  {
   "cell_type": "markdown",
   "metadata": {},
   "source": [
    "### Evaluate JSON Like column"
   ]
  },
  {
   "cell_type": "code",
   "execution_count": null,
   "metadata": {},
   "outputs": [],
   "source": [
    "#Function to convert a string like items to actual python objects which could be list or dictionary \n",
    "def evaluate_json_column(column):\n",
    "    try:\n",
    "        # checks if value is na otherwise converts to object\n",
    "        return ast.literal_eval(column) if pd.notna(column) else {}\n",
    "    except (ValueError, SyntaxError):\n",
    "        return {}\n",
    "\n",
    "json_columns = ['belongs_to_collection', 'genres', 'production_countries', \n",
    "                'production_companies', 'spoken_languages','credits']\n",
    "\n",
    "# applies the function to the affected columns\n",
    "for col in json_columns:\n",
    "    df[col] = df[col].apply(evaluate_json_column)\n",
    "\n",
    "\n",
    "df.head()"
   ]
  },
  {
   "cell_type": "code",
   "execution_count": null,
   "metadata": {},
   "outputs": [],
   "source": [
    "#checking if above cell worked \n",
    "for col in df.columns:\n",
    "    print(f\"{col}: {type(df[col].iloc[0])}\")"
   ]
  },
  {
   "cell_type": "markdown",
   "metadata": {},
   "source": [
    "### Extract and clean key data points"
   ]
  },
  {
   "cell_type": "code",
   "execution_count": null,
   "metadata": {},
   "outputs": [],
   "source": [
    "# function to extract name from the  dictionary in the column \n",
    "def extract_collection_name(value):\n",
    "    try:\n",
    "        if pd.notnull(value) and isinstance(value, dict):\n",
    "            return value.get('name')\n",
    "    except (ValueError, SyntaxError):\n",
    "        return None\n",
    "\n",
    "# Apply function to the column\n",
    "df['collection_name'] = df['belongs_to_collection'].apply(extract_collection_name)\n"
   ]
  },
  {
   "cell_type": "code",
   "execution_count": null,
   "metadata": {},
   "outputs": [],
   "source": [
    "df['collection_name'][0]"
   ]
  },
  {
   "cell_type": "code",
   "execution_count": null,
   "metadata": {},
   "outputs": [],
   "source": [
    "df['genres'][0]\n"
   ]
  },
  {
   "cell_type": "code",
   "execution_count": null,
   "metadata": {},
   "outputs": [],
   "source": [
    "#separate the mutliple keys called name in the dictionary with '|'\n",
    "def break_data_points(df, init_column, new_column):\n",
    "  df[new_column] = df[init_column].apply(lambda x: ' | '.join(d['name'] for d in x) if isinstance(x, list) else None)\n",
    "  return df[new_column]\n",
    "      \n",
    "    \n",
    "break_data_points(df,'genres','genre_names')\n"
   ]
  },
  {
   "cell_type": "code",
   "execution_count": null,
   "metadata": {},
   "outputs": [],
   "source": [
    "break_data_points(df, 'production_countries', 'cld_production_countries')\n",
    "break_data_points(df, 'production_companies', 'cld_production_companies')\n",
    "break_data_points(df, 'spoken_languages', 'original_language')\n"
   ]
  },
  {
   "cell_type": "code",
   "execution_count": null,
   "metadata": {},
   "outputs": [],
   "source": [
    "# df['credits'][0]"
   ]
  },
  {
   "cell_type": "code",
   "execution_count": null,
   "metadata": {},
   "outputs": [],
   "source": [
    "#credits column has a dictionary in a list in an outer dictionary\n",
    "# Function to extract cast names form the credit column whcih is a dictionary\n",
    "def extract_cast_names(credits):\n",
    "    #.get() gets the value for the key(cast) in the dictionary if there is no value for cast it reurn an empty list\n",
    "    # it then goes through each item iin the dictionary with key name and picks it value. dictionary in dictionary \n",
    "    return [member['name'] for member in credits.get('cast', [])]\n",
    "\n",
    "# Function to extract crew names\n",
    "def extract_crew_names(credits):\n",
    "    #.get() gets the value for the key(crew) in the dictionary if there is no value for cast it reurn an empty list\n",
    "    return [member['name'] for member in credits.get('crew', [])]\n",
    "\n",
    "# Function to extract director names\n",
    "#credits dictionary contains a list of crew members with a dictionary in it and the function looks for the key with the job 'Director'.\n",
    "def extract_director(credits):\n",
    "    for member in credits.get('crew', []):\n",
    "        if member.get('job') == 'Director':\n",
    "            return member.get('name')\n",
    "    return None\n",
    "\n",
    "# Extract and add new columns\n",
    "df['cast'] = df['credits'].apply(lambda x: ' | '.join(extract_cast_names(x)))\n",
    "df['crew'] = df['credits'].apply(lambda x: ' | '.join(extract_crew_names(x)))\n",
    "df['director'] = df['credits'].apply(extract_director)\n",
    "df['cast_size'] = df['credits'].apply(lambda x: len(x.get('cast', [])))\n",
    "df['crew_size'] = df['credits'].apply(lambda x: len(x.get('crew', [])))\n"
   ]
  },
  {
   "cell_type": "code",
   "execution_count": null,
   "metadata": {},
   "outputs": [],
   "source": [
    "df['cast'].head()\n",
    "df['crew'].head()\n",
    "df['director'].head()\n",
    "df['cast_size'].head()\n",
    "df['crew_size'].head()"
   ]
  },
  {
   "cell_type": "markdown",
   "metadata": {},
   "source": [
    "### Identify Anomalies with value_count()"
   ]
  },
  {
   "cell_type": "code",
   "execution_count": null,
   "metadata": {},
   "outputs": [],
   "source": [
    "# function to pick the value_counts of each specified column\n",
    "def get_value_counts(df, column):\n",
    "    return df[column].value_counts()\n",
    "    "
   ]
  },
  {
   "cell_type": "code",
   "execution_count": null,
   "metadata": {},
   "outputs": [],
   "source": [
    "get_value_counts(df, 'genre_names')"
   ]
  },
  {
   "cell_type": "code",
   "execution_count": null,
   "metadata": {},
   "outputs": [],
   "source": [
    "get_value_counts(df, 'cld_production_countries')"
   ]
  },
  {
   "cell_type": "code",
   "execution_count": null,
   "metadata": {},
   "outputs": [],
   "source": [
    "get_value_counts(df, 'original_language')"
   ]
  },
  {
   "cell_type": "code",
   "execution_count": null,
   "metadata": {},
   "outputs": [],
   "source": [
    "# \n",
    "def normalize_anomalies(genre_string):\n",
    "    # converts the split genres names to a list and sorts them and returns them to have them be unique\n",
    "    genres = list(genrestring.strip() for genrestring in genre_string.split('|'))\n",
    "    sorted_genres = sorted(genres)\n",
    "    return ' | '.join(sorted_genres)\n",
    "\n",
    "df['genre_names']= df['genre_names'].apply(normalize_anomalies)\n",
    "df['cld_production_countries']= df['cld_production_countries'].apply(normalize_anomalies)\n",
    "df['cld_production_companies']= df['cld_production_companies'].apply(normalize_anomalies)\n",
    "df['original_language']= df['original_language'].apply(normalize_anomalies)\n",
    "\n"
   ]
  },
  {
   "cell_type": "markdown",
   "metadata": {},
   "source": [
    "### testing anomalies"
   ]
  },
  {
   "cell_type": "code",
   "execution_count": null,
   "metadata": {},
   "outputs": [],
   "source": [
    "df['genre_names'].value_counts()"
   ]
  },
  {
   "cell_type": "code",
   "execution_count": null,
   "metadata": {},
   "outputs": [],
   "source": [
    "df['cld_production_countries'].value_counts()\n"
   ]
  },
  {
   "cell_type": "code",
   "execution_count": null,
   "metadata": {},
   "outputs": [],
   "source": [
    "df['cld_production_companies'].value_counts()\n"
   ]
  },
  {
   "cell_type": "code",
   "execution_count": null,
   "metadata": {},
   "outputs": [],
   "source": [
    "df['original_language'].value_counts()"
   ]
  },
  {
   "cell_type": "markdown",
   "metadata": {},
   "source": [
    "### Handling Missing & Incorrect Data"
   ]
  },
  {
   "cell_type": "code",
   "execution_count": null,
   "metadata": {},
   "outputs": [],
   "source": [
    "def convert_to_numeric(df,column):\n",
    "         df[column] = pd.to_numeric(df[column],errors='coerce')\n",
    "         return  df[column].info()"
   ]
  },
  {
   "cell_type": "code",
   "execution_count": null,
   "metadata": {},
   "outputs": [],
   "source": [
    "convert_to_numeric(df, 'id')\n",
    "convert_to_numeric(df, 'popularity')\n",
    "convert_to_numeric(df,'budget')"
   ]
  },
  {
   "cell_type": "code",
   "execution_count": null,
   "metadata": {},
   "outputs": [],
   "source": [
    "def convert_to_datetime(df,column):\n",
    "         df[column] = pd.to_datetime(df[column])\n",
    "         return df[column].info()"
   ]
  },
  {
   "cell_type": "code",
   "execution_count": null,
   "metadata": {},
   "outputs": [],
   "source": [
    "convert_to_datetime(df,'release_date')"
   ]
  },
  {
   "cell_type": "markdown",
   "metadata": {},
   "source": [
    "### Replace unrealistic values:"
   ]
  },
  {
   "cell_type": "code",
   "execution_count": null,
   "metadata": {},
   "outputs": [],
   "source": [
    "def check_zero_in_column(df, column):\n",
    "\n",
    "    if (df[column] == 0).any():\n",
    "        print(f\"Column '{column}' contains at least one value equal to 0.\")\n",
    "    else:\n",
    "        print(f\"No zero values found in column '{column}'.\")\n",
    "        \n",
    "\n",
    "check_zero_in_column(df, 'budget')\n",
    "check_zero_in_column(df, 'revenue')\n",
    "check_zero_in_column(df, 'runtime')\n"
   ]
  },
  {
   "cell_type": "markdown",
   "metadata": {},
   "source": [
    "- Convert Budget and Revenue to Million USD"
   ]
  },
  {
   "cell_type": "code",
   "execution_count": null,
   "metadata": {},
   "outputs": [],
   "source": [
    "df['budget_musd'] = df['budget'] / 1_000_000\n",
    "df['revenue_musd'] = df['revenue']/ 1_000_000\n",
    "df['revenue_musd'] = df['revenue_musd'].round(2)\n",
    "df.drop(columns= ['budget','revenue'], inplace= True)\n",
    "\n",
    "df['budget_musd'].head()\n",
    "df['revenue_musd'].head()\n",
    "\n"
   ]
  },
  {
   "cell_type": "code",
   "execution_count": null,
   "metadata": {},
   "outputs": [],
   "source": [
    "df['vote_count'][0]"
   ]
  },
  {
   "cell_type": "code",
   "execution_count": null,
   "metadata": {},
   "outputs": [],
   "source": [
    "def vote_count_zero(df, column):\n",
    "    return df[df[column]==0]\n",
    "        \n",
    "vote_count_zero(df, 'vote_count')\n"
   ]
  },
  {
   "cell_type": "code",
   "execution_count": null,
   "metadata": {},
   "outputs": [],
   "source": [
    "df['tagline'].nunique()"
   ]
  },
  {
   "cell_type": "code",
   "execution_count": null,
   "metadata": {},
   "outputs": [],
   "source": [
    "df['overview'].nunique()\n"
   ]
  },
  {
   "cell_type": "code",
   "execution_count": null,
   "metadata": {},
   "outputs": [],
   "source": [
    "def check_for_nodata(df, column):\n",
    "    return df[df[column]==0]\n",
    "        \n",
    "check_for_nodata(df, 'overview')\n",
    "check_for_nodata(df, 'tagline')\n"
   ]
  },
  {
   "cell_type": "code",
   "execution_count": null,
   "metadata": {},
   "outputs": [],
   "source": [
    "#converts all dictionaries and lists to strings to check for duplicate\n",
    "df_str = df.applymap(lambda x: str(x) if isinstance(x, (dict, list)) else x)\n",
    "duplicates = df_str.duplicated()\n",
    "duplicates"
   ]
  },
  {
   "cell_type": "code",
   "execution_count": null,
   "metadata": {},
   "outputs": [],
   "source": [
    "def released_movies(df,title_column):\n",
    "    df_new=df[df['status'] == 'Released']\n",
    "    df_new.drop(columns=['status'], inplace=True)\n",
    "    return df_new[title_column]"
   ]
  },
  {
   "cell_type": "code",
   "execution_count": null,
   "metadata": {},
   "outputs": [],
   "source": [
    "released_movies(df,'title')"
   ]
  },
  {
   "cell_type": "code",
   "execution_count": null,
   "metadata": {},
   "outputs": [],
   "source": [
    "# List of columns new order \n",
    "new_order =['id', 'title', 'tagline', 'release_date', 'genres', 'belongs_to_collection', \n",
    "            'original_language', 'budget_musd', 'revenue_musd', 'production_companies', 'production_countries', \n",
    "            'vote_count', 'vote_average', 'popularity', 'runtime', 'overview',\n",
    "            'spoken_languages', 'poster_path', 'cast', 'cast_size', 'director', 'crew_size']\n",
    "\n",
    "# Reorder DataFrame\n",
    "reordered_df = df[new_order]\n",
    "\n"
   ]
  },
  {
   "cell_type": "code",
   "execution_count": null,
   "metadata": {},
   "outputs": [],
   "source": [
    "reordered_df.reset_index(drop=True)"
   ]
  },
  {
   "cell_type": "code",
   "execution_count": null,
   "metadata": {},
   "outputs": [],
   "source": [
    "reordered_df.columns"
   ]
  },
  {
   "cell_type": "code",
   "execution_count": null,
   "metadata": {},
   "outputs": [],
   "source": [
    "reordered_df.to_csv(f\"/Users/gyauk/github/labs/IMBD_movie_analysis/Project1/data/processed/reordered_movies.csv\", index=False)"
   ]
  },
  {
   "cell_type": "code",
   "execution_count": null,
   "metadata": {},
   "outputs": [],
   "source": [
    "reordered_df.head()"
   ]
  },
  {
   "cell_type": "code",
   "execution_count": null,
   "metadata": {},
   "outputs": [],
   "source": [
    "reordered_df.columns"
   ]
  },
  {
   "cell_type": "markdown",
   "metadata": {},
   "source": [
    "### KPI Implementation & Analysis"
   ]
  },
  {
   "cell_type": "markdown",
   "metadata": {},
   "source": [
    "- highest revenue"
   ]
  },
  {
   "cell_type": "code",
   "execution_count": null,
   "metadata": {},
   "outputs": [],
   "source": [
    "def highest_revenue_movie(title,revenue_column):\n",
    "    max_row = reordered_df.loc[reordered_df[revenue_column].idxmax()]\n",
    "    return print(f'{max_row[title]} generated the most revenue of USD {max_row[revenue_column]}')\n",
    "\n",
    "highest_revenue_movie('title','revenue_musd')\n",
    "   "
   ]
  },
  {
   "cell_type": "markdown",
   "metadata": {},
   "source": [
    "- Highest Budget"
   ]
  },
  {
   "cell_type": "code",
   "execution_count": null,
   "metadata": {},
   "outputs": [],
   "source": [
    "def highest_budget_movie(title,budget_column):\n",
    "    # Find the row with the maximum revenue\n",
    "    max_row = reordered_df.loc[reordered_df[budget_column].idxmax()]\n",
    "    return print(f'{max_row[title]} had the highest budget of USD {max_row[budget_column]}')\n",
    "\n",
    "highest_budget_movie('title','revenue_musd')"
   ]
  },
  {
   "cell_type": "markdown",
   "metadata": {},
   "source": [
    "- Highest Profit (Revenue - Budget)\n",
    "\n"
   ]
  },
  {
   "cell_type": "code",
   "execution_count": null,
   "metadata": {},
   "outputs": [],
   "source": [
    "def highest_profit_movie(title,revenue_column,budget_column,profit_column):\n",
    "    # find the highest profiting movie is difference b/n revenue-budget\n",
    "     # Calculate profit and assign to new column profit\n",
    "    reordered_df['profit'] = reordered_df[revenue_column] - reordered_df[budget_column]\n",
    "\n",
    "    # Find the row with the highest profit\n",
    "    highest_profit_row = reordered_df.loc[reordered_df[profit_column].idxmax()]\n",
    "    \n",
    "    return print(f'{highest_profit_row[title]} had the highest profit of USD {highest_profit_row[profit_column]}') \n",
    "\n",
    "highest_profit_movie('title','revenue_musd','budget_musd','profit')\n"
   ]
  },
  {
   "cell_type": "markdown",
   "metadata": {},
   "source": [
    "- Lowest Profit (Revenue - Budget)\n"
   ]
  },
  {
   "cell_type": "code",
   "execution_count": null,
   "metadata": {},
   "outputs": [],
   "source": [
    "def lowest_profit_movie(title,revenue_column,budget_column,profit_column):\n",
    "    # find the highest revenue-budget\n",
    "     # Calculate profit\n",
    "    # reordered_df['low_profit'] =  reordered_df[budget_column]-reordered_df[revenue_column] \n",
    "\n",
    "    # Find the row with the highest profit\n",
    "    lowest_profit_row = reordered_df.loc[reordered_df[profit_column].idxmin()]\n",
    "    return print(f'{lowest_profit_row[title]} had the highest profit of USD {lowest_profit_row[profit_column]}') \n",
    "    \n",
    "lowest_profit_movie('title','revenue_musd','budget_musd','profit')\n"
   ]
  },
  {
   "cell_type": "markdown",
   "metadata": {},
   "source": [
    "- Highest ROI (Revenue / Budget) (only movies with Budget ≥ 10M) o Lowest ROI (only movies with Budget ≥ 10M)\n"
   ]
  },
  {
   "cell_type": "code",
   "execution_count": null,
   "metadata": {},
   "outputs": [],
   "source": [
    "def highest_roi(title,revenue_column,budget_column,roi_column):\n",
    "     df_roi_range = reordered_df[reordered_df[budget_column] >= 100]\n",
    "      # Calculate roi and plcae in roi column\n",
    "     df_roi_range['roi'] =  df_roi_range[revenue_column] / df_roi_range[budget_column]\n",
    "\n",
    "    # Find the row with the highest roi\n",
    "     highest_roi = df_roi_range.loc[df_roi_range[roi_column].idxmax()]\n",
    "    \n",
    "     return print(f'{highest_roi[title]} had the highest profit of USD {highest_roi[roi_column]}') \n",
    "highest_roi('title','revenue_musd','budget_musd','roi')\n",
    "\n"
   ]
  },
  {
   "cell_type": "markdown",
   "metadata": {},
   "source": [
    "- lowest ROI"
   ]
  },
  {
   "cell_type": "code",
   "execution_count": null,
   "metadata": {},
   "outputs": [],
   "source": [
    "def lowest_roi(title,revenue_column,budget_column,roi_column): \n",
    "      df_roi_range = reordered_df[reordered_df[budget_column] >= 100]    \n",
    "\n",
    "      df_roi_range['roi'] =  df_roi_range[revenue_column] / df_roi_range[budget_column]\n",
    "\n",
    "    # Find the row with the highest profit\n",
    "      lowest_ROI = df_roi_range.loc[df_roi_range['roi'].idxmin()]\n",
    "      return print(f'{lowest_ROI[title]} had the lowest roi of {lowest_ROI[roi_column]}')\n",
    "    \n",
    "lowest_roi('title','revenue_musd','budget_musd','roi')\n"
   ]
  },
  {
   "cell_type": "markdown",
   "metadata": {},
   "source": [
    "- Most Voted Movie"
   ]
  },
  {
   "cell_type": "code",
   "execution_count": null,
   "metadata": {},
   "outputs": [],
   "source": [
    "def most_voted(title,vote_column): \n",
    "    most_voted_df=reordered_df.loc[reordered_df[vote_column].idxmax()]\n",
    "    \n",
    "    return print(f'{most_voted_df[title]} was the most voted movie with {most_voted_df[vote_column]} votes.')\n",
    "\n",
    "most_voted('title','vote_count')"
   ]
  },
  {
   "cell_type": "markdown",
   "metadata": {},
   "source": [
    "- Highest Rated Movie"
   ]
  },
  {
   "cell_type": "code",
   "execution_count": null,
   "metadata": {},
   "outputs": [],
   "source": [
    "def highest_rated(title,vote_column,vote_average):\n",
    "     df_rated_range = reordered_df[reordered_df[vote_column] >= 10]\n",
    "     highest_rated_movie_df = df_rated_range.loc[df_rated_range[vote_average].idxmax()]    \n",
    "     return print(f'{highest_rated_movie_df[title]} was the most highest rated movie with {highest_rated_movie_df[vote_average]} ratings.')\n",
    "\n",
    "highest_rated('title','vote_count','vote_average')\n"
   ]
  },
  {
   "cell_type": "markdown",
   "metadata": {},
   "source": [
    "- Lowest Rated Movie"
   ]
  },
  {
   "cell_type": "code",
   "execution_count": null,
   "metadata": {},
   "outputs": [],
   "source": [
    "def lowest_rated(title,vote_column,vote_average):\n",
    "     df_rated_range = reordered_df[reordered_df[vote_column] >= 10]\n",
    "     lowest_rated_movie_df = df_rated_range.loc[df_rated_range[vote_average].idxmin()]\n",
    "     return print(f'{lowest_rated_movie_df[title]} was the lowest rated movie with {lowest_rated_movie_df[vote_average]} ratings.')\n",
    "     \n",
    "lowest_rated('title','vote_count','vote_average')    "
   ]
  },
  {
   "cell_type": "markdown",
   "metadata": {},
   "source": [
    "- Most Popular"
   ]
  },
  {
   "cell_type": "code",
   "execution_count": null,
   "metadata": {},
   "outputs": [],
   "source": [
    "def most_popular(title,popular_column):\n",
    "   mostpopular_df= reordered_df.loc[reordered_df[popular_column].idxmax()]\n",
    "   return print(f'{mostpopular_df[title]} was the most popular movie with popularity of {mostpopular_df[popular_column]}')\n",
    "\n",
    "most_popular('title','popularity')    \n"
   ]
  },
  {
   "cell_type": "markdown",
   "metadata": {},
   "source": [
    "### Advanced Movie Filtering & Search Queries"
   ]
  },
  {
   "cell_type": "markdown",
   "metadata": {},
   "source": [
    "- Search 1: Find the best-rated Science Fiction Action movies starring Bruce Willis (sorted by Rating - highest to lowest)"
   ]
  },
  {
   "cell_type": "code",
   "execution_count": null,
   "metadata": {},
   "outputs": [],
   "source": [
    "#filter by science fiction first \n",
    "specific_genres = ['Science Fiction', 'Action']\n",
    "filtered_genre_df = reordered_df[reordered_df['genres'].apply(lambda genres: any(genre['name'] in specific_genres for genre in genres))]\n",
    "filtered_genre_df\n",
    "\n",
    "#fileter by actor bruce willis\n",
    "filter_actor_df=filtered_genre_df[filtered_genre_df['cast'].apply(lambda cast: 'Robert' in cast)]\n",
    "filter_actor_df\n",
    "\n",
    "# Sort by the 'vote_average' column (rating) in descending order\n",
    "sorted_movies = filter_actor_df.sort_values(by='vote_average', ascending=False)\n",
    "\n",
    "# Select relevant columns to display\n",
    "best_rated_movies = sorted_movies[['id', 'title', 'vote_average', 'cast', 'genres']]\n",
    "\n",
    "# Display the best-rated movies\n",
    "print(best_rated_movies)"
   ]
  },
  {
   "cell_type": "markdown",
   "metadata": {},
   "source": [
    "- Search 2: Find movies starring Uma Thurman, directed by Quentin Tarantino (sorted by runtime - shortest to longest)."
   ]
  },
  {
   "cell_type": "code",
   "execution_count": null,
   "metadata": {},
   "outputs": [],
   "source": []
  },
  {
   "cell_type": "markdown",
   "metadata": {},
   "source": [
    "### Franchise vs. Standalone Movie Performance"
   ]
  },
  {
   "cell_type": "code",
   "execution_count": null,
   "metadata": {},
   "outputs": [],
   "source": [
    "# Create a new column to identify franchise vs standalone\n",
    "df['is_franchise'] = df['collection_name'].notna()\n",
    "\n",
    "# Group by franchise status and calculate mean revenue\n",
    "mean_revenue_comparison = df.groupby('is_franchise')['revenue_musd'].mean().reset_index()\n",
    "\n",
    "# Rename columns for clarity\n",
    "mean_revenue_comparison.columns = ['Is_Franchise', 'Mean_Revenue_musd']\n",
    "\n",
    "#Converting true/false to proper labels\n",
    "mean_revenue_comparison['Is_Franchise'] = mean_revenue_comparison['Is_Franchise'].map({\n",
    "    True: 'Franchise', \n",
    "    False: 'Standalone'\n",
    "})\n",
    "\n",
    "\n",
    "mean_revenue_comparison"
   ]
  },
  {
   "cell_type": "code",
   "execution_count": null,
   "metadata": {},
   "outputs": [],
   "source": [
    "df['roi'] =  df['revenue_musd'] / df['budget_musd']\n",
    "# Group by franchise status and calculate mean revenue\n",
    "median_roi_comparison = df.groupby('is_franchise')['roi'].median().reset_index()\n",
    "\n",
    "# Rename columns for clarity\n",
    "median_roi_comparison.columns = ['Is_Franchise', 'median_roi']\n",
    "\n",
    "# Optional: Convert True/False to readable labels\n",
    "median_roi_comparison['Is_Franchise'] = median_roi_comparison['Is_Franchise'].map({\n",
    "    True: 'Franchise', \n",
    "    False: 'Standalone'\n",
    "})\n",
    "\n",
    "median_roi_comparison"
   ]
  },
  {
   "cell_type": "markdown",
   "metadata": {},
   "source": [
    "mean budget raised"
   ]
  },
  {
   "cell_type": "code",
   "execution_count": null,
   "metadata": {},
   "outputs": [],
   "source": [
    "# Create a new column to identify franchise vs standalone\n",
    "df['is_franchise'] = df['collection_name'].notna()\n",
    "\n",
    "# Group by franchise status and calculate mean revenue\n",
    "mean_budget_comparison = df.groupby('is_franchise')['budget_musd'].mean().reset_index()\n",
    "\n",
    "# Rename columns for clarity\n",
    "mean_budget_comparison.columns = ['Is_Franchise', 'Mean_Budget_musd']\n",
    "\n",
    "#Converting true/false to proper labels\n",
    "mean_budget_comparison['Is_Franchise'] = mean_revenue_comparison['Is_Franchise'].map({\n",
    "    True: 'Franchise', \n",
    "    False: 'Standalone'\n",
    "})\n",
    "\n",
    "\n",
    "mean_budget_comparison"
   ]
  },
  {
   "cell_type": "markdown",
   "metadata": {},
   "source": [
    "Mean Popularity"
   ]
  },
  {
   "cell_type": "code",
   "execution_count": null,
   "metadata": {},
   "outputs": [],
   "source": [
    "# Create a new column to identify franchise vs standalone\n",
    "df['is_franchise'] = df['collection_name'].notna()\n",
    "\n",
    "# Group by franchise status and calculate mean revenue\n",
    "mean_popularity_comparison = df.groupby('is_franchise')['popularity'].mean().reset_index()\n",
    "\n",
    "# Rename columns for clarity\n",
    "mean_popularity_comparison.columns = ['Is_Franchise', 'Mean_popularity']\n",
    "\n",
    "# Optional: Convert True/False to readable labels\n",
    "mean_popularity_comparison['Is_Franchise'] = mean_popularity_comparison['Is_Franchise'].map({\n",
    "    True: 'Franchise', \n",
    "    False: 'Standalone'\n",
    "})\n",
    "\n",
    "mean_popularity_comparison"
   ]
  },
  {
   "cell_type": "markdown",
   "metadata": {},
   "source": [
    "Mean rating"
   ]
  },
  {
   "cell_type": "code",
   "execution_count": null,
   "metadata": {},
   "outputs": [],
   "source": [
    "# Create a new column to identify franchise vs standalone\n",
    "df['is_franchise'] = df['collection_name'].notna()\n",
    "\n",
    "# Group by franchise status and calculate mean revenue\n",
    "mean_popularity_comparison = df.groupby('is_franchise')['popularity'].mean().reset_index()\n",
    "\n",
    "# Rename columns for clarity\n",
    "mean_popularity_comparison.columns = ['Is_Franchise', 'Mean_popularity']\n",
    "\n",
    "# Optional: Convert True/False to readable labels\n",
    "mean_popularity_comparison['Is_Franchise'] = mean_popularity_comparison['Is_Franchise'].map({\n",
    "    True: 'Franchise', \n",
    "    False: 'Standalone'\n",
    "})\n",
    "\n",
    "# Display result\n",
    "mean_popularity_comparison"
   ]
  },
  {
   "cell_type": "markdown",
   "metadata": {},
   "source": [
    "-   mean rating"
   ]
  },
  {
   "cell_type": "code",
   "execution_count": null,
   "metadata": {},
   "outputs": [],
   "source": [
    "# Create a new column to identify franchise vs standalone\n",
    "df['is_franchise'] = df['collection_name'].notna()\n",
    "\n",
    "# Group by franchise status and calculate mean revenue\n",
    "mean_rating_comparison = df.groupby('is_franchise')['vote_average'].mean().reset_index()\n",
    "\n",
    "# Rename columns for clarity\n",
    "mean_rating_comparison.columns = ['Is_Franchise', 'Mean_vote_average']\n",
    "\n",
    "# Optional: Convert True/False to readable labels\n",
    "mean_rating_comparison['Is_Franchise'] = mean_rating_comparison['Is_Franchise'].map({\n",
    "    True: 'Franchise', \n",
    "    False: 'Standalone'\n",
    "})\n",
    "\n",
    "# Display result\n",
    "mean_rating_comparison"
   ]
  },
  {
   "cell_type": "markdown",
   "metadata": {},
   "source": [
    "### Most Successful Franchises & Directors"
   ]
  },
  {
   "cell_type": "code",
   "execution_count": null,
   "metadata": {},
   "outputs": [],
   "source": [
    "franchise_counts = df['collection_name'].value_counts()\n",
    "print('Most successful franchise is', franchise_counts.idxmax(),'with',franchise_counts.max(),'movies in a franchise')"
   ]
  },
  {
   "cell_type": "code",
   "execution_count": null,
   "metadata": {},
   "outputs": [],
   "source": [
    "Franchise_df= df.groupby('collection_name')\n",
    "Franchise_df.head()"
   ]
  },
  {
   "cell_type": "code",
   "execution_count": null,
   "metadata": {},
   "outputs": [],
   "source": [
    "franchise_summary = Franchise_df.agg(\n",
    "    movie_count=('id', 'count'),\n",
    "    total_budget=('budget_musd', 'sum'),\n",
    "    mean_budget=('budget_musd', 'mean'),\n",
    "    total_revenue=('revenue_musd', 'sum'),\n",
    "    mean_revenue=('revenue_musd', 'mean'),\n",
    "    mean_rating=('vote_average', 'mean')\n",
    "    \n",
    "    \n",
    ").reset_index()\n"
   ]
  },
  {
   "cell_type": "code",
   "execution_count": null,
   "metadata": {},
   "outputs": [],
   "source": [
    "franchise_summary"
   ]
  },
  {
   "cell_type": "code",
   "execution_count": null,
   "metadata": {},
   "outputs": [],
   "source": [
    "franchise_summary.to_csv(f\"/Users/gyauk/github/labs/IMBD_movie_analysis/Project1/data/processed/franchise.csv\", index=False)\n"
   ]
  },
  {
   "cell_type": "code",
   "execution_count": null,
   "metadata": {},
   "outputs": [],
   "source": [
    "def sort_most_successful_movieinfranchise(collection_name,column):\n",
    "     x=franchise_summary.sort_values(column)\n",
    "     #iloc to loc because it accesses a row by its index label\n",
    "     return print(f\"{x[collection_name].iloc[-1]} is the most sucessful movie franschise\")\n",
    "\n",
    "sort_most_successful_movieinfranchise('collection_name','movie_count')"
   ]
  },
  {
   "cell_type": "code",
   "execution_count": null,
   "metadata": {},
   "outputs": [],
   "source": [
    "def sort_total_budget(collection_name,column):\n",
    "    x=franchise_summary.sort_values(column)\n",
    "    return print(f\"{x[collection_name].iloc[-1]} is the most sucessful movie franschise\")\n",
    "\n",
    "\n",
    "\n",
    "sort_total_budget('collection_name','total_budget')\n",
    "\n"
   ]
  },
  {
   "cell_type": "code",
   "execution_count": null,
   "metadata": {},
   "outputs": [],
   "source": [
    "def sort_mean_budget(collection_name,column):\n",
    "    x=franchise_summary.sort_values(column)\n",
    "    return print(f\"{x[collection_name].iloc[-1]} is the most sucessful movie franschise\")\n",
    "\n",
    "\n",
    "sort_mean_budget('collection_name','mean_budget')\n",
    "\n"
   ]
  },
  {
   "cell_type": "code",
   "execution_count": null,
   "metadata": {},
   "outputs": [],
   "source": [
    "def sort_total_revenue(collection_name,column):\n",
    "  x=franchise_summary.sort_values(column)\n",
    "  return print(f\"{x[collection_name].iloc[-1]} is the most sucessful movie franschise\")\n",
    "\n",
    "\n",
    "sort_total_revenue('collection_name','total_revenue')\n",
    "\n"
   ]
  },
  {
   "cell_type": "code",
   "execution_count": null,
   "metadata": {},
   "outputs": [],
   "source": [
    "def sort_mean_revenue(collection_name,column):\n",
    "    x=franchise_summary.sort_values(column)\n",
    "    return print(f\"{x[collection_name].iloc[-1]} is the most sucessful movie franschise\")\n",
    "\n",
    "sort_total_budget('collection_name','mean_revenue')  "
   ]
  },
  {
   "cell_type": "code",
   "execution_count": null,
   "metadata": {},
   "outputs": [],
   "source": [
    "def sort_mean_rating(collection_name,column):\n",
    "    x=franchise_summary.sort_values(column)\n",
    "    return print(f\"{x[collection_name].iloc[-1]} is the most sucessful movie franschise\")\n",
    "\n",
    "sort_total_budget('collection_name','mean_rating')  "
   ]
  },
  {
   "cell_type": "code",
   "execution_count": null,
   "metadata": {},
   "outputs": [],
   "source": [
    "# franchise_budgets.head()"
   ]
  },
  {
   "cell_type": "code",
   "execution_count": null,
   "metadata": {},
   "outputs": [],
   "source": [
    "Franchise_director_df= reordered_df.groupby('director')\n",
    "Franchise_director_df.head()\n"
   ]
  },
  {
   "cell_type": "code",
   "execution_count": null,
   "metadata": {},
   "outputs": [],
   "source": [
    "franchise_director = Franchise_director_df.agg(\n",
    "    num_movies_directed=('id', 'count'),\n",
    "    total_revenue=('revenue_musd', 'sum'),\n",
    "    mean_rating=('vote_average', 'mean')\n",
    ").reset_index()\n"
   ]
  },
  {
   "cell_type": "code",
   "execution_count": null,
   "metadata": {},
   "outputs": [],
   "source": [
    "franchise_director\n",
    "franchise_director.to_csv(f\"/Users/gyauk/github/labs/IMBD_movie_analysis/Project1/data/processed/franchise_director.csv\", index=False)"
   ]
  },
  {
   "cell_type": "code",
   "execution_count": null,
   "metadata": {},
   "outputs": [],
   "source": [
    "def most_movies_directed(num_movies_directed,director_name):\n",
    "    x=franchise_director.sort_values(num_movies_directed)\n",
    "    return print(f'{x[director_name].iloc[-1]} has directed {x[num_movies_directed].iloc[-1]} movies.')\n",
    "\n",
    "most_movies_directed('num_movies_directed','director')"
   ]
  },
  {
   "cell_type": "code",
   "execution_count": null,
   "metadata": {},
   "outputs": [],
   "source": [
    "def most_successful_director_by_revenue(total_revenue,director_name):\n",
    "    x=franchise_director.sort_values(total_revenue)\n",
    "    return print(f'{x[director_name].iloc[-1]} is the most successful by generating an amount of USD {x[total_revenue].iloc[-1]} in revenue.')\n",
    "\n",
    "most_successful_director_by_revenue('total_revenue','director')"
   ]
  },
  {
   "cell_type": "code",
   "execution_count": null,
   "metadata": {},
   "outputs": [],
   "source": [
    "def successful_director_meanrating(mean_rating,director_name):\n",
    "    x=franchise_director.sort_values(mean_rating)\n",
    "    return print(f'{x[director_name].iloc[-1]} is the most successful by having a mean rating of {x[mean_rating].iloc[-1]}.')\n",
    "\n",
    "successful_director_meanrating('mean_rating','director')"
   ]
  },
  {
   "cell_type": "code",
   "execution_count": null,
   "metadata": {},
   "outputs": [],
   "source": [
    "reordered_df.to_csv('/Users/gyauk/github/labs/IMBD_movie_analysis/Project1/data/processed/reordered_movies.csv', index=False)\n"
   ]
  },
  {
   "cell_type": "markdown",
   "metadata": {},
   "source": [
    "### Data Visualization"
   ]
  },
  {
   "cell_type": "markdown",
   "metadata": {},
   "source": [
    "- Revenue vs. Budget Trends"
   ]
  },
  {
   "cell_type": "code",
   "execution_count": null,
   "metadata": {},
   "outputs": [],
   "source": [
    "# lineplot of Revenue vs. Budget Trends\n",
    "plt.figure(figsize=(10, 6))\n",
    "plt.scatter(data=reordered_df, x='budget_musd', y='revenue_musd')\n",
    "\n",
    "# Adding title and labels\n",
    "plt.title('Revenue vs. Budget Trends', fontsize=16)\n",
    "plt.xlabel('Budget  (USD millions)')\n",
    "plt.ylabel('Revenue (USD millions)')\n",
    "\n",
    "plt.show()"
   ]
  },
  {
   "cell_type": "markdown",
   "metadata": {},
   "source": [
    "- ROI Distribution by Genre"
   ]
  },
  {
   "cell_type": "code",
   "execution_count": null,
   "metadata": {},
   "outputs": [],
   "source": [
    "# df['franchise'] = df['franchise'].astype(str)\n",
    "plt.figure(figsize=(30, 15))\n",
    "sns.lineplot(x = 'genre_names', y = 'roi', data = df)\n",
    "plt.xticks(rotation=90)\n",
    "plt.show()\n",
    "\n"
   ]
  },
  {
   "cell_type": "markdown",
   "metadata": {},
   "source": [
    "- Popularity vs. Rating"
   ]
  },
  {
   "cell_type": "code",
   "execution_count": null,
   "metadata": {},
   "outputs": [],
   "source": [
    "# Scatter plot of Rating vs Popularity\n",
    "plt.figure(figsize=(10, 6))\n",
    "plt.scatter(data=df, x='popularity', y='vote_average', alpha=0.6, color='blue')\n",
    "\n",
    "# Adding title and labels\n",
    "plt.title('Popularity vs Movie Rating ')\n",
    "plt.xlabel('Popularity')\n",
    "plt.ylabel('Rating (vote_average)')\n",
    "\n",
    "plt.show()\n"
   ]
  },
  {
   "cell_type": "markdown",
   "metadata": {},
   "source": [
    "- Yearly Trends in Box Office Performance"
   ]
  },
  {
   "cell_type": "code",
   "execution_count": null,
   "metadata": {},
   "outputs": [],
   "source": [
    "# Add hue parameter to the pointplot to plot for each state\n",
    "reordered_df['release_year'] = reordered_df['release_date'].dt.year\n",
    "plt.figure(figsize=(15, 7)) # To resize the plot\n",
    "yearly_df = reordered_df.groupby('release_year').agg({\n",
    "        'revenue_musd': 'sum',\n",
    "        'budget_musd': 'sum'\n",
    "    }).reset_index()\n",
    "sns.pointplot(x='release_year', y='revenue_musd', data=yearly_df)\n",
    "plt.legend(bbox_to_anchor=(1, 1))\n",
    "plt.xticks(rotation=90)\n",
    "plt.show()"
   ]
  },
  {
   "cell_type": "markdown",
   "metadata": {},
   "source": [
    "- Comparison of Franchise vs. Standalone Success"
   ]
  },
  {
   "cell_type": "code",
   "execution_count": null,
   "metadata": {},
   "outputs": [],
   "source": [
    "# Group and calculate metrics\n",
    "franchise_group = df.groupby('is_franchise').agg({\n",
    "    'revenue_musd': 'mean',\n",
    "    'roi': 'median',\n",
    "    'popularity': 'mean',\n",
    "    'vote_average': 'mean'\n",
    "}).reset_index()\n",
    "\n",
    "# Rename franchise status\n",
    "franchise_group['is_franchise'] = franchise_group['is_franchise'].map({True: 'Franchise', False: 'Standalone'})\n",
    "\n",
    "# Transpose for desired legend\n",
    "franchise_group.set_index('is_franchise', inplace=True)\n",
    "franchise_group = franchise_group.T  \n",
    "# Plot\n",
    "plt.figure(figsize=(12, 7))\n",
    "franchise_group.plot(kind='bar')\n",
    "plt.title('Comparison of Franchise vs. Standalone Success')\n",
    "plt.ylabel('Average / Median Values')\n",
    "plt.xticks(rotation=0)\n",
    "plt.legend(title='Movie Type')  \n",
    "plt.show()\n",
    "\n"
   ]
  }
 ],
 "metadata": {
  "kernelspec": {
   "display_name": "vscodeenv",
   "language": "python",
   "name": "python3"
  },
  "language_info": {
   "codemirror_mode": {
    "name": "ipython",
    "version": 3
   },
   "file_extension": ".py",
   "mimetype": "text/x-python",
   "name": "python",
   "nbconvert_exporter": "python",
   "pygments_lexer": "ipython3",
   "version": "3.8.20"
  },
  "orig_nbformat": 4
 },
 "nbformat": 4,
 "nbformat_minor": 2
}
