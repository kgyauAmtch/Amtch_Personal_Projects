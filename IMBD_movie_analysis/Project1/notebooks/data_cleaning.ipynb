{
 "cells": [
  {
   "cell_type": "markdown",
   "metadata": {},
   "source": [
    "### Fetching the data"
   ]
  },
  {
   "cell_type": "code",
   "execution_count": 1,
   "metadata": {},
   "outputs": [],
   "source": [
    "import sys\n",
    "import os\n",
    "\n",
    "# Add parent directory (where 'src' is located) to the Python path\n",
    "sys.path.append(os.path.abspath(os.path.join(os.getcwd(), '..')))"
   ]
  },
  {
   "cell_type": "code",
   "execution_count": 2,
   "metadata": {},
   "outputs": [],
   "source": [
    "from src import datacleaning_prep as dcp\n",
    "from src import franchise_analysis as franch\n",
    "from src import kpi_analysis as kpi\n",
    "from src import visualisation as visn"
   ]
  },
  {
   "cell_type": "code",
   "execution_count": 3,
   "metadata": {},
   "outputs": [],
   "source": [
    "import pandas as pd\n",
    "import numpy as np\n",
    "import ast\n",
    "import seaborn as sns\n",
    "import matplotlib.pyplot as plt"
   ]
  },
  {
   "cell_type": "code",
   "execution_count": 4,
   "metadata": {},
   "outputs": [],
   "source": [
    "file_path='/Users/gyauk/github/labs/IMBD_movie_analysis/Project1/data/raw/movies.csv'\n",
    "df= dcp.load_data(file_path)\n"
   ]
  },
  {
   "cell_type": "code",
   "execution_count": 5,
   "metadata": {},
   "outputs": [
    {
     "data": {
      "text/plain": [
       "['adult',\n",
       " 'backdrop_path',\n",
       " 'belongs_to_collection',\n",
       " 'budget',\n",
       " 'genres',\n",
       " 'homepage',\n",
       " 'id',\n",
       " 'imdb_id',\n",
       " 'origin_country',\n",
       " 'original_language',\n",
       " 'original_title',\n",
       " 'overview',\n",
       " 'popularity',\n",
       " 'poster_path',\n",
       " 'production_companies',\n",
       " 'production_countries',\n",
       " 'release_date',\n",
       " 'revenue',\n",
       " 'runtime',\n",
       " 'spoken_languages',\n",
       " 'status',\n",
       " 'tagline',\n",
       " 'title',\n",
       " 'video',\n",
       " 'vote_average',\n",
       " 'vote_count',\n",
       " 'credits']"
      ]
     },
     "execution_count": 5,
     "metadata": {},
     "output_type": "execute_result"
    }
   ],
   "source": [
    "df.columns.to_list()\n"
   ]
  },
  {
   "cell_type": "markdown",
   "metadata": {},
   "source": [
    "## Data Preparation & Cleaning"
   ]
  },
  {
   "cell_type": "markdown",
   "metadata": {},
   "source": [
    "### Drop Irrelevant Columns"
   ]
  },
  {
   "cell_type": "code",
   "execution_count": 6,
   "metadata": {},
   "outputs": [
    {
     "data": {
      "text/html": [
       "<div>\n",
       "<style scoped>\n",
       "    .dataframe tbody tr th:only-of-type {\n",
       "        vertical-align: middle;\n",
       "    }\n",
       "\n",
       "    .dataframe tbody tr th {\n",
       "        vertical-align: top;\n",
       "    }\n",
       "\n",
       "    .dataframe thead th {\n",
       "        text-align: right;\n",
       "    }\n",
       "</style>\n",
       "<table border=\"1\" class=\"dataframe\">\n",
       "  <thead>\n",
       "    <tr style=\"text-align: right;\">\n",
       "      <th></th>\n",
       "      <th>backdrop_path</th>\n",
       "      <th>belongs_to_collection</th>\n",
       "      <th>budget</th>\n",
       "      <th>genres</th>\n",
       "      <th>id</th>\n",
       "      <th>origin_country</th>\n",
       "      <th>original_language</th>\n",
       "      <th>overview</th>\n",
       "      <th>popularity</th>\n",
       "      <th>poster_path</th>\n",
       "      <th>...</th>\n",
       "      <th>release_date</th>\n",
       "      <th>revenue</th>\n",
       "      <th>runtime</th>\n",
       "      <th>spoken_languages</th>\n",
       "      <th>status</th>\n",
       "      <th>tagline</th>\n",
       "      <th>title</th>\n",
       "      <th>vote_average</th>\n",
       "      <th>vote_count</th>\n",
       "      <th>credits</th>\n",
       "    </tr>\n",
       "  </thead>\n",
       "  <tbody>\n",
       "    <tr>\n",
       "      <th>0</th>\n",
       "      <td>/7RyHsO4yDXtBv1zUU3mTpHeQ0d5.jpg</td>\n",
       "      <td>{'id': 86311, 'name': 'The Avengers Collection...</td>\n",
       "      <td>356000000</td>\n",
       "      <td>[{'id': 12, 'name': 'Adventure'}, {'id': 878, ...</td>\n",
       "      <td>299534</td>\n",
       "      <td>['US']</td>\n",
       "      <td>en</td>\n",
       "      <td>After the devastating events of Avengers: Infi...</td>\n",
       "      <td>24.2346</td>\n",
       "      <td>/ulzhLuWrPK07P1YkdWQLZnQh1JL.jpg</td>\n",
       "      <td>...</td>\n",
       "      <td>2019-04-24</td>\n",
       "      <td>2799439100</td>\n",
       "      <td>181</td>\n",
       "      <td>[{'english_name': 'English', 'iso_639_1': 'en'...</td>\n",
       "      <td>Released</td>\n",
       "      <td>Avenge the fallen.</td>\n",
       "      <td>Avengers: Endgame</td>\n",
       "      <td>8.238</td>\n",
       "      <td>26214</td>\n",
       "      <td>{'cast': [{'adult': False, 'gender': 2, 'id': ...</td>\n",
       "    </tr>\n",
       "    <tr>\n",
       "      <th>1</th>\n",
       "      <td>/vL5LR6WdxWPjLPFRLe133jXWsh5.jpg</td>\n",
       "      <td>{'id': 87096, 'name': 'Avatar Collection', 'po...</td>\n",
       "      <td>237000000</td>\n",
       "      <td>[{'id': 28, 'name': 'Action'}, {'id': 12, 'nam...</td>\n",
       "      <td>19995</td>\n",
       "      <td>['US']</td>\n",
       "      <td>en</td>\n",
       "      <td>In the 22nd century, a paraplegic Marine is di...</td>\n",
       "      <td>32.6950</td>\n",
       "      <td>/kyeqWdyUXW608qlYkRqosgbbJyK.jpg</td>\n",
       "      <td>...</td>\n",
       "      <td>2009-12-15</td>\n",
       "      <td>2923706026</td>\n",
       "      <td>162</td>\n",
       "      <td>[{'english_name': 'English', 'iso_639_1': 'en'...</td>\n",
       "      <td>Released</td>\n",
       "      <td>Enter the world of Pandora.</td>\n",
       "      <td>Avatar</td>\n",
       "      <td>7.588</td>\n",
       "      <td>32121</td>\n",
       "      <td>{'cast': [{'adult': False, 'gender': 2, 'id': ...</td>\n",
       "    </tr>\n",
       "    <tr>\n",
       "      <th>2</th>\n",
       "      <td>/k6EOrckWFuz7I4z4wiRwz8zsj4H.jpg</td>\n",
       "      <td>{'id': 10, 'name': 'Star Wars Collection', 'po...</td>\n",
       "      <td>245000000</td>\n",
       "      <td>[{'id': 12, 'name': 'Adventure'}, {'id': 28, '...</td>\n",
       "      <td>140607</td>\n",
       "      <td>['US']</td>\n",
       "      <td>en</td>\n",
       "      <td>Thirty years after defeating the Galactic Empi...</td>\n",
       "      <td>13.1664</td>\n",
       "      <td>/wqnLdwVXoBjKibFRR5U3y0aDUhs.jpg</td>\n",
       "      <td>...</td>\n",
       "      <td>2015-12-15</td>\n",
       "      <td>2068223624</td>\n",
       "      <td>136</td>\n",
       "      <td>[{'english_name': 'English', 'iso_639_1': 'en'...</td>\n",
       "      <td>Released</td>\n",
       "      <td>Every generation has a story.</td>\n",
       "      <td>Star Wars: The Force Awakens</td>\n",
       "      <td>7.262</td>\n",
       "      <td>19667</td>\n",
       "      <td>{'cast': [{'adult': False, 'gender': 2, 'id': ...</td>\n",
       "    </tr>\n",
       "    <tr>\n",
       "      <th>3</th>\n",
       "      <td>/mDfJG3LC3Dqb67AZ52x3Z0jU0uB.jpg</td>\n",
       "      <td>{'id': 86311, 'name': 'The Avengers Collection...</td>\n",
       "      <td>300000000</td>\n",
       "      <td>[{'id': 12, 'name': 'Adventure'}, {'id': 28, '...</td>\n",
       "      <td>299536</td>\n",
       "      <td>['US']</td>\n",
       "      <td>en</td>\n",
       "      <td>As the Avengers and their allies have continue...</td>\n",
       "      <td>33.0700</td>\n",
       "      <td>/7WsyChQLEftFiDOVTGkv3hFpyyt.jpg</td>\n",
       "      <td>...</td>\n",
       "      <td>2018-04-25</td>\n",
       "      <td>2052415039</td>\n",
       "      <td>149</td>\n",
       "      <td>[{'english_name': 'English', 'iso_639_1': 'en'...</td>\n",
       "      <td>Released</td>\n",
       "      <td>Destiny arrives all the same.</td>\n",
       "      <td>Avengers: Infinity War</td>\n",
       "      <td>8.236</td>\n",
       "      <td>30391</td>\n",
       "      <td>{'cast': [{'adult': False, 'gender': 2, 'id': ...</td>\n",
       "    </tr>\n",
       "    <tr>\n",
       "      <th>4</th>\n",
       "      <td>/sCzcYW9h55WcesOqA12cgEr9Exw.jpg</td>\n",
       "      <td>NaN</td>\n",
       "      <td>200000000</td>\n",
       "      <td>[{'id': 18, 'name': 'Drama'}, {'id': 10749, 'n...</td>\n",
       "      <td>597</td>\n",
       "      <td>['US']</td>\n",
       "      <td>en</td>\n",
       "      <td>101-year-old Rose DeWitt Bukater tells the sto...</td>\n",
       "      <td>38.6063</td>\n",
       "      <td>/9xjZS2rlVxm8SFx8kPC3aIGCOYQ.jpg</td>\n",
       "      <td>...</td>\n",
       "      <td>1997-11-18</td>\n",
       "      <td>2264162353</td>\n",
       "      <td>194</td>\n",
       "      <td>[{'english_name': 'English', 'iso_639_1': 'en'...</td>\n",
       "      <td>Released</td>\n",
       "      <td>Nothing on Earth could come between them.</td>\n",
       "      <td>Titanic</td>\n",
       "      <td>7.905</td>\n",
       "      <td>25869</td>\n",
       "      <td>{'cast': [{'adult': False, 'gender': 2, 'id': ...</td>\n",
       "    </tr>\n",
       "  </tbody>\n",
       "</table>\n",
       "<p>5 rows × 22 columns</p>\n",
       "</div>"
      ],
      "text/plain": [
       "                      backdrop_path  \\\n",
       "0  /7RyHsO4yDXtBv1zUU3mTpHeQ0d5.jpg   \n",
       "1  /vL5LR6WdxWPjLPFRLe133jXWsh5.jpg   \n",
       "2  /k6EOrckWFuz7I4z4wiRwz8zsj4H.jpg   \n",
       "3  /mDfJG3LC3Dqb67AZ52x3Z0jU0uB.jpg   \n",
       "4  /sCzcYW9h55WcesOqA12cgEr9Exw.jpg   \n",
       "\n",
       "                               belongs_to_collection     budget  \\\n",
       "0  {'id': 86311, 'name': 'The Avengers Collection...  356000000   \n",
       "1  {'id': 87096, 'name': 'Avatar Collection', 'po...  237000000   \n",
       "2  {'id': 10, 'name': 'Star Wars Collection', 'po...  245000000   \n",
       "3  {'id': 86311, 'name': 'The Avengers Collection...  300000000   \n",
       "4                                                NaN  200000000   \n",
       "\n",
       "                                              genres      id origin_country  \\\n",
       "0  [{'id': 12, 'name': 'Adventure'}, {'id': 878, ...  299534         ['US']   \n",
       "1  [{'id': 28, 'name': 'Action'}, {'id': 12, 'nam...   19995         ['US']   \n",
       "2  [{'id': 12, 'name': 'Adventure'}, {'id': 28, '...  140607         ['US']   \n",
       "3  [{'id': 12, 'name': 'Adventure'}, {'id': 28, '...  299536         ['US']   \n",
       "4  [{'id': 18, 'name': 'Drama'}, {'id': 10749, 'n...     597         ['US']   \n",
       "\n",
       "  original_language                                           overview  \\\n",
       "0                en  After the devastating events of Avengers: Infi...   \n",
       "1                en  In the 22nd century, a paraplegic Marine is di...   \n",
       "2                en  Thirty years after defeating the Galactic Empi...   \n",
       "3                en  As the Avengers and their allies have continue...   \n",
       "4                en  101-year-old Rose DeWitt Bukater tells the sto...   \n",
       "\n",
       "   popularity                       poster_path  ... release_date     revenue  \\\n",
       "0     24.2346  /ulzhLuWrPK07P1YkdWQLZnQh1JL.jpg  ...   2019-04-24  2799439100   \n",
       "1     32.6950  /kyeqWdyUXW608qlYkRqosgbbJyK.jpg  ...   2009-12-15  2923706026   \n",
       "2     13.1664  /wqnLdwVXoBjKibFRR5U3y0aDUhs.jpg  ...   2015-12-15  2068223624   \n",
       "3     33.0700  /7WsyChQLEftFiDOVTGkv3hFpyyt.jpg  ...   2018-04-25  2052415039   \n",
       "4     38.6063  /9xjZS2rlVxm8SFx8kPC3aIGCOYQ.jpg  ...   1997-11-18  2264162353   \n",
       "\n",
       "  runtime                                   spoken_languages    status  \\\n",
       "0     181  [{'english_name': 'English', 'iso_639_1': 'en'...  Released   \n",
       "1     162  [{'english_name': 'English', 'iso_639_1': 'en'...  Released   \n",
       "2     136  [{'english_name': 'English', 'iso_639_1': 'en'...  Released   \n",
       "3     149  [{'english_name': 'English', 'iso_639_1': 'en'...  Released   \n",
       "4     194  [{'english_name': 'English', 'iso_639_1': 'en'...  Released   \n",
       "\n",
       "                                     tagline                         title  \\\n",
       "0                         Avenge the fallen.             Avengers: Endgame   \n",
       "1                Enter the world of Pandora.                        Avatar   \n",
       "2              Every generation has a story.  Star Wars: The Force Awakens   \n",
       "3              Destiny arrives all the same.        Avengers: Infinity War   \n",
       "4  Nothing on Earth could come between them.                       Titanic   \n",
       "\n",
       "  vote_average vote_count                                            credits  \n",
       "0        8.238      26214  {'cast': [{'adult': False, 'gender': 2, 'id': ...  \n",
       "1        7.588      32121  {'cast': [{'adult': False, 'gender': 2, 'id': ...  \n",
       "2        7.262      19667  {'cast': [{'adult': False, 'gender': 2, 'id': ...  \n",
       "3        8.236      30391  {'cast': [{'adult': False, 'gender': 2, 'id': ...  \n",
       "4        7.905      25869  {'cast': [{'adult': False, 'gender': 2, 'id': ...  \n",
       "\n",
       "[5 rows x 22 columns]"
      ]
     },
     "execution_count": 6,
     "metadata": {},
     "output_type": "execute_result"
    }
   ],
   "source": [
    "df= df.drop(columns =['adult', 'imdb_id', 'original_title', 'video', 'homepage'])\n",
    "df.head()\n"
   ]
  },
  {
   "cell_type": "code",
   "execution_count": 7,
   "metadata": {},
   "outputs": [
    {
     "name": "stdout",
     "output_type": "stream",
     "text": [
      "backdrop_path: <class 'str'>\n",
      "belongs_to_collection: <class 'str'>\n",
      "budget: <class 'numpy.int64'>\n",
      "genres: <class 'str'>\n",
      "id: <class 'numpy.int64'>\n",
      "origin_country: <class 'str'>\n",
      "original_language: <class 'str'>\n",
      "overview: <class 'str'>\n",
      "popularity: <class 'numpy.float64'>\n",
      "poster_path: <class 'str'>\n",
      "production_companies: <class 'str'>\n",
      "production_countries: <class 'str'>\n",
      "release_date: <class 'str'>\n",
      "revenue: <class 'numpy.int64'>\n",
      "runtime: <class 'numpy.int64'>\n",
      "spoken_languages: <class 'str'>\n",
      "status: <class 'str'>\n",
      "tagline: <class 'str'>\n",
      "title: <class 'str'>\n",
      "vote_average: <class 'numpy.float64'>\n",
      "vote_count: <class 'numpy.int64'>\n",
      "credits: <class 'str'>\n"
     ]
    }
   ],
   "source": [
    "for col in df.columns:\n",
    "    print(f\"{col}: {type(df[col].iloc[0])}\")"
   ]
  },
  {
   "cell_type": "markdown",
   "metadata": {},
   "source": [
    "### Evaluate JSON Like column"
   ]
  },
  {
   "cell_type": "code",
   "execution_count": 8,
   "metadata": {},
   "outputs": [],
   "source": [
    "# #Function to convert a string like items to actual python objects which could be list or dictionary \n",
    "# def evaluate_json_column(column):\n",
    "#     try:\n",
    "#         # checks if value is na otherwise converts to object\n",
    "#         return ast.literal_eval(column) if pd.notna(column) else {}\n",
    "#     except (ValueError, SyntaxError):\n",
    "#         return {}\n",
    "\n",
    "json_columns = ['belongs_to_collection', 'genres', 'production_countries','production_companies', 'spoken_languages','credits']\n",
    "\n",
    "# applies the function to the affected columns\n",
    "# for col in json_columns:\n",
    "#     df[col] = df[col].apply(dcp.convert_json_columns)\n",
    "\n",
    "\n",
    "# df.head()\n",
    "\n",
    "df = dcp.convert_json_columns(df, json_columns)"
   ]
  },
  {
   "cell_type": "code",
   "execution_count": 9,
   "metadata": {},
   "outputs": [
    {
     "name": "stdout",
     "output_type": "stream",
     "text": [
      "backdrop_path: <class 'str'>\n",
      "belongs_to_collection: <class 'dict'>\n",
      "budget: <class 'numpy.int64'>\n",
      "genres: <class 'list'>\n",
      "id: <class 'numpy.int64'>\n",
      "origin_country: <class 'str'>\n",
      "original_language: <class 'str'>\n",
      "overview: <class 'str'>\n",
      "popularity: <class 'numpy.float64'>\n",
      "poster_path: <class 'str'>\n",
      "production_companies: <class 'list'>\n",
      "production_countries: <class 'list'>\n",
      "release_date: <class 'str'>\n",
      "revenue: <class 'numpy.int64'>\n",
      "runtime: <class 'numpy.int64'>\n",
      "spoken_languages: <class 'list'>\n",
      "status: <class 'str'>\n",
      "tagline: <class 'str'>\n",
      "title: <class 'str'>\n",
      "vote_average: <class 'numpy.float64'>\n",
      "vote_count: <class 'numpy.int64'>\n",
      "credits: <class 'dict'>\n"
     ]
    }
   ],
   "source": [
    "#checking if above cell worked \n",
    "for col in df.columns:\n",
    "    print(f\"{col}: {type(df[col].iloc[0])}\")"
   ]
  },
  {
   "cell_type": "code",
   "execution_count": 10,
   "metadata": {},
   "outputs": [
    {
     "data": {
      "text/plain": [
       "Index(['backdrop_path', 'belongs_to_collection', 'budget', 'genres', 'id',\n",
       "       'origin_country', 'original_language', 'overview', 'popularity',\n",
       "       'poster_path', 'production_companies', 'production_countries',\n",
       "       'release_date', 'revenue', 'runtime', 'spoken_languages', 'status',\n",
       "       'tagline', 'title', 'vote_average', 'vote_count', 'credits'],\n",
       "      dtype='object')"
      ]
     },
     "execution_count": 10,
     "metadata": {},
     "output_type": "execute_result"
    }
   ],
   "source": [
    "df.columns\n"
   ]
  },
  {
   "cell_type": "markdown",
   "metadata": {},
   "source": [
    "### Extract and clean key data points"
   ]
  },
  {
   "cell_type": "code",
   "execution_count": 11,
   "metadata": {},
   "outputs": [],
   "source": [
    "# # function to extract name from the  dictionary in the column \n",
    "# def extract_collection_name(value):\n",
    "#     try:\n",
    "#         if pd.notnull(value) and isinstance(value, dict):\n",
    "#             return value.get('name')\n",
    "#     except (ValueError, SyntaxError):\n",
    "#         return None\n",
    "\n",
    "# Apply function to the column\n",
    "df['collection_name'] = df['belongs_to_collection'].apply(dcp.extract_collection_name)\n"
   ]
  },
  {
   "cell_type": "code",
   "execution_count": 12,
   "metadata": {},
   "outputs": [
    {
     "data": {
      "text/plain": [
       "'The Avengers Collection'"
      ]
     },
     "execution_count": 12,
     "metadata": {},
     "output_type": "execute_result"
    }
   ],
   "source": [
    "df['collection_name'][0]"
   ]
  },
  {
   "cell_type": "code",
   "execution_count": 13,
   "metadata": {},
   "outputs": [
    {
     "data": {
      "text/plain": [
       "[{'id': 12, 'name': 'Adventure'},\n",
       " {'id': 878, 'name': 'Science Fiction'},\n",
       " {'id': 28, 'name': 'Action'}]"
      ]
     },
     "execution_count": 13,
     "metadata": {},
     "output_type": "execute_result"
    }
   ],
   "source": [
    "df['genres'][0]\n"
   ]
  },
  {
   "cell_type": "code",
   "execution_count": 14,
   "metadata": {},
   "outputs": [
    {
     "data": {
      "text/plain": [
       "0                                      English | 日本語 | \n",
       "1                                     English | Español\n",
       "2                                               English\n",
       "3                                            English | \n",
       "4     English | Français | Deutsch | svenska | Itali...\n",
       "5                                               English\n",
       "6                                               English\n",
       "7                            English | हिन्दी | Pусский\n",
       "8                 العربية | English | Español | ภาษาไทย\n",
       "9                                               English\n",
       "10                     English | 한국어/조선말 | Kiswahili | \n",
       "11                                              English\n",
       "12                                              English\n",
       "13                                              English\n",
       "14                                    English | Pусский\n",
       "15                                              English\n",
       "16                                   English | Français\n",
       "17                                              English\n",
       "Name: original_language, dtype: object"
      ]
     },
     "execution_count": 14,
     "metadata": {},
     "output_type": "execute_result"
    }
   ],
   "source": [
    "# #separate the mutliple keys called name in the dictionary with '|'\n",
    "# def break_data_points(df, init_column, new_column):\n",
    "#   df[new_column] = df[init_column].apply(lambda x: ' | '.join(d['name'] for d in x) if isinstance(x, list) else None)\n",
    "#   return df[new_column]\n",
    "      \n",
    "    \n",
    "dcp.break_data_points(df,'genres','genre_names')\n",
    "dcp.break_data_points(df, 'production_countries', 'cld_production_countries')\n",
    "dcp.break_data_points(df, 'production_companies', 'cld_production_companies')\n",
    "dcp.break_data_points(df, 'spoken_languages', 'original_language')\n",
    "\n"
   ]
  },
  {
   "cell_type": "code",
   "execution_count": 15,
   "metadata": {},
   "outputs": [],
   "source": [
    "# Extract and add new columns\n",
    "df['cast'] = df['credits'].apply(lambda x: ' | '.join(dcp.extract_cast_names(x)))\n",
    "df['crew'] = df['credits'].apply(lambda x: ' | '.join(dcp.extract_crew_names(x)))\n",
    "df['director'] = df['credits'].apply(dcp.extract_director)\n",
    "df['cast_size'] = df['credits'].apply(lambda x: len(x.get('cast', [])))\n",
    "df['crew_size'] = df['credits'].apply(lambda x: len(x.get('crew', [])))\n"
   ]
  },
  {
   "cell_type": "code",
   "execution_count": 16,
   "metadata": {},
   "outputs": [
    {
     "data": {
      "text/plain": [
       "0    593\n",
       "1    986\n",
       "2    257\n",
       "3    724\n",
       "4    258\n",
       "Name: crew_size, dtype: int64"
      ]
     },
     "execution_count": 16,
     "metadata": {},
     "output_type": "execute_result"
    }
   ],
   "source": [
    "df['cast'].head()\n",
    "df['crew'].head()\n",
    "df['director'].head()\n",
    "df['cast_size'].head()\n",
    "df['crew_size'].head()"
   ]
  },
  {
   "cell_type": "code",
   "execution_count": 17,
   "metadata": {},
   "outputs": [
    {
     "data": {
      "text/plain": [
       "Index(['backdrop_path', 'belongs_to_collection', 'budget', 'genres', 'id',\n",
       "       'origin_country', 'original_language', 'overview', 'popularity',\n",
       "       'poster_path', 'production_companies', 'production_countries',\n",
       "       'release_date', 'revenue', 'runtime', 'spoken_languages', 'status',\n",
       "       'tagline', 'title', 'vote_average', 'vote_count', 'credits',\n",
       "       'collection_name', 'genre_names', 'cld_production_countries',\n",
       "       'cld_production_companies', 'cast', 'crew', 'director', 'cast_size',\n",
       "       'crew_size'],\n",
       "      dtype='object')"
      ]
     },
     "execution_count": 17,
     "metadata": {},
     "output_type": "execute_result"
    }
   ],
   "source": [
    "df.columns\n",
    "\n"
   ]
  },
  {
   "cell_type": "markdown",
   "metadata": {},
   "source": [
    "### Identify Anomalies with value_count()"
   ]
  },
  {
   "cell_type": "code",
   "execution_count": 18,
   "metadata": {},
   "outputs": [],
   "source": [
    "# # function to pick the value_counts of each specified column\n",
    "# def get_value_counts(df, column):\n",
    "#     return df[column].value_counts()\n",
    "    "
   ]
  },
  {
   "cell_type": "code",
   "execution_count": 19,
   "metadata": {},
   "outputs": [
    {
     "data": {
      "text/plain": [
       "genre_names\n",
       "Adventure | Action | Science Fiction                 3\n",
       "Action | Adventure | Science Fiction | Thriller      2\n",
       "Action | Adventure | Science Fiction                 2\n",
       "Adventure | Science Fiction | Action                 1\n",
       "Action | Adventure | Fantasy | Science Fiction       1\n",
       "Drama | Romance                                      1\n",
       "Adventure | Drama | Family | Animation               1\n",
       "Science Fiction | Action | Adventure                 1\n",
       "Action | Thriller | Crime                            1\n",
       "Fantasy | Adventure                                  1\n",
       "Family | Animation | Adventure | Comedy | Fantasy    1\n",
       "Animation | Family | Adventure | Fantasy             1\n",
       "Family | Fantasy | Romance                           1\n",
       "Action | Adventure | Animation | Family              1\n",
       "Name: count, dtype: int64"
      ]
     },
     "execution_count": 19,
     "metadata": {},
     "output_type": "execute_result"
    }
   ],
   "source": [
    "dcp.get_value_counts(df, 'genre_names')"
   ]
  },
  {
   "cell_type": "code",
   "execution_count": 20,
   "metadata": {},
   "outputs": [
    {
     "data": {
      "text/plain": [
       "cld_production_countries\n",
       "United States of America                     16\n",
       "United States of America | United Kingdom     1\n",
       "United Kingdom | United States of America     1\n",
       "Name: count, dtype: int64"
      ]
     },
     "execution_count": 20,
     "metadata": {},
     "output_type": "execute_result"
    }
   ],
   "source": [
    "dcp.get_value_counts(df, 'cld_production_countries')"
   ]
  },
  {
   "cell_type": "code",
   "execution_count": 21,
   "metadata": {},
   "outputs": [
    {
     "data": {
      "text/plain": [
       "original_language\n",
       "English                                                        9\n",
       "English | 日本語 |                                                1\n",
       "English | Español                                              1\n",
       "English |                                                      1\n",
       "English | Français | Deutsch | svenska | Italiano | Pусский    1\n",
       "English | हिन्दी | Pусский                                     1\n",
       "العربية | English | Español | ภาษาไทย                          1\n",
       "English | 한국어/조선말 | Kiswahili |                                1\n",
       "English | Pусский                                              1\n",
       "English | Français                                             1\n",
       "Name: count, dtype: int64"
      ]
     },
     "execution_count": 21,
     "metadata": {},
     "output_type": "execute_result"
    }
   ],
   "source": [
    "dcp.get_value_counts(df, 'original_language')"
   ]
  },
  {
   "cell_type": "code",
   "execution_count": 22,
   "metadata": {},
   "outputs": [],
   "source": [
    "# # \n",
    "# def normalize_anomalies(genre_string):\n",
    "#     # converts the split genres names to a list and sorts them and returns them to have them be unique\n",
    "#     genres = list(genrestring.strip() for genrestring in genre_string.split('|'))\n",
    "#     sorted_genres = sorted(genres)\n",
    "#     return ' | '.join(sorted_genres)\n",
    "\n",
    "df['genre_names']= df['genre_names'].apply(dcp.normalize_anomalies)\n",
    "df['cld_production_countries']= df['cld_production_countries'].apply(dcp.normalize_anomalies)\n",
    "df['cld_production_companies']= df['cld_production_companies'].apply(dcp.normalize_anomalies)\n",
    "df['original_language']= df['original_language'].apply(dcp.normalize_anomalies)\n",
    "\n"
   ]
  },
  {
   "cell_type": "markdown",
   "metadata": {},
   "source": [
    "### testing anomalies"
   ]
  },
  {
   "cell_type": "code",
   "execution_count": 23,
   "metadata": {},
   "outputs": [
    {
     "data": {
      "text/plain": [
       "genre_names\n",
       "Action | Adventure | Science Fiction                 7\n",
       "Action | Adventure | Science Fiction | Thriller      2\n",
       "Action | Adventure | Fantasy | Science Fiction       1\n",
       "Drama | Romance                                      1\n",
       "Adventure | Animation | Drama | Family               1\n",
       "Action | Crime | Thriller                            1\n",
       "Adventure | Fantasy                                  1\n",
       "Adventure | Animation | Comedy | Family | Fantasy    1\n",
       "Adventure | Animation | Family | Fantasy             1\n",
       "Family | Fantasy | Romance                           1\n",
       "Action | Adventure | Animation | Family              1\n",
       "Name: count, dtype: int64"
      ]
     },
     "execution_count": 23,
     "metadata": {},
     "output_type": "execute_result"
    }
   ],
   "source": [
    "df['genre_names'].value_counts()"
   ]
  },
  {
   "cell_type": "code",
   "execution_count": 24,
   "metadata": {},
   "outputs": [
    {
     "data": {
      "text/plain": [
       "cld_production_countries\n",
       "United States of America                     16\n",
       "United Kingdom | United States of America     2\n",
       "Name: count, dtype: int64"
      ]
     },
     "execution_count": 24,
     "metadata": {},
     "output_type": "execute_result"
    }
   ],
   "source": [
    "df['cld_production_countries'].value_counts()\n"
   ]
  },
  {
   "cell_type": "code",
   "execution_count": 25,
   "metadata": {},
   "outputs": [
    {
     "data": {
      "text/plain": [
       "cld_production_companies\n",
       "Marvel Studios                                                                        5\n",
       "Amblin Entertainment | Universal Pictures                                             2\n",
       "Walt Disney Animation Studios | Walt Disney Pictures                                  2\n",
       "20th Century Fox | Dune Entertainment | Ingenious Media | Lightstorm Entertainment    1\n",
       "Bad Robot | Lucasfilm Ltd.                                                            1\n",
       "20th Century Fox | Lightstorm Entertainment | Paramount Pictures                      1\n",
       "Fairview Entertainment | Walt Disney Pictures                                         1\n",
       "One Race | Original Film | Universal Pictures                                         1\n",
       "Heyday Films | Warner Bros. Pictures                                                  1\n",
       "Lucasfilm Ltd.                                                                        1\n",
       "Mandeville Films | Walt Disney Pictures                                               1\n",
       "Pixar | Walt Disney Pictures                                                          1\n",
       "Name: count, dtype: int64"
      ]
     },
     "execution_count": 25,
     "metadata": {},
     "output_type": "execute_result"
    }
   ],
   "source": [
    "df['cld_production_companies'].value_counts()\n"
   ]
  },
  {
   "cell_type": "code",
   "execution_count": 26,
   "metadata": {},
   "outputs": [
    {
     "data": {
      "text/plain": [
       "original_language\n",
       "English                                                        9\n",
       " | English | 日本語                                               1\n",
       "English | Español                                              1\n",
       " | English                                                     1\n",
       "Deutsch | English | Français | Italiano | Pусский | svenska    1\n",
       "English | Pусский | हिन्दी                                     1\n",
       "English | Español | العربية | ภาษาไทย                          1\n",
       " | English | Kiswahili | 한국어/조선말                               1\n",
       "English | Pусский                                              1\n",
       "English | Français                                             1\n",
       "Name: count, dtype: int64"
      ]
     },
     "execution_count": 26,
     "metadata": {},
     "output_type": "execute_result"
    }
   ],
   "source": [
    "df['original_language'].value_counts()"
   ]
  },
  {
   "cell_type": "markdown",
   "metadata": {},
   "source": [
    "### Handling Missing & Incorrect Data"
   ]
  },
  {
   "cell_type": "code",
   "execution_count": 27,
   "metadata": {},
   "outputs": [
    {
     "name": "stdout",
     "output_type": "stream",
     "text": [
      "<class 'pandas.core.series.Series'>\n",
      "RangeIndex: 18 entries, 0 to 17\n",
      "Series name: id\n",
      "Non-Null Count  Dtype\n",
      "--------------  -----\n",
      "18 non-null     int64\n",
      "dtypes: int64(1)\n",
      "memory usage: 272.0 bytes\n",
      "<class 'pandas.core.series.Series'>\n",
      "RangeIndex: 18 entries, 0 to 17\n",
      "Series name: popularity\n",
      "Non-Null Count  Dtype  \n",
      "--------------  -----  \n",
      "18 non-null     float64\n",
      "dtypes: float64(1)\n",
      "memory usage: 272.0 bytes\n",
      "<class 'pandas.core.series.Series'>\n",
      "RangeIndex: 18 entries, 0 to 17\n",
      "Series name: budget\n",
      "Non-Null Count  Dtype\n",
      "--------------  -----\n",
      "18 non-null     int64\n",
      "dtypes: int64(1)\n",
      "memory usage: 272.0 bytes\n"
     ]
    }
   ],
   "source": [
    "dcp.convert_to_numeric(df, 'id')\n",
    "dcp.convert_to_numeric(df, 'popularity')\n",
    "dcp.convert_to_numeric(df,'budget')"
   ]
  },
  {
   "cell_type": "code",
   "execution_count": 28,
   "metadata": {},
   "outputs": [],
   "source": [
    "def convert_to_datetime(df,column):\n",
    "         df[column] = pd.to_datetime(df[column])\n",
    "         return df[column].info()"
   ]
  },
  {
   "cell_type": "code",
   "execution_count": 29,
   "metadata": {},
   "outputs": [
    {
     "name": "stdout",
     "output_type": "stream",
     "text": [
      "<class 'pandas.core.series.Series'>\n",
      "RangeIndex: 18 entries, 0 to 17\n",
      "Series name: release_date\n",
      "Non-Null Count  Dtype         \n",
      "--------------  -----         \n",
      "18 non-null     datetime64[ns]\n",
      "dtypes: datetime64[ns](1)\n",
      "memory usage: 272.0 bytes\n"
     ]
    }
   ],
   "source": [
    "dcp.convert_to_datetime(df,'release_date')"
   ]
  },
  {
   "cell_type": "markdown",
   "metadata": {},
   "source": [
    "### Replace unrealistic values:"
   ]
  },
  {
   "cell_type": "code",
   "execution_count": 30,
   "metadata": {},
   "outputs": [
    {
     "name": "stdout",
     "output_type": "stream",
     "text": [
      "No zero values found in column 'budget'.\n",
      "No zero values found in column 'revenue'.\n",
      "No zero values found in column 'runtime'.\n"
     ]
    }
   ],
   "source": [
    "dcp.check_zero_in_column(df, 'budget')\n",
    "dcp.check_zero_in_column(df, 'revenue')\n",
    "dcp.check_zero_in_column(df, 'runtime')\n"
   ]
  },
  {
   "cell_type": "markdown",
   "metadata": {},
   "source": [
    "- Convert Budget and Revenue to Million USD"
   ]
  },
  {
   "cell_type": "code",
   "execution_count": 31,
   "metadata": {},
   "outputs": [
    {
     "data": {
      "text/plain": [
       "0    2799.44\n",
       "1    2923.71\n",
       "2    2068.22\n",
       "3    2052.42\n",
       "4    2264.16\n",
       "Name: revenue_musd, dtype: float64"
      ]
     },
     "execution_count": 31,
     "metadata": {},
     "output_type": "execute_result"
    }
   ],
   "source": [
    "df['budget_musd'] = df['budget'] / 1_000_000\n",
    "df['revenue_musd'] = df['revenue']/ 1_000_000\n",
    "df['revenue_musd'] = df['revenue_musd'].round(2)\n",
    "df.drop(columns= ['budget','revenue'], inplace= True)\n",
    "\n",
    "df['budget_musd'].head()\n",
    "df['revenue_musd'].head()\n",
    "\n"
   ]
  },
  {
   "cell_type": "code",
   "execution_count": 32,
   "metadata": {},
   "outputs": [
    {
     "data": {
      "text/plain": [
       "26214"
      ]
     },
     "execution_count": 32,
     "metadata": {},
     "output_type": "execute_result"
    }
   ],
   "source": [
    "df['vote_count'][0]"
   ]
  },
  {
   "cell_type": "code",
   "execution_count": 33,
   "metadata": {},
   "outputs": [
    {
     "data": {
      "text/plain": [
       "Index(['backdrop_path', 'belongs_to_collection', 'genres', 'id',\n",
       "       'origin_country', 'original_language', 'overview', 'popularity',\n",
       "       'poster_path', 'production_companies', 'production_countries',\n",
       "       'release_date', 'runtime', 'spoken_languages', 'status', 'tagline',\n",
       "       'title', 'vote_average', 'vote_count', 'credits', 'collection_name',\n",
       "       'genre_names', 'cld_production_countries', 'cld_production_companies',\n",
       "       'cast', 'crew', 'director', 'cast_size', 'crew_size', 'budget_musd',\n",
       "       'revenue_musd'],\n",
       "      dtype='object')"
      ]
     },
     "execution_count": 33,
     "metadata": {},
     "output_type": "execute_result"
    }
   ],
   "source": [
    "df.columns\n"
   ]
  },
  {
   "cell_type": "code",
   "execution_count": 34,
   "metadata": {},
   "outputs": [
    {
     "data": {
      "text/html": [
       "<div>\n",
       "<style scoped>\n",
       "    .dataframe tbody tr th:only-of-type {\n",
       "        vertical-align: middle;\n",
       "    }\n",
       "\n",
       "    .dataframe tbody tr th {\n",
       "        vertical-align: top;\n",
       "    }\n",
       "\n",
       "    .dataframe thead th {\n",
       "        text-align: right;\n",
       "    }\n",
       "</style>\n",
       "<table border=\"1\" class=\"dataframe\">\n",
       "  <thead>\n",
       "    <tr style=\"text-align: right;\">\n",
       "      <th></th>\n",
       "      <th>backdrop_path</th>\n",
       "      <th>belongs_to_collection</th>\n",
       "      <th>genres</th>\n",
       "      <th>id</th>\n",
       "      <th>origin_country</th>\n",
       "      <th>original_language</th>\n",
       "      <th>overview</th>\n",
       "      <th>popularity</th>\n",
       "      <th>poster_path</th>\n",
       "      <th>production_companies</th>\n",
       "      <th>...</th>\n",
       "      <th>genre_names</th>\n",
       "      <th>cld_production_countries</th>\n",
       "      <th>cld_production_companies</th>\n",
       "      <th>cast</th>\n",
       "      <th>crew</th>\n",
       "      <th>director</th>\n",
       "      <th>cast_size</th>\n",
       "      <th>crew_size</th>\n",
       "      <th>budget_musd</th>\n",
       "      <th>revenue_musd</th>\n",
       "    </tr>\n",
       "  </thead>\n",
       "  <tbody>\n",
       "  </tbody>\n",
       "</table>\n",
       "<p>0 rows × 31 columns</p>\n",
       "</div>"
      ],
      "text/plain": [
       "Empty DataFrame\n",
       "Columns: [backdrop_path, belongs_to_collection, genres, id, origin_country, original_language, overview, popularity, poster_path, production_companies, production_countries, release_date, runtime, spoken_languages, status, tagline, title, vote_average, vote_count, credits, collection_name, genre_names, cld_production_countries, cld_production_companies, cast, crew, director, cast_size, crew_size, budget_musd, revenue_musd]\n",
       "Index: []\n",
       "\n",
       "[0 rows x 31 columns]"
      ]
     },
     "execution_count": 34,
     "metadata": {},
     "output_type": "execute_result"
    }
   ],
   "source": [
    "dcp.vote_count_zero(df, 'vote_count')\n"
   ]
  },
  {
   "cell_type": "code",
   "execution_count": 35,
   "metadata": {},
   "outputs": [
    {
     "data": {
      "text/plain": [
       "18"
      ]
     },
     "execution_count": 35,
     "metadata": {},
     "output_type": "execute_result"
    }
   ],
   "source": [
    "df['tagline'].nunique()"
   ]
  },
  {
   "cell_type": "code",
   "execution_count": 36,
   "metadata": {},
   "outputs": [
    {
     "data": {
      "text/plain": [
       "0                                    Avenge the fallen.\n",
       "1                           Enter the world of Pandora.\n",
       "2                         Every generation has a story.\n",
       "3                         Destiny arrives all the same.\n",
       "4             Nothing on Earth could come between them.\n",
       "5                                     The park is open.\n",
       "6                                The king has returned.\n",
       "7                               Some assembly required.\n",
       "8                                  Vengeance hits home.\n",
       "9                                   A new age has come.\n",
       "10                                  Long live the king.\n",
       "11                                         It all ends.\n",
       "12               Darkness rises...and light to meet it.\n",
       "13                       The past is not what it seems.\n",
       "14                                    The park is gone.\n",
       "15    Only the act of true love will thaw a frozen h...\n",
       "16                                        Be our guest.\n",
       "17                        It's been too long, dahlings.\n",
       "Name: tagline, dtype: object"
      ]
     },
     "execution_count": 36,
     "metadata": {},
     "output_type": "execute_result"
    }
   ],
   "source": [
    "df['tagline']\n"
   ]
  },
  {
   "cell_type": "code",
   "execution_count": 37,
   "metadata": {},
   "outputs": [
    {
     "data": {
      "text/plain": [
       "18"
      ]
     },
     "execution_count": 37,
     "metadata": {},
     "output_type": "execute_result"
    }
   ],
   "source": [
    "df['overview'].nunique()\n"
   ]
  },
  {
   "cell_type": "code",
   "execution_count": 38,
   "metadata": {},
   "outputs": [
    {
     "data": {
      "text/html": [
       "<div>\n",
       "<style scoped>\n",
       "    .dataframe tbody tr th:only-of-type {\n",
       "        vertical-align: middle;\n",
       "    }\n",
       "\n",
       "    .dataframe tbody tr th {\n",
       "        vertical-align: top;\n",
       "    }\n",
       "\n",
       "    .dataframe thead th {\n",
       "        text-align: right;\n",
       "    }\n",
       "</style>\n",
       "<table border=\"1\" class=\"dataframe\">\n",
       "  <thead>\n",
       "    <tr style=\"text-align: right;\">\n",
       "      <th></th>\n",
       "      <th>backdrop_path</th>\n",
       "      <th>belongs_to_collection</th>\n",
       "      <th>genres</th>\n",
       "      <th>id</th>\n",
       "      <th>origin_country</th>\n",
       "      <th>original_language</th>\n",
       "      <th>overview</th>\n",
       "      <th>popularity</th>\n",
       "      <th>poster_path</th>\n",
       "      <th>production_companies</th>\n",
       "      <th>...</th>\n",
       "      <th>genre_names</th>\n",
       "      <th>cld_production_countries</th>\n",
       "      <th>cld_production_companies</th>\n",
       "      <th>cast</th>\n",
       "      <th>crew</th>\n",
       "      <th>director</th>\n",
       "      <th>cast_size</th>\n",
       "      <th>crew_size</th>\n",
       "      <th>budget_musd</th>\n",
       "      <th>revenue_musd</th>\n",
       "    </tr>\n",
       "  </thead>\n",
       "  <tbody>\n",
       "  </tbody>\n",
       "</table>\n",
       "<p>0 rows × 31 columns</p>\n",
       "</div>"
      ],
      "text/plain": [
       "Empty DataFrame\n",
       "Columns: [backdrop_path, belongs_to_collection, genres, id, origin_country, original_language, overview, popularity, poster_path, production_companies, production_countries, release_date, runtime, spoken_languages, status, tagline, title, vote_average, vote_count, credits, collection_name, genre_names, cld_production_countries, cld_production_companies, cast, crew, director, cast_size, crew_size, budget_musd, revenue_musd]\n",
       "Index: []\n",
       "\n",
       "[0 rows x 31 columns]"
      ]
     },
     "execution_count": 38,
     "metadata": {},
     "output_type": "execute_result"
    }
   ],
   "source": [
    "dcp.check_for_nodata(df, 'overview')\n",
    "dcp.check_for_nodata(df, 'tagline')\n"
   ]
  },
  {
   "cell_type": "code",
   "execution_count": 39,
   "metadata": {},
   "outputs": [
    {
     "data": {
      "text/plain": [
       "0     False\n",
       "1     False\n",
       "2     False\n",
       "3     False\n",
       "4     False\n",
       "5     False\n",
       "6     False\n",
       "7     False\n",
       "8     False\n",
       "9     False\n",
       "10    False\n",
       "11    False\n",
       "12    False\n",
       "13    False\n",
       "14    False\n",
       "15    False\n",
       "16    False\n",
       "17    False\n",
       "dtype: bool"
      ]
     },
     "execution_count": 39,
     "metadata": {},
     "output_type": "execute_result"
    }
   ],
   "source": [
    "#converts all dictionaries and lists to strings to check for duplicate\n",
    "df_str = df.applymap(lambda x: str(x) if isinstance(x, (dict, list)) else x)\n",
    "duplicates = df_str.duplicated()\n",
    "duplicates"
   ]
  },
  {
   "cell_type": "code",
   "execution_count": 40,
   "metadata": {},
   "outputs": [
    {
     "data": {
      "text/plain": [
       "Index(['backdrop_path', 'belongs_to_collection', 'genres', 'id',\n",
       "       'origin_country', 'original_language', 'overview', 'popularity',\n",
       "       'poster_path', 'production_companies', 'production_countries',\n",
       "       'release_date', 'runtime', 'spoken_languages', 'status', 'tagline',\n",
       "       'title', 'vote_average', 'vote_count', 'credits', 'collection_name',\n",
       "       'genre_names', 'cld_production_countries', 'cld_production_companies',\n",
       "       'cast', 'crew', 'director', 'cast_size', 'crew_size', 'budget_musd',\n",
       "       'revenue_musd'],\n",
       "      dtype='object')"
      ]
     },
     "execution_count": 40,
     "metadata": {},
     "output_type": "execute_result"
    }
   ],
   "source": [
    "df.columns\n"
   ]
  },
  {
   "cell_type": "code",
   "execution_count": 41,
   "metadata": {},
   "outputs": [
    {
     "data": {
      "text/html": [
       "<div>\n",
       "<style scoped>\n",
       "    .dataframe tbody tr th:only-of-type {\n",
       "        vertical-align: middle;\n",
       "    }\n",
       "\n",
       "    .dataframe tbody tr th {\n",
       "        vertical-align: top;\n",
       "    }\n",
       "\n",
       "    .dataframe thead th {\n",
       "        text-align: right;\n",
       "    }\n",
       "</style>\n",
       "<table border=\"1\" class=\"dataframe\">\n",
       "  <thead>\n",
       "    <tr style=\"text-align: right;\">\n",
       "      <th></th>\n",
       "      <th>backdrop_path</th>\n",
       "      <th>belongs_to_collection</th>\n",
       "      <th>genres</th>\n",
       "      <th>id</th>\n",
       "      <th>origin_country</th>\n",
       "      <th>original_language</th>\n",
       "      <th>overview</th>\n",
       "      <th>popularity</th>\n",
       "      <th>poster_path</th>\n",
       "      <th>production_companies</th>\n",
       "      <th>...</th>\n",
       "      <th>genre_names</th>\n",
       "      <th>cld_production_countries</th>\n",
       "      <th>cld_production_companies</th>\n",
       "      <th>cast</th>\n",
       "      <th>crew</th>\n",
       "      <th>director</th>\n",
       "      <th>cast_size</th>\n",
       "      <th>crew_size</th>\n",
       "      <th>budget_musd</th>\n",
       "      <th>revenue_musd</th>\n",
       "    </tr>\n",
       "  </thead>\n",
       "  <tbody>\n",
       "    <tr>\n",
       "      <th>0</th>\n",
       "      <td>/7RyHsO4yDXtBv1zUU3mTpHeQ0d5.jpg</td>\n",
       "      <td>{'id': 86311, 'name': 'The Avengers Collection...</td>\n",
       "      <td>[{'id': 12, 'name': 'Adventure'}, {'id': 878, ...</td>\n",
       "      <td>299534</td>\n",
       "      <td>['US']</td>\n",
       "      <td>| English | 日本語</td>\n",
       "      <td>After the devastating events of Avengers: Infi...</td>\n",
       "      <td>24.2346</td>\n",
       "      <td>/ulzhLuWrPK07P1YkdWQLZnQh1JL.jpg</td>\n",
       "      <td>[{'id': 420, 'logo_path': '/hUzeosd33nzE5MCNsZ...</td>\n",
       "      <td>...</td>\n",
       "      <td>Action | Adventure | Science Fiction</td>\n",
       "      <td>United States of America</td>\n",
       "      <td>Marvel Studios</td>\n",
       "      <td>Robert Downey Jr. | Chris Evans | Mark Ruffalo...</td>\n",
       "      <td>Paul Schneider | Louis D'Esposito | Carlos Pac...</td>\n",
       "      <td>Anthony Russo</td>\n",
       "      <td>105</td>\n",
       "      <td>593</td>\n",
       "      <td>356.0</td>\n",
       "      <td>2799.44</td>\n",
       "    </tr>\n",
       "    <tr>\n",
       "      <th>1</th>\n",
       "      <td>/vL5LR6WdxWPjLPFRLe133jXWsh5.jpg</td>\n",
       "      <td>{'id': 87096, 'name': 'Avatar Collection', 'po...</td>\n",
       "      <td>[{'id': 28, 'name': 'Action'}, {'id': 12, 'nam...</td>\n",
       "      <td>19995</td>\n",
       "      <td>['US']</td>\n",
       "      <td>English | Español</td>\n",
       "      <td>In the 22nd century, a paraplegic Marine is di...</td>\n",
       "      <td>32.6950</td>\n",
       "      <td>/kyeqWdyUXW608qlYkRqosgbbJyK.jpg</td>\n",
       "      <td>[{'id': 444, 'logo_path': None, 'name': 'Dune ...</td>\n",
       "      <td>...</td>\n",
       "      <td>Action | Adventure | Fantasy | Science Fiction</td>\n",
       "      <td>United Kingdom | United States of America</td>\n",
       "      <td>20th Century Fox | Dune Entertainment | Ingeni...</td>\n",
       "      <td>Sam Worthington | Zoe Saldaña | Sigourney Weav...</td>\n",
       "      <td>James Cameron | James Cameron | Ilram Choi | W...</td>\n",
       "      <td>James Cameron</td>\n",
       "      <td>65</td>\n",
       "      <td>986</td>\n",
       "      <td>237.0</td>\n",
       "      <td>2923.71</td>\n",
       "    </tr>\n",
       "    <tr>\n",
       "      <th>2</th>\n",
       "      <td>/k6EOrckWFuz7I4z4wiRwz8zsj4H.jpg</td>\n",
       "      <td>{'id': 10, 'name': 'Star Wars Collection', 'po...</td>\n",
       "      <td>[{'id': 12, 'name': 'Adventure'}, {'id': 28, '...</td>\n",
       "      <td>140607</td>\n",
       "      <td>['US']</td>\n",
       "      <td>English</td>\n",
       "      <td>Thirty years after defeating the Galactic Empi...</td>\n",
       "      <td>13.1664</td>\n",
       "      <td>/wqnLdwVXoBjKibFRR5U3y0aDUhs.jpg</td>\n",
       "      <td>[{'id': 1, 'logo_path': '/tlVSws0RvvtPBwViUyOF...</td>\n",
       "      <td>...</td>\n",
       "      <td>Action | Adventure | Science Fiction</td>\n",
       "      <td>United States of America</td>\n",
       "      <td>Bad Robot | Lucasfilm Ltd.</td>\n",
       "      <td>Harrison Ford | Mark Hamill | Carrie Fisher | ...</td>\n",
       "      <td>Ron Jones | J.J. Abrams | Bryan Burk | J.J. Ab...</td>\n",
       "      <td>J.J. Abrams</td>\n",
       "      <td>182</td>\n",
       "      <td>257</td>\n",
       "      <td>245.0</td>\n",
       "      <td>2068.22</td>\n",
       "    </tr>\n",
       "    <tr>\n",
       "      <th>3</th>\n",
       "      <td>/mDfJG3LC3Dqb67AZ52x3Z0jU0uB.jpg</td>\n",
       "      <td>{'id': 86311, 'name': 'The Avengers Collection...</td>\n",
       "      <td>[{'id': 12, 'name': 'Adventure'}, {'id': 28, '...</td>\n",
       "      <td>299536</td>\n",
       "      <td>['US']</td>\n",
       "      <td>| English</td>\n",
       "      <td>As the Avengers and their allies have continue...</td>\n",
       "      <td>33.0700</td>\n",
       "      <td>/7WsyChQLEftFiDOVTGkv3hFpyyt.jpg</td>\n",
       "      <td>[{'id': 420, 'logo_path': '/hUzeosd33nzE5MCNsZ...</td>\n",
       "      <td>...</td>\n",
       "      <td>Action | Adventure | Science Fiction</td>\n",
       "      <td>United States of America</td>\n",
       "      <td>Marvel Studios</td>\n",
       "      <td>Robert Downey Jr. | Chris Evans | Chris Hemswo...</td>\n",
       "      <td>Paul Schneider | John David Duncan | Jwaundace...</td>\n",
       "      <td>Joe Russo</td>\n",
       "      <td>69</td>\n",
       "      <td>724</td>\n",
       "      <td>300.0</td>\n",
       "      <td>2052.42</td>\n",
       "    </tr>\n",
       "    <tr>\n",
       "      <th>4</th>\n",
       "      <td>/sCzcYW9h55WcesOqA12cgEr9Exw.jpg</td>\n",
       "      <td>{}</td>\n",
       "      <td>[{'id': 18, 'name': 'Drama'}, {'id': 10749, 'n...</td>\n",
       "      <td>597</td>\n",
       "      <td>['US']</td>\n",
       "      <td>Deutsch | English | Français | Italiano | Pусс...</td>\n",
       "      <td>101-year-old Rose DeWitt Bukater tells the sto...</td>\n",
       "      <td>38.6063</td>\n",
       "      <td>/9xjZS2rlVxm8SFx8kPC3aIGCOYQ.jpg</td>\n",
       "      <td>[{'id': 4, 'logo_path': '/gz66EfNoYPqHTYI4q9UE...</td>\n",
       "      <td>...</td>\n",
       "      <td>Drama | Romance</td>\n",
       "      <td>United States of America</td>\n",
       "      <td>20th Century Fox | Lightstorm Entertainment | ...</td>\n",
       "      <td>Leonardo DiCaprio | Kate Winslet | Billy Zane ...</td>\n",
       "      <td>James Cameron | Sharon Mann | Emily Schweber |...</td>\n",
       "      <td>James Cameron</td>\n",
       "      <td>116</td>\n",
       "      <td>258</td>\n",
       "      <td>200.0</td>\n",
       "      <td>2264.16</td>\n",
       "    </tr>\n",
       "  </tbody>\n",
       "</table>\n",
       "<p>5 rows × 30 columns</p>\n",
       "</div>"
      ],
      "text/plain": [
       "                      backdrop_path  \\\n",
       "0  /7RyHsO4yDXtBv1zUU3mTpHeQ0d5.jpg   \n",
       "1  /vL5LR6WdxWPjLPFRLe133jXWsh5.jpg   \n",
       "2  /k6EOrckWFuz7I4z4wiRwz8zsj4H.jpg   \n",
       "3  /mDfJG3LC3Dqb67AZ52x3Z0jU0uB.jpg   \n",
       "4  /sCzcYW9h55WcesOqA12cgEr9Exw.jpg   \n",
       "\n",
       "                               belongs_to_collection  \\\n",
       "0  {'id': 86311, 'name': 'The Avengers Collection...   \n",
       "1  {'id': 87096, 'name': 'Avatar Collection', 'po...   \n",
       "2  {'id': 10, 'name': 'Star Wars Collection', 'po...   \n",
       "3  {'id': 86311, 'name': 'The Avengers Collection...   \n",
       "4                                                 {}   \n",
       "\n",
       "                                              genres      id origin_country  \\\n",
       "0  [{'id': 12, 'name': 'Adventure'}, {'id': 878, ...  299534         ['US']   \n",
       "1  [{'id': 28, 'name': 'Action'}, {'id': 12, 'nam...   19995         ['US']   \n",
       "2  [{'id': 12, 'name': 'Adventure'}, {'id': 28, '...  140607         ['US']   \n",
       "3  [{'id': 12, 'name': 'Adventure'}, {'id': 28, '...  299536         ['US']   \n",
       "4  [{'id': 18, 'name': 'Drama'}, {'id': 10749, 'n...     597         ['US']   \n",
       "\n",
       "                                   original_language  \\\n",
       "0                                    | English | 日本語   \n",
       "1                                  English | Español   \n",
       "2                                            English   \n",
       "3                                          | English   \n",
       "4  Deutsch | English | Français | Italiano | Pусс...   \n",
       "\n",
       "                                            overview  popularity  \\\n",
       "0  After the devastating events of Avengers: Infi...     24.2346   \n",
       "1  In the 22nd century, a paraplegic Marine is di...     32.6950   \n",
       "2  Thirty years after defeating the Galactic Empi...     13.1664   \n",
       "3  As the Avengers and their allies have continue...     33.0700   \n",
       "4  101-year-old Rose DeWitt Bukater tells the sto...     38.6063   \n",
       "\n",
       "                        poster_path  \\\n",
       "0  /ulzhLuWrPK07P1YkdWQLZnQh1JL.jpg   \n",
       "1  /kyeqWdyUXW608qlYkRqosgbbJyK.jpg   \n",
       "2  /wqnLdwVXoBjKibFRR5U3y0aDUhs.jpg   \n",
       "3  /7WsyChQLEftFiDOVTGkv3hFpyyt.jpg   \n",
       "4  /9xjZS2rlVxm8SFx8kPC3aIGCOYQ.jpg   \n",
       "\n",
       "                                production_companies  ...  \\\n",
       "0  [{'id': 420, 'logo_path': '/hUzeosd33nzE5MCNsZ...  ...   \n",
       "1  [{'id': 444, 'logo_path': None, 'name': 'Dune ...  ...   \n",
       "2  [{'id': 1, 'logo_path': '/tlVSws0RvvtPBwViUyOF...  ...   \n",
       "3  [{'id': 420, 'logo_path': '/hUzeosd33nzE5MCNsZ...  ...   \n",
       "4  [{'id': 4, 'logo_path': '/gz66EfNoYPqHTYI4q9UE...  ...   \n",
       "\n",
       "                                      genre_names  \\\n",
       "0            Action | Adventure | Science Fiction   \n",
       "1  Action | Adventure | Fantasy | Science Fiction   \n",
       "2            Action | Adventure | Science Fiction   \n",
       "3            Action | Adventure | Science Fiction   \n",
       "4                                 Drama | Romance   \n",
       "\n",
       "                    cld_production_countries  \\\n",
       "0                   United States of America   \n",
       "1  United Kingdom | United States of America   \n",
       "2                   United States of America   \n",
       "3                   United States of America   \n",
       "4                   United States of America   \n",
       "\n",
       "                            cld_production_companies  \\\n",
       "0                                     Marvel Studios   \n",
       "1  20th Century Fox | Dune Entertainment | Ingeni...   \n",
       "2                         Bad Robot | Lucasfilm Ltd.   \n",
       "3                                     Marvel Studios   \n",
       "4  20th Century Fox | Lightstorm Entertainment | ...   \n",
       "\n",
       "                                                cast  \\\n",
       "0  Robert Downey Jr. | Chris Evans | Mark Ruffalo...   \n",
       "1  Sam Worthington | Zoe Saldaña | Sigourney Weav...   \n",
       "2  Harrison Ford | Mark Hamill | Carrie Fisher | ...   \n",
       "3  Robert Downey Jr. | Chris Evans | Chris Hemswo...   \n",
       "4  Leonardo DiCaprio | Kate Winslet | Billy Zane ...   \n",
       "\n",
       "                                                crew       director  \\\n",
       "0  Paul Schneider | Louis D'Esposito | Carlos Pac...  Anthony Russo   \n",
       "1  James Cameron | James Cameron | Ilram Choi | W...  James Cameron   \n",
       "2  Ron Jones | J.J. Abrams | Bryan Burk | J.J. Ab...    J.J. Abrams   \n",
       "3  Paul Schneider | John David Duncan | Jwaundace...      Joe Russo   \n",
       "4  James Cameron | Sharon Mann | Emily Schweber |...  James Cameron   \n",
       "\n",
       "   cast_size  crew_size budget_musd revenue_musd  \n",
       "0        105        593       356.0      2799.44  \n",
       "1         65        986       237.0      2923.71  \n",
       "2        182        257       245.0      2068.22  \n",
       "3         69        724       300.0      2052.42  \n",
       "4        116        258       200.0      2264.16  \n",
       "\n",
       "[5 rows x 30 columns]"
      ]
     },
     "execution_count": 41,
     "metadata": {},
     "output_type": "execute_result"
    }
   ],
   "source": [
    "dcp.released_movies(df)"
   ]
  },
  {
   "cell_type": "code",
   "execution_count": 42,
   "metadata": {},
   "outputs": [
    {
     "data": {
      "text/plain": [
       "Index(['backdrop_path', 'belongs_to_collection', 'genres', 'id',\n",
       "       'origin_country', 'original_language', 'overview', 'popularity',\n",
       "       'poster_path', 'production_companies', 'production_countries',\n",
       "       'release_date', 'runtime', 'spoken_languages', 'status', 'tagline',\n",
       "       'title', 'vote_average', 'vote_count', 'credits', 'collection_name',\n",
       "       'genre_names', 'cld_production_countries', 'cld_production_companies',\n",
       "       'cast', 'crew', 'director', 'cast_size', 'crew_size', 'budget_musd',\n",
       "       'revenue_musd'],\n",
       "      dtype='object')"
      ]
     },
     "execution_count": 42,
     "metadata": {},
     "output_type": "execute_result"
    }
   ],
   "source": [
    "df.columns"
   ]
  },
  {
   "cell_type": "code",
   "execution_count": 43,
   "metadata": {},
   "outputs": [
    {
     "data": {
      "text/html": [
       "<div>\n",
       "<style scoped>\n",
       "    .dataframe tbody tr th:only-of-type {\n",
       "        vertical-align: middle;\n",
       "    }\n",
       "\n",
       "    .dataframe tbody tr th {\n",
       "        vertical-align: top;\n",
       "    }\n",
       "\n",
       "    .dataframe thead th {\n",
       "        text-align: right;\n",
       "    }\n",
       "</style>\n",
       "<table border=\"1\" class=\"dataframe\">\n",
       "  <thead>\n",
       "    <tr style=\"text-align: right;\">\n",
       "      <th></th>\n",
       "      <th>id</th>\n",
       "      <th>title</th>\n",
       "      <th>tagline</th>\n",
       "      <th>release_date</th>\n",
       "      <th>genres</th>\n",
       "      <th>belongs_to_collection</th>\n",
       "      <th>original_language</th>\n",
       "      <th>budget_musd</th>\n",
       "      <th>revenue_musd</th>\n",
       "      <th>production_companies</th>\n",
       "      <th>...</th>\n",
       "      <th>crew_size</th>\n",
       "      <th>backdrop_path</th>\n",
       "      <th>origin_country</th>\n",
       "      <th>status</th>\n",
       "      <th>credits</th>\n",
       "      <th>collection_name</th>\n",
       "      <th>genre_names</th>\n",
       "      <th>cld_production_countries</th>\n",
       "      <th>cld_production_companies</th>\n",
       "      <th>crew</th>\n",
       "    </tr>\n",
       "  </thead>\n",
       "  <tbody>\n",
       "    <tr>\n",
       "      <th>0</th>\n",
       "      <td>299534</td>\n",
       "      <td>Avengers: Endgame</td>\n",
       "      <td>Avenge the fallen.</td>\n",
       "      <td>2019-04-24</td>\n",
       "      <td>[{'id': 12, 'name': 'Adventure'}, {'id': 878, ...</td>\n",
       "      <td>{'id': 86311, 'name': 'The Avengers Collection...</td>\n",
       "      <td>| English | 日本語</td>\n",
       "      <td>356.0</td>\n",
       "      <td>2799.44</td>\n",
       "      <td>[{'id': 420, 'logo_path': '/hUzeosd33nzE5MCNsZ...</td>\n",
       "      <td>...</td>\n",
       "      <td>593</td>\n",
       "      <td>/7RyHsO4yDXtBv1zUU3mTpHeQ0d5.jpg</td>\n",
       "      <td>['US']</td>\n",
       "      <td>Released</td>\n",
       "      <td>{'cast': [{'adult': False, 'gender': 2, 'id': ...</td>\n",
       "      <td>The Avengers Collection</td>\n",
       "      <td>Action | Adventure | Science Fiction</td>\n",
       "      <td>United States of America</td>\n",
       "      <td>Marvel Studios</td>\n",
       "      <td>Paul Schneider | Louis D'Esposito | Carlos Pac...</td>\n",
       "    </tr>\n",
       "    <tr>\n",
       "      <th>1</th>\n",
       "      <td>19995</td>\n",
       "      <td>Avatar</td>\n",
       "      <td>Enter the world of Pandora.</td>\n",
       "      <td>2009-12-15</td>\n",
       "      <td>[{'id': 28, 'name': 'Action'}, {'id': 12, 'nam...</td>\n",
       "      <td>{'id': 87096, 'name': 'Avatar Collection', 'po...</td>\n",
       "      <td>English | Español</td>\n",
       "      <td>237.0</td>\n",
       "      <td>2923.71</td>\n",
       "      <td>[{'id': 444, 'logo_path': None, 'name': 'Dune ...</td>\n",
       "      <td>...</td>\n",
       "      <td>986</td>\n",
       "      <td>/vL5LR6WdxWPjLPFRLe133jXWsh5.jpg</td>\n",
       "      <td>['US']</td>\n",
       "      <td>Released</td>\n",
       "      <td>{'cast': [{'adult': False, 'gender': 2, 'id': ...</td>\n",
       "      <td>Avatar Collection</td>\n",
       "      <td>Action | Adventure | Fantasy | Science Fiction</td>\n",
       "      <td>United Kingdom | United States of America</td>\n",
       "      <td>20th Century Fox | Dune Entertainment | Ingeni...</td>\n",
       "      <td>James Cameron | James Cameron | Ilram Choi | W...</td>\n",
       "    </tr>\n",
       "    <tr>\n",
       "      <th>2</th>\n",
       "      <td>140607</td>\n",
       "      <td>Star Wars: The Force Awakens</td>\n",
       "      <td>Every generation has a story.</td>\n",
       "      <td>2015-12-15</td>\n",
       "      <td>[{'id': 12, 'name': 'Adventure'}, {'id': 28, '...</td>\n",
       "      <td>{'id': 10, 'name': 'Star Wars Collection', 'po...</td>\n",
       "      <td>English</td>\n",
       "      <td>245.0</td>\n",
       "      <td>2068.22</td>\n",
       "      <td>[{'id': 1, 'logo_path': '/tlVSws0RvvtPBwViUyOF...</td>\n",
       "      <td>...</td>\n",
       "      <td>257</td>\n",
       "      <td>/k6EOrckWFuz7I4z4wiRwz8zsj4H.jpg</td>\n",
       "      <td>['US']</td>\n",
       "      <td>Released</td>\n",
       "      <td>{'cast': [{'adult': False, 'gender': 2, 'id': ...</td>\n",
       "      <td>Star Wars Collection</td>\n",
       "      <td>Action | Adventure | Science Fiction</td>\n",
       "      <td>United States of America</td>\n",
       "      <td>Bad Robot | Lucasfilm Ltd.</td>\n",
       "      <td>Ron Jones | J.J. Abrams | Bryan Burk | J.J. Ab...</td>\n",
       "    </tr>\n",
       "    <tr>\n",
       "      <th>3</th>\n",
       "      <td>299536</td>\n",
       "      <td>Avengers: Infinity War</td>\n",
       "      <td>Destiny arrives all the same.</td>\n",
       "      <td>2018-04-25</td>\n",
       "      <td>[{'id': 12, 'name': 'Adventure'}, {'id': 28, '...</td>\n",
       "      <td>{'id': 86311, 'name': 'The Avengers Collection...</td>\n",
       "      <td>| English</td>\n",
       "      <td>300.0</td>\n",
       "      <td>2052.42</td>\n",
       "      <td>[{'id': 420, 'logo_path': '/hUzeosd33nzE5MCNsZ...</td>\n",
       "      <td>...</td>\n",
       "      <td>724</td>\n",
       "      <td>/mDfJG3LC3Dqb67AZ52x3Z0jU0uB.jpg</td>\n",
       "      <td>['US']</td>\n",
       "      <td>Released</td>\n",
       "      <td>{'cast': [{'adult': False, 'gender': 2, 'id': ...</td>\n",
       "      <td>The Avengers Collection</td>\n",
       "      <td>Action | Adventure | Science Fiction</td>\n",
       "      <td>United States of America</td>\n",
       "      <td>Marvel Studios</td>\n",
       "      <td>Paul Schneider | John David Duncan | Jwaundace...</td>\n",
       "    </tr>\n",
       "    <tr>\n",
       "      <th>4</th>\n",
       "      <td>597</td>\n",
       "      <td>Titanic</td>\n",
       "      <td>Nothing on Earth could come between them.</td>\n",
       "      <td>1997-11-18</td>\n",
       "      <td>[{'id': 18, 'name': 'Drama'}, {'id': 10749, 'n...</td>\n",
       "      <td>{}</td>\n",
       "      <td>Deutsch | English | Français | Italiano | Pусс...</td>\n",
       "      <td>200.0</td>\n",
       "      <td>2264.16</td>\n",
       "      <td>[{'id': 4, 'logo_path': '/gz66EfNoYPqHTYI4q9UE...</td>\n",
       "      <td>...</td>\n",
       "      <td>258</td>\n",
       "      <td>/sCzcYW9h55WcesOqA12cgEr9Exw.jpg</td>\n",
       "      <td>['US']</td>\n",
       "      <td>Released</td>\n",
       "      <td>{'cast': [{'adult': False, 'gender': 2, 'id': ...</td>\n",
       "      <td>None</td>\n",
       "      <td>Drama | Romance</td>\n",
       "      <td>United States of America</td>\n",
       "      <td>20th Century Fox | Lightstorm Entertainment | ...</td>\n",
       "      <td>James Cameron | Sharon Mann | Emily Schweber |...</td>\n",
       "    </tr>\n",
       "  </tbody>\n",
       "</table>\n",
       "<p>5 rows × 31 columns</p>\n",
       "</div>"
      ],
      "text/plain": [
       "       id                         title  \\\n",
       "0  299534             Avengers: Endgame   \n",
       "1   19995                        Avatar   \n",
       "2  140607  Star Wars: The Force Awakens   \n",
       "3  299536        Avengers: Infinity War   \n",
       "4     597                       Titanic   \n",
       "\n",
       "                                     tagline release_date  \\\n",
       "0                         Avenge the fallen.   2019-04-24   \n",
       "1                Enter the world of Pandora.   2009-12-15   \n",
       "2              Every generation has a story.   2015-12-15   \n",
       "3              Destiny arrives all the same.   2018-04-25   \n",
       "4  Nothing on Earth could come between them.   1997-11-18   \n",
       "\n",
       "                                              genres  \\\n",
       "0  [{'id': 12, 'name': 'Adventure'}, {'id': 878, ...   \n",
       "1  [{'id': 28, 'name': 'Action'}, {'id': 12, 'nam...   \n",
       "2  [{'id': 12, 'name': 'Adventure'}, {'id': 28, '...   \n",
       "3  [{'id': 12, 'name': 'Adventure'}, {'id': 28, '...   \n",
       "4  [{'id': 18, 'name': 'Drama'}, {'id': 10749, 'n...   \n",
       "\n",
       "                               belongs_to_collection  \\\n",
       "0  {'id': 86311, 'name': 'The Avengers Collection...   \n",
       "1  {'id': 87096, 'name': 'Avatar Collection', 'po...   \n",
       "2  {'id': 10, 'name': 'Star Wars Collection', 'po...   \n",
       "3  {'id': 86311, 'name': 'The Avengers Collection...   \n",
       "4                                                 {}   \n",
       "\n",
       "                                   original_language  budget_musd  \\\n",
       "0                                    | English | 日本語        356.0   \n",
       "1                                  English | Español        237.0   \n",
       "2                                            English        245.0   \n",
       "3                                          | English        300.0   \n",
       "4  Deutsch | English | Français | Italiano | Pусс...        200.0   \n",
       "\n",
       "   revenue_musd                               production_companies  ...  \\\n",
       "0       2799.44  [{'id': 420, 'logo_path': '/hUzeosd33nzE5MCNsZ...  ...   \n",
       "1       2923.71  [{'id': 444, 'logo_path': None, 'name': 'Dune ...  ...   \n",
       "2       2068.22  [{'id': 1, 'logo_path': '/tlVSws0RvvtPBwViUyOF...  ...   \n",
       "3       2052.42  [{'id': 420, 'logo_path': '/hUzeosd33nzE5MCNsZ...  ...   \n",
       "4       2264.16  [{'id': 4, 'logo_path': '/gz66EfNoYPqHTYI4q9UE...  ...   \n",
       "\n",
       "  crew_size                     backdrop_path  origin_country    status  \\\n",
       "0       593  /7RyHsO4yDXtBv1zUU3mTpHeQ0d5.jpg          ['US']  Released   \n",
       "1       986  /vL5LR6WdxWPjLPFRLe133jXWsh5.jpg          ['US']  Released   \n",
       "2       257  /k6EOrckWFuz7I4z4wiRwz8zsj4H.jpg          ['US']  Released   \n",
       "3       724  /mDfJG3LC3Dqb67AZ52x3Z0jU0uB.jpg          ['US']  Released   \n",
       "4       258  /sCzcYW9h55WcesOqA12cgEr9Exw.jpg          ['US']  Released   \n",
       "\n",
       "                                             credits          collection_name  \\\n",
       "0  {'cast': [{'adult': False, 'gender': 2, 'id': ...  The Avengers Collection   \n",
       "1  {'cast': [{'adult': False, 'gender': 2, 'id': ...        Avatar Collection   \n",
       "2  {'cast': [{'adult': False, 'gender': 2, 'id': ...     Star Wars Collection   \n",
       "3  {'cast': [{'adult': False, 'gender': 2, 'id': ...  The Avengers Collection   \n",
       "4  {'cast': [{'adult': False, 'gender': 2, 'id': ...                     None   \n",
       "\n",
       "                                      genre_names  \\\n",
       "0            Action | Adventure | Science Fiction   \n",
       "1  Action | Adventure | Fantasy | Science Fiction   \n",
       "2            Action | Adventure | Science Fiction   \n",
       "3            Action | Adventure | Science Fiction   \n",
       "4                                 Drama | Romance   \n",
       "\n",
       "                    cld_production_countries  \\\n",
       "0                   United States of America   \n",
       "1  United Kingdom | United States of America   \n",
       "2                   United States of America   \n",
       "3                   United States of America   \n",
       "4                   United States of America   \n",
       "\n",
       "                            cld_production_companies  \\\n",
       "0                                     Marvel Studios   \n",
       "1  20th Century Fox | Dune Entertainment | Ingeni...   \n",
       "2                         Bad Robot | Lucasfilm Ltd.   \n",
       "3                                     Marvel Studios   \n",
       "4  20th Century Fox | Lightstorm Entertainment | ...   \n",
       "\n",
       "                                                crew  \n",
       "0  Paul Schneider | Louis D'Esposito | Carlos Pac...  \n",
       "1  James Cameron | James Cameron | Ilram Choi | W...  \n",
       "2  Ron Jones | J.J. Abrams | Bryan Burk | J.J. Ab...  \n",
       "3  Paul Schneider | John David Duncan | Jwaundace...  \n",
       "4  James Cameron | Sharon Mann | Emily Schweber |...  \n",
       "\n",
       "[5 rows x 31 columns]"
      ]
     },
     "execution_count": 43,
     "metadata": {},
     "output_type": "execute_result"
    }
   ],
   "source": [
    "# List of columns new order \n",
    "new_order =['id', 'title', 'tagline', 'release_date', 'genres', 'belongs_to_collection', \n",
    "            'original_language', 'budget_musd', 'revenue_musd', 'production_companies', 'production_countries', \n",
    "            'vote_count', 'vote_average', 'popularity', 'runtime', 'overview',\n",
    "            'spoken_languages', 'poster_path', 'cast', 'cast_size', 'director', 'crew_size']\n",
    "\n",
    "# Reorder DataFrame\n",
    "reordered_df = df[new_order]\n",
    "path=\"/Users/gyauk/github/labs/IMBD_movie_analysis/Project1/data/processed/reordered_movies.csv\"\n",
    "dcp.reorder_and_save(df,new_order,path)"
   ]
  },
  {
   "cell_type": "code",
   "execution_count": 44,
   "metadata": {},
   "outputs": [
    {
     "data": {
      "text/plain": [
       "Index(['id', 'title', 'tagline', 'release_date', 'genres',\n",
       "       'belongs_to_collection', 'original_language', 'budget_musd',\n",
       "       'revenue_musd', 'production_companies', 'production_countries',\n",
       "       'vote_count', 'vote_average', 'popularity', 'runtime', 'overview',\n",
       "       'spoken_languages', 'poster_path', 'cast', 'cast_size', 'director',\n",
       "       'crew_size'],\n",
       "      dtype='object')"
      ]
     },
     "execution_count": 44,
     "metadata": {},
     "output_type": "execute_result"
    }
   ],
   "source": [
    "reordered_df.columns"
   ]
  },
  {
   "cell_type": "markdown",
   "metadata": {},
   "source": [
    "### KPI Implementation & Analysis"
   ]
  },
  {
   "cell_type": "markdown",
   "metadata": {},
   "source": [
    "- highest revenue"
   ]
  },
  {
   "cell_type": "code",
   "execution_count": 45,
   "metadata": {},
   "outputs": [
    {
     "name": "stdout",
     "output_type": "stream",
     "text": [
      "Avatar generated the most revenue of USD 2923.71\n"
     ]
    }
   ],
   "source": [
    "kpi.highest_revenue_movie(reordered_df,'title','revenue_musd')\n",
    "   "
   ]
  },
  {
   "cell_type": "markdown",
   "metadata": {},
   "source": [
    "- Highest Budget"
   ]
  },
  {
   "cell_type": "code",
   "execution_count": 46,
   "metadata": {},
   "outputs": [
    {
     "name": "stdout",
     "output_type": "stream",
     "text": [
      "Avatar had the highest budget of USD 2923.71\n"
     ]
    }
   ],
   "source": [
    "kpi.highest_budget_movie(reordered_df,'title','revenue_musd')"
   ]
  },
  {
   "cell_type": "markdown",
   "metadata": {},
   "source": [
    "- Highest Profit (Revenue - Budget)\n",
    "\n"
   ]
  },
  {
   "cell_type": "code",
   "execution_count": 47,
   "metadata": {},
   "outputs": [
    {
     "name": "stdout",
     "output_type": "stream",
     "text": [
      "Avatar had the highest profit of USD 2686.71\n"
     ]
    },
    {
     "name": "stderr",
     "output_type": "stream",
     "text": [
      "/Users/gyauk/github/labs/IMBD_movie_analysis/Project1/src/kpi_analysis.py:12: SettingWithCopyWarning: \n",
      "A value is trying to be set on a copy of a slice from a DataFrame.\n",
      "Try using .loc[row_indexer,col_indexer] = value instead\n",
      "\n",
      "See the caveats in the documentation: https://pandas.pydata.org/pandas-docs/stable/user_guide/indexing.html#returning-a-view-versus-a-copy\n",
      "  df[profit_column] = df[revenue_column] - df[budget_column]\n"
     ]
    }
   ],
   "source": [
    "kpi.highest_profit_movie(reordered_df,'title','revenue_musd','budget_musd','profit')\n"
   ]
  },
  {
   "cell_type": "markdown",
   "metadata": {},
   "source": [
    "- Lowest Profit (Revenue - Budget)\n"
   ]
  },
  {
   "cell_type": "code",
   "execution_count": 48,
   "metadata": {},
   "outputs": [
    {
     "name": "stdout",
     "output_type": "stream",
     "text": [
      "Avengers: Age of Ultron had the lowest profit of USD 1040.4\n"
     ]
    },
    {
     "name": "stderr",
     "output_type": "stream",
     "text": [
      "/Users/gyauk/github/labs/IMBD_movie_analysis/Project1/src/kpi_analysis.py:17: SettingWithCopyWarning: \n",
      "A value is trying to be set on a copy of a slice from a DataFrame.\n",
      "Try using .loc[row_indexer,col_indexer] = value instead\n",
      "\n",
      "See the caveats in the documentation: https://pandas.pydata.org/pandas-docs/stable/user_guide/indexing.html#returning-a-view-versus-a-copy\n",
      "  df[profit_column] = df[revenue_column] - df[budget_column]\n"
     ]
    }
   ],
   "source": [
    "kpi.lowest_profit_movie(reordered_df,'title','revenue_musd','budget_musd','profit')"
   ]
  },
  {
   "cell_type": "markdown",
   "metadata": {},
   "source": [
    "- Highest ROI (Revenue / Budget) (only movies with Budget ≥ 10M) o Lowest ROI (only movies with Budget ≥ 10M)\n"
   ]
  },
  {
   "cell_type": "code",
   "execution_count": 49,
   "metadata": {},
   "outputs": [
    {
     "name": "stdout",
     "output_type": "stream",
     "text": [
      "Avatar had the highest ROI of 12.336329113924052\n"
     ]
    }
   ],
   "source": [
    "kpi.highest_roi(reordered_df,'title','revenue_musd','budget_musd','roi')"
   ]
  },
  {
   "cell_type": "code",
   "execution_count": 50,
   "metadata": {},
   "outputs": [
    {
     "name": "stdout",
     "output_type": "stream",
     "text": [
      "Avengers: Age of Ultron had the lowest ROI of 3.85041095890411\n"
     ]
    }
   ],
   "source": [
    " kpi.lowest_roi(reordered_df,'title','revenue_musd','budget_musd','roi')\n"
   ]
  },
  {
   "cell_type": "markdown",
   "metadata": {},
   "source": [
    "- Most Voted Movie"
   ]
  },
  {
   "cell_type": "code",
   "execution_count": 51,
   "metadata": {},
   "outputs": [
    {
     "name": "stdout",
     "output_type": "stream",
     "text": [
      "Avatar was the most voted movie with 32121 votes.\n"
     ]
    }
   ],
   "source": [
    "kpi.most_voted(reordered_df,'title','vote_count')"
   ]
  },
  {
   "cell_type": "markdown",
   "metadata": {},
   "source": [
    "- Highest Rated Movie"
   ]
  },
  {
   "cell_type": "code",
   "execution_count": 52,
   "metadata": {},
   "outputs": [
    {
     "name": "stdout",
     "output_type": "stream",
     "text": [
      "Avengers: Endgame was the highest rated movie with a rating of 8.238\n"
     ]
    }
   ],
   "source": [
    "kpi.highest_rated(reordered_df,'title','vote_count','vote_average')\n"
   ]
  },
  {
   "cell_type": "markdown",
   "metadata": {},
   "source": [
    "- Lowest Rated Movie"
   ]
  },
  {
   "cell_type": "code",
   "execution_count": 53,
   "metadata": {},
   "outputs": [
    {
     "name": "stdout",
     "output_type": "stream",
     "text": [
      "Jurassic World: Fallen Kingdom was the lowest rated movie with a rating of 6.538\n"
     ]
    }
   ],
   "source": [
    "kpi.lowest_rated(reordered_df,'title','vote_count','vote_average')    "
   ]
  },
  {
   "cell_type": "markdown",
   "metadata": {},
   "source": [
    "- Most Popular"
   ]
  },
  {
   "cell_type": "code",
   "execution_count": 54,
   "metadata": {},
   "outputs": [
    {
     "name": "stdout",
     "output_type": "stream",
     "text": [
      "Titanic was the most popular movie with a popularity score of 38.6063\n"
     ]
    }
   ],
   "source": [
    "kpi.most_popular(reordered_df,'title','popularity')    \n"
   ]
  },
  {
   "cell_type": "markdown",
   "metadata": {},
   "source": [
    "### Advanced Movie Filtering & Search Queries"
   ]
  },
  {
   "cell_type": "markdown",
   "metadata": {},
   "source": [
    "- Search 1: Find the best-rated Science Fiction Action movies starring Bruce Willis (sorted by Rating - highest to lowest)"
   ]
  },
  {
   "cell_type": "code",
   "execution_count": 55,
   "metadata": {},
   "outputs": [
    {
     "data": {
      "text/html": [
       "<div>\n",
       "<style scoped>\n",
       "    .dataframe tbody tr th:only-of-type {\n",
       "        vertical-align: middle;\n",
       "    }\n",
       "\n",
       "    .dataframe tbody tr th {\n",
       "        vertical-align: top;\n",
       "    }\n",
       "\n",
       "    .dataframe thead th {\n",
       "        text-align: right;\n",
       "    }\n",
       "</style>\n",
       "<table border=\"1\" class=\"dataframe\">\n",
       "  <thead>\n",
       "    <tr style=\"text-align: right;\">\n",
       "      <th></th>\n",
       "      <th>title</th>\n",
       "      <th>vote_average</th>\n",
       "    </tr>\n",
       "  </thead>\n",
       "  <tbody>\n",
       "    <tr>\n",
       "      <th>0</th>\n",
       "      <td>Avengers: Endgame</td>\n",
       "      <td>8.238</td>\n",
       "    </tr>\n",
       "    <tr>\n",
       "      <th>3</th>\n",
       "      <td>Avengers: Infinity War</td>\n",
       "      <td>8.236</td>\n",
       "    </tr>\n",
       "    <tr>\n",
       "      <th>7</th>\n",
       "      <td>The Avengers</td>\n",
       "      <td>7.735</td>\n",
       "    </tr>\n",
       "    <tr>\n",
       "      <th>9</th>\n",
       "      <td>Avengers: Age of Ultron</td>\n",
       "      <td>7.271</td>\n",
       "    </tr>\n",
       "    <tr>\n",
       "      <th>2</th>\n",
       "      <td>Star Wars: The Force Awakens</td>\n",
       "      <td>7.262</td>\n",
       "    </tr>\n",
       "    <tr>\n",
       "      <th>8</th>\n",
       "      <td>Furious 7</td>\n",
       "      <td>7.200</td>\n",
       "    </tr>\n",
       "    <tr>\n",
       "      <th>14</th>\n",
       "      <td>Jurassic World: Fallen Kingdom</td>\n",
       "      <td>6.538</td>\n",
       "    </tr>\n",
       "  </tbody>\n",
       "</table>\n",
       "</div>"
      ],
      "text/plain": [
       "                             title  vote_average\n",
       "0                Avengers: Endgame         8.238\n",
       "3           Avengers: Infinity War         8.236\n",
       "7                     The Avengers         7.735\n",
       "9          Avengers: Age of Ultron         7.271\n",
       "2     Star Wars: The Force Awakens         7.262\n",
       "8                        Furious 7         7.200\n",
       "14  Jurassic World: Fallen Kingdom         6.538"
      ]
     },
     "execution_count": 55,
     "metadata": {},
     "output_type": "execute_result"
    }
   ],
   "source": [
    "#filter by science fiction first \n",
    "specific_genres = ['Science Fiction', 'Action']\n",
    "filtered_genre_df = reordered_df[reordered_df['genres'].apply(lambda genres: any(genre['name'] in specific_genres for genre in genres))]\n",
    "filtered_genre_df\n",
    "\n",
    "#fileter by actor bruce willis\n",
    "filter_actor_df=filtered_genre_df[filtered_genre_df['cast'].apply(lambda cast: 'Robert' in cast)]\n",
    "filter_actor_df\n",
    "\n",
    "# Sort by the 'vote_average' column (rating) in descending order\n",
    "sorted_movies = filter_actor_df.sort_values(by='vote_average', ascending=False)\n",
    "\n",
    "# Select relevant columns to display\n",
    "best_rated_movies = sorted_movies[['title', 'vote_average']]\n",
    "\n",
    "# Display the best-rated movies\n",
    "best_rated_movies"
   ]
  },
  {
   "cell_type": "markdown",
   "metadata": {},
   "source": [
    "- Search 2: Find movies starring Uma Thurman, directed by Quentin Tarantino (sorted by runtime - shortest to longest)."
   ]
  },
  {
   "cell_type": "code",
   "execution_count": null,
   "metadata": {},
   "outputs": [],
   "source": []
  },
  {
   "cell_type": "markdown",
   "metadata": {},
   "source": [
    "### Franchise vs. Standalone Movie Performance"
   ]
  },
  {
   "cell_type": "code",
   "execution_count": 56,
   "metadata": {},
   "outputs": [
    {
     "data": {
      "text/html": [
       "<div>\n",
       "<style scoped>\n",
       "    .dataframe tbody tr th:only-of-type {\n",
       "        vertical-align: middle;\n",
       "    }\n",
       "\n",
       "    .dataframe tbody tr th {\n",
       "        vertical-align: top;\n",
       "    }\n",
       "\n",
       "    .dataframe thead th {\n",
       "        text-align: right;\n",
       "    }\n",
       "</style>\n",
       "<table border=\"1\" class=\"dataframe\">\n",
       "  <thead>\n",
       "    <tr style=\"text-align: right;\">\n",
       "      <th></th>\n",
       "      <th>backdrop_path</th>\n",
       "      <th>belongs_to_collection</th>\n",
       "      <th>genres</th>\n",
       "      <th>id</th>\n",
       "      <th>origin_country</th>\n",
       "      <th>original_language</th>\n",
       "      <th>overview</th>\n",
       "      <th>popularity</th>\n",
       "      <th>poster_path</th>\n",
       "      <th>production_companies</th>\n",
       "      <th>...</th>\n",
       "      <th>cld_production_countries</th>\n",
       "      <th>cld_production_companies</th>\n",
       "      <th>cast</th>\n",
       "      <th>crew</th>\n",
       "      <th>director</th>\n",
       "      <th>cast_size</th>\n",
       "      <th>crew_size</th>\n",
       "      <th>budget_musd</th>\n",
       "      <th>revenue_musd</th>\n",
       "      <th>is_franchise</th>\n",
       "    </tr>\n",
       "  </thead>\n",
       "  <tbody>\n",
       "    <tr>\n",
       "      <th>0</th>\n",
       "      <td>/7RyHsO4yDXtBv1zUU3mTpHeQ0d5.jpg</td>\n",
       "      <td>{'id': 86311, 'name': 'The Avengers Collection...</td>\n",
       "      <td>[{'id': 12, 'name': 'Adventure'}, {'id': 878, ...</td>\n",
       "      <td>299534</td>\n",
       "      <td>['US']</td>\n",
       "      <td>| English | 日本語</td>\n",
       "      <td>After the devastating events of Avengers: Infi...</td>\n",
       "      <td>24.2346</td>\n",
       "      <td>/ulzhLuWrPK07P1YkdWQLZnQh1JL.jpg</td>\n",
       "      <td>[{'id': 420, 'logo_path': '/hUzeosd33nzE5MCNsZ...</td>\n",
       "      <td>...</td>\n",
       "      <td>United States of America</td>\n",
       "      <td>Marvel Studios</td>\n",
       "      <td>Robert Downey Jr. | Chris Evans | Mark Ruffalo...</td>\n",
       "      <td>Paul Schneider | Louis D'Esposito | Carlos Pac...</td>\n",
       "      <td>Anthony Russo</td>\n",
       "      <td>105</td>\n",
       "      <td>593</td>\n",
       "      <td>356.0</td>\n",
       "      <td>2799.44</td>\n",
       "      <td>True</td>\n",
       "    </tr>\n",
       "    <tr>\n",
       "      <th>1</th>\n",
       "      <td>/vL5LR6WdxWPjLPFRLe133jXWsh5.jpg</td>\n",
       "      <td>{'id': 87096, 'name': 'Avatar Collection', 'po...</td>\n",
       "      <td>[{'id': 28, 'name': 'Action'}, {'id': 12, 'nam...</td>\n",
       "      <td>19995</td>\n",
       "      <td>['US']</td>\n",
       "      <td>English | Español</td>\n",
       "      <td>In the 22nd century, a paraplegic Marine is di...</td>\n",
       "      <td>32.6950</td>\n",
       "      <td>/kyeqWdyUXW608qlYkRqosgbbJyK.jpg</td>\n",
       "      <td>[{'id': 444, 'logo_path': None, 'name': 'Dune ...</td>\n",
       "      <td>...</td>\n",
       "      <td>United Kingdom | United States of America</td>\n",
       "      <td>20th Century Fox | Dune Entertainment | Ingeni...</td>\n",
       "      <td>Sam Worthington | Zoe Saldaña | Sigourney Weav...</td>\n",
       "      <td>James Cameron | James Cameron | Ilram Choi | W...</td>\n",
       "      <td>James Cameron</td>\n",
       "      <td>65</td>\n",
       "      <td>986</td>\n",
       "      <td>237.0</td>\n",
       "      <td>2923.71</td>\n",
       "      <td>True</td>\n",
       "    </tr>\n",
       "    <tr>\n",
       "      <th>2</th>\n",
       "      <td>/k6EOrckWFuz7I4z4wiRwz8zsj4H.jpg</td>\n",
       "      <td>{'id': 10, 'name': 'Star Wars Collection', 'po...</td>\n",
       "      <td>[{'id': 12, 'name': 'Adventure'}, {'id': 28, '...</td>\n",
       "      <td>140607</td>\n",
       "      <td>['US']</td>\n",
       "      <td>English</td>\n",
       "      <td>Thirty years after defeating the Galactic Empi...</td>\n",
       "      <td>13.1664</td>\n",
       "      <td>/wqnLdwVXoBjKibFRR5U3y0aDUhs.jpg</td>\n",
       "      <td>[{'id': 1, 'logo_path': '/tlVSws0RvvtPBwViUyOF...</td>\n",
       "      <td>...</td>\n",
       "      <td>United States of America</td>\n",
       "      <td>Bad Robot | Lucasfilm Ltd.</td>\n",
       "      <td>Harrison Ford | Mark Hamill | Carrie Fisher | ...</td>\n",
       "      <td>Ron Jones | J.J. Abrams | Bryan Burk | J.J. Ab...</td>\n",
       "      <td>J.J. Abrams</td>\n",
       "      <td>182</td>\n",
       "      <td>257</td>\n",
       "      <td>245.0</td>\n",
       "      <td>2068.22</td>\n",
       "      <td>True</td>\n",
       "    </tr>\n",
       "    <tr>\n",
       "      <th>3</th>\n",
       "      <td>/mDfJG3LC3Dqb67AZ52x3Z0jU0uB.jpg</td>\n",
       "      <td>{'id': 86311, 'name': 'The Avengers Collection...</td>\n",
       "      <td>[{'id': 12, 'name': 'Adventure'}, {'id': 28, '...</td>\n",
       "      <td>299536</td>\n",
       "      <td>['US']</td>\n",
       "      <td>| English</td>\n",
       "      <td>As the Avengers and their allies have continue...</td>\n",
       "      <td>33.0700</td>\n",
       "      <td>/7WsyChQLEftFiDOVTGkv3hFpyyt.jpg</td>\n",
       "      <td>[{'id': 420, 'logo_path': '/hUzeosd33nzE5MCNsZ...</td>\n",
       "      <td>...</td>\n",
       "      <td>United States of America</td>\n",
       "      <td>Marvel Studios</td>\n",
       "      <td>Robert Downey Jr. | Chris Evans | Chris Hemswo...</td>\n",
       "      <td>Paul Schneider | John David Duncan | Jwaundace...</td>\n",
       "      <td>Joe Russo</td>\n",
       "      <td>69</td>\n",
       "      <td>724</td>\n",
       "      <td>300.0</td>\n",
       "      <td>2052.42</td>\n",
       "      <td>True</td>\n",
       "    </tr>\n",
       "    <tr>\n",
       "      <th>4</th>\n",
       "      <td>/sCzcYW9h55WcesOqA12cgEr9Exw.jpg</td>\n",
       "      <td>{}</td>\n",
       "      <td>[{'id': 18, 'name': 'Drama'}, {'id': 10749, 'n...</td>\n",
       "      <td>597</td>\n",
       "      <td>['US']</td>\n",
       "      <td>Deutsch | English | Français | Italiano | Pусс...</td>\n",
       "      <td>101-year-old Rose DeWitt Bukater tells the sto...</td>\n",
       "      <td>38.6063</td>\n",
       "      <td>/9xjZS2rlVxm8SFx8kPC3aIGCOYQ.jpg</td>\n",
       "      <td>[{'id': 4, 'logo_path': '/gz66EfNoYPqHTYI4q9UE...</td>\n",
       "      <td>...</td>\n",
       "      <td>United States of America</td>\n",
       "      <td>20th Century Fox | Lightstorm Entertainment | ...</td>\n",
       "      <td>Leonardo DiCaprio | Kate Winslet | Billy Zane ...</td>\n",
       "      <td>James Cameron | Sharon Mann | Emily Schweber |...</td>\n",
       "      <td>James Cameron</td>\n",
       "      <td>116</td>\n",
       "      <td>258</td>\n",
       "      <td>200.0</td>\n",
       "      <td>2264.16</td>\n",
       "      <td>False</td>\n",
       "    </tr>\n",
       "  </tbody>\n",
       "</table>\n",
       "<p>5 rows × 32 columns</p>\n",
       "</div>"
      ],
      "text/plain": [
       "                      backdrop_path  \\\n",
       "0  /7RyHsO4yDXtBv1zUU3mTpHeQ0d5.jpg   \n",
       "1  /vL5LR6WdxWPjLPFRLe133jXWsh5.jpg   \n",
       "2  /k6EOrckWFuz7I4z4wiRwz8zsj4H.jpg   \n",
       "3  /mDfJG3LC3Dqb67AZ52x3Z0jU0uB.jpg   \n",
       "4  /sCzcYW9h55WcesOqA12cgEr9Exw.jpg   \n",
       "\n",
       "                               belongs_to_collection  \\\n",
       "0  {'id': 86311, 'name': 'The Avengers Collection...   \n",
       "1  {'id': 87096, 'name': 'Avatar Collection', 'po...   \n",
       "2  {'id': 10, 'name': 'Star Wars Collection', 'po...   \n",
       "3  {'id': 86311, 'name': 'The Avengers Collection...   \n",
       "4                                                 {}   \n",
       "\n",
       "                                              genres      id origin_country  \\\n",
       "0  [{'id': 12, 'name': 'Adventure'}, {'id': 878, ...  299534         ['US']   \n",
       "1  [{'id': 28, 'name': 'Action'}, {'id': 12, 'nam...   19995         ['US']   \n",
       "2  [{'id': 12, 'name': 'Adventure'}, {'id': 28, '...  140607         ['US']   \n",
       "3  [{'id': 12, 'name': 'Adventure'}, {'id': 28, '...  299536         ['US']   \n",
       "4  [{'id': 18, 'name': 'Drama'}, {'id': 10749, 'n...     597         ['US']   \n",
       "\n",
       "                                   original_language  \\\n",
       "0                                    | English | 日本語   \n",
       "1                                  English | Español   \n",
       "2                                            English   \n",
       "3                                          | English   \n",
       "4  Deutsch | English | Français | Italiano | Pусс...   \n",
       "\n",
       "                                            overview  popularity  \\\n",
       "0  After the devastating events of Avengers: Infi...     24.2346   \n",
       "1  In the 22nd century, a paraplegic Marine is di...     32.6950   \n",
       "2  Thirty years after defeating the Galactic Empi...     13.1664   \n",
       "3  As the Avengers and their allies have continue...     33.0700   \n",
       "4  101-year-old Rose DeWitt Bukater tells the sto...     38.6063   \n",
       "\n",
       "                        poster_path  \\\n",
       "0  /ulzhLuWrPK07P1YkdWQLZnQh1JL.jpg   \n",
       "1  /kyeqWdyUXW608qlYkRqosgbbJyK.jpg   \n",
       "2  /wqnLdwVXoBjKibFRR5U3y0aDUhs.jpg   \n",
       "3  /7WsyChQLEftFiDOVTGkv3hFpyyt.jpg   \n",
       "4  /9xjZS2rlVxm8SFx8kPC3aIGCOYQ.jpg   \n",
       "\n",
       "                                production_companies  ...  \\\n",
       "0  [{'id': 420, 'logo_path': '/hUzeosd33nzE5MCNsZ...  ...   \n",
       "1  [{'id': 444, 'logo_path': None, 'name': 'Dune ...  ...   \n",
       "2  [{'id': 1, 'logo_path': '/tlVSws0RvvtPBwViUyOF...  ...   \n",
       "3  [{'id': 420, 'logo_path': '/hUzeosd33nzE5MCNsZ...  ...   \n",
       "4  [{'id': 4, 'logo_path': '/gz66EfNoYPqHTYI4q9UE...  ...   \n",
       "\n",
       "                    cld_production_countries  \\\n",
       "0                   United States of America   \n",
       "1  United Kingdom | United States of America   \n",
       "2                   United States of America   \n",
       "3                   United States of America   \n",
       "4                   United States of America   \n",
       "\n",
       "                            cld_production_companies  \\\n",
       "0                                     Marvel Studios   \n",
       "1  20th Century Fox | Dune Entertainment | Ingeni...   \n",
       "2                         Bad Robot | Lucasfilm Ltd.   \n",
       "3                                     Marvel Studios   \n",
       "4  20th Century Fox | Lightstorm Entertainment | ...   \n",
       "\n",
       "                                                cast  \\\n",
       "0  Robert Downey Jr. | Chris Evans | Mark Ruffalo...   \n",
       "1  Sam Worthington | Zoe Saldaña | Sigourney Weav...   \n",
       "2  Harrison Ford | Mark Hamill | Carrie Fisher | ...   \n",
       "3  Robert Downey Jr. | Chris Evans | Chris Hemswo...   \n",
       "4  Leonardo DiCaprio | Kate Winslet | Billy Zane ...   \n",
       "\n",
       "                                                crew       director cast_size  \\\n",
       "0  Paul Schneider | Louis D'Esposito | Carlos Pac...  Anthony Russo       105   \n",
       "1  James Cameron | James Cameron | Ilram Choi | W...  James Cameron        65   \n",
       "2  Ron Jones | J.J. Abrams | Bryan Burk | J.J. Ab...    J.J. Abrams       182   \n",
       "3  Paul Schneider | John David Duncan | Jwaundace...      Joe Russo        69   \n",
       "4  James Cameron | Sharon Mann | Emily Schweber |...  James Cameron       116   \n",
       "\n",
       "  crew_size  budget_musd  revenue_musd is_franchise  \n",
       "0       593        356.0       2799.44         True  \n",
       "1       986        237.0       2923.71         True  \n",
       "2       257        245.0       2068.22         True  \n",
       "3       724        300.0       2052.42         True  \n",
       "4       258        200.0       2264.16        False  \n",
       "\n",
       "[5 rows x 32 columns]"
      ]
     },
     "execution_count": 56,
     "metadata": {},
     "output_type": "execute_result"
    }
   ],
   "source": [
    "franch.add_is_franchise_column(df)"
   ]
  },
  {
   "cell_type": "markdown",
   "metadata": {},
   "source": [
    "- mean revenue"
   ]
  },
  {
   "cell_type": "code",
   "execution_count": 57,
   "metadata": {},
   "outputs": [
    {
     "data": {
      "text/html": [
       "<div>\n",
       "<style scoped>\n",
       "    .dataframe tbody tr th:only-of-type {\n",
       "        vertical-align: middle;\n",
       "    }\n",
       "\n",
       "    .dataframe tbody tr th {\n",
       "        vertical-align: top;\n",
       "    }\n",
       "\n",
       "    .dataframe thead th {\n",
       "        text-align: right;\n",
       "    }\n",
       "</style>\n",
       "<table border=\"1\" class=\"dataframe\">\n",
       "  <thead>\n",
       "    <tr style=\"text-align: right;\">\n",
       "      <th></th>\n",
       "      <th>Is_Franchise</th>\n",
       "      <th>Mean_Revenue_musd</th>\n",
       "    </tr>\n",
       "  </thead>\n",
       "  <tbody>\n",
       "    <tr>\n",
       "      <th>0</th>\n",
       "      <td>Standalone</td>\n",
       "      <td>1765.140000</td>\n",
       "    </tr>\n",
       "    <tr>\n",
       "      <th>1</th>\n",
       "      <td>Franchise</td>\n",
       "      <td>1682.643125</td>\n",
       "    </tr>\n",
       "  </tbody>\n",
       "</table>\n",
       "</div>"
      ],
      "text/plain": [
       "  Is_Franchise  Mean_Revenue_musd\n",
       "0   Standalone        1765.140000\n",
       "1    Franchise        1682.643125"
      ]
     },
     "execution_count": 57,
     "metadata": {},
     "output_type": "execute_result"
    }
   ],
   "source": [
    "franch.mean_revenue_by_franchise(df)"
   ]
  },
  {
   "cell_type": "markdown",
   "metadata": {},
   "source": [
    "Median ROI"
   ]
  },
  {
   "cell_type": "code",
   "execution_count": 58,
   "metadata": {},
   "outputs": [
    {
     "data": {
      "text/html": [
       "<div>\n",
       "<style scoped>\n",
       "    .dataframe tbody tr th:only-of-type {\n",
       "        vertical-align: middle;\n",
       "    }\n",
       "\n",
       "    .dataframe tbody tr th {\n",
       "        vertical-align: top;\n",
       "    }\n",
       "\n",
       "    .dataframe thead th {\n",
       "        text-align: right;\n",
       "    }\n",
       "</style>\n",
       "<table border=\"1\" class=\"dataframe\">\n",
       "  <thead>\n",
       "    <tr style=\"text-align: right;\">\n",
       "      <th></th>\n",
       "      <th>Is_Franchise</th>\n",
       "      <th>Median_ROI</th>\n",
       "    </tr>\n",
       "  </thead>\n",
       "  <tbody>\n",
       "    <tr>\n",
       "      <th>0</th>\n",
       "      <td>Standalone</td>\n",
       "      <td>9.617025</td>\n",
       "    </tr>\n",
       "    <tr>\n",
       "      <th>1</th>\n",
       "      <td>Franchise</td>\n",
       "      <td>7.786121</td>\n",
       "    </tr>\n",
       "  </tbody>\n",
       "</table>\n",
       "</div>"
      ],
      "text/plain": [
       "  Is_Franchise  Median_ROI\n",
       "0   Standalone    9.617025\n",
       "1    Franchise    7.786121"
      ]
     },
     "execution_count": 58,
     "metadata": {},
     "output_type": "execute_result"
    }
   ],
   "source": [
    "franch.median_roi_by_franchise(df)"
   ]
  },
  {
   "cell_type": "markdown",
   "metadata": {},
   "source": [
    "Mean Popularity"
   ]
  },
  {
   "cell_type": "code",
   "execution_count": 59,
   "metadata": {},
   "outputs": [
    {
     "data": {
      "text/html": [
       "<div>\n",
       "<style scoped>\n",
       "    .dataframe tbody tr th:only-of-type {\n",
       "        vertical-align: middle;\n",
       "    }\n",
       "\n",
       "    .dataframe tbody tr th {\n",
       "        vertical-align: top;\n",
       "    }\n",
       "\n",
       "    .dataframe thead th {\n",
       "        text-align: right;\n",
       "    }\n",
       "</style>\n",
       "<table border=\"1\" class=\"dataframe\">\n",
       "  <thead>\n",
       "    <tr style=\"text-align: right;\">\n",
       "      <th></th>\n",
       "      <th>Is_Franchise</th>\n",
       "      <th>Mean_Popularity</th>\n",
       "    </tr>\n",
       "  </thead>\n",
       "  <tbody>\n",
       "    <tr>\n",
       "      <th>0</th>\n",
       "      <td>Standalone</td>\n",
       "      <td>28.162750</td>\n",
       "    </tr>\n",
       "    <tr>\n",
       "      <th>1</th>\n",
       "      <td>Franchise</td>\n",
       "      <td>19.622387</td>\n",
       "    </tr>\n",
       "  </tbody>\n",
       "</table>\n",
       "</div>"
      ],
      "text/plain": [
       "  Is_Franchise  Mean_Popularity\n",
       "0   Standalone        28.162750\n",
       "1    Franchise        19.622387"
      ]
     },
     "execution_count": 59,
     "metadata": {},
     "output_type": "execute_result"
    }
   ],
   "source": [
    "franch.mean_popularity_by_franchise(df)"
   ]
  },
  {
   "cell_type": "markdown",
   "metadata": {},
   "source": [
    "mean budget raised"
   ]
  },
  {
   "cell_type": "code",
   "execution_count": 60,
   "metadata": {},
   "outputs": [
    {
     "data": {
      "text/html": [
       "<div>\n",
       "<style scoped>\n",
       "    .dataframe tbody tr th:only-of-type {\n",
       "        vertical-align: middle;\n",
       "    }\n",
       "\n",
       "    .dataframe tbody tr th {\n",
       "        vertical-align: top;\n",
       "    }\n",
       "\n",
       "    .dataframe thead th {\n",
       "        text-align: right;\n",
       "    }\n",
       "</style>\n",
       "<table border=\"1\" class=\"dataframe\">\n",
       "  <thead>\n",
       "    <tr style=\"text-align: right;\">\n",
       "      <th></th>\n",
       "      <th>Is_Franchise</th>\n",
       "      <th>Mean_Vote_Average</th>\n",
       "    </tr>\n",
       "  </thead>\n",
       "  <tbody>\n",
       "    <tr>\n",
       "      <th>0</th>\n",
       "      <td>Standalone</td>\n",
       "      <td>7.438000</td>\n",
       "    </tr>\n",
       "    <tr>\n",
       "      <th>1</th>\n",
       "      <td>Franchise</td>\n",
       "      <td>7.379625</td>\n",
       "    </tr>\n",
       "  </tbody>\n",
       "</table>\n",
       "</div>"
      ],
      "text/plain": [
       "  Is_Franchise  Mean_Vote_Average\n",
       "0   Standalone           7.438000\n",
       "1    Franchise           7.379625"
      ]
     },
     "execution_count": 60,
     "metadata": {},
     "output_type": "execute_result"
    }
   ],
   "source": [
    "franch.mean_rating_by_franchise(df)"
   ]
  },
  {
   "cell_type": "markdown",
   "metadata": {},
   "source": [
    "- Franchise Summary"
   ]
  },
  {
   "cell_type": "code",
   "execution_count": 61,
   "metadata": {},
   "outputs": [
    {
     "data": {
      "text/html": [
       "<div>\n",
       "<style scoped>\n",
       "    .dataframe tbody tr th:only-of-type {\n",
       "        vertical-align: middle;\n",
       "    }\n",
       "\n",
       "    .dataframe tbody tr th {\n",
       "        vertical-align: top;\n",
       "    }\n",
       "\n",
       "    .dataframe thead th {\n",
       "        text-align: right;\n",
       "    }\n",
       "</style>\n",
       "<table border=\"1\" class=\"dataframe\">\n",
       "  <thead>\n",
       "    <tr style=\"text-align: right;\">\n",
       "      <th></th>\n",
       "      <th>collection_name</th>\n",
       "      <th>movie_count</th>\n",
       "      <th>total_budget</th>\n",
       "      <th>mean_budget</th>\n",
       "      <th>total_revenue</th>\n",
       "      <th>mean_revenue</th>\n",
       "      <th>mean_rating</th>\n",
       "    </tr>\n",
       "  </thead>\n",
       "  <tbody>\n",
       "    <tr>\n",
       "      <th>0</th>\n",
       "      <td>Avatar Collection</td>\n",
       "      <td>1</td>\n",
       "      <td>237.0</td>\n",
       "      <td>237.00</td>\n",
       "      <td>2923.71</td>\n",
       "      <td>2923.710</td>\n",
       "      <td>7.5880</td>\n",
       "    </tr>\n",
       "    <tr>\n",
       "      <th>1</th>\n",
       "      <td>Black Panther Collection</td>\n",
       "      <td>1</td>\n",
       "      <td>200.0</td>\n",
       "      <td>200.00</td>\n",
       "      <td>1349.93</td>\n",
       "      <td>1349.930</td>\n",
       "      <td>7.3730</td>\n",
       "    </tr>\n",
       "    <tr>\n",
       "      <th>2</th>\n",
       "      <td>Frozen Collection</td>\n",
       "      <td>2</td>\n",
       "      <td>300.0</td>\n",
       "      <td>150.00</td>\n",
       "      <td>2727.90</td>\n",
       "      <td>1363.950</td>\n",
       "      <td>7.2485</td>\n",
       "    </tr>\n",
       "    <tr>\n",
       "      <th>3</th>\n",
       "      <td>Harry Potter Collection</td>\n",
       "      <td>1</td>\n",
       "      <td>125.0</td>\n",
       "      <td>125.00</td>\n",
       "      <td>1341.51</td>\n",
       "      <td>1341.510</td>\n",
       "      <td>8.1000</td>\n",
       "    </tr>\n",
       "    <tr>\n",
       "      <th>4</th>\n",
       "      <td>Jurassic Park Collection</td>\n",
       "      <td>2</td>\n",
       "      <td>320.0</td>\n",
       "      <td>160.00</td>\n",
       "      <td>2982.01</td>\n",
       "      <td>1491.005</td>\n",
       "      <td>6.6155</td>\n",
       "    </tr>\n",
       "    <tr>\n",
       "      <th>5</th>\n",
       "      <td>Star Wars Collection</td>\n",
       "      <td>2</td>\n",
       "      <td>445.0</td>\n",
       "      <td>222.50</td>\n",
       "      <td>3400.92</td>\n",
       "      <td>1700.460</td>\n",
       "      <td>7.0210</td>\n",
       "    </tr>\n",
       "    <tr>\n",
       "      <th>6</th>\n",
       "      <td>The Avengers Collection</td>\n",
       "      <td>4</td>\n",
       "      <td>1241.0</td>\n",
       "      <td>310.25</td>\n",
       "      <td>7776.08</td>\n",
       "      <td>1944.020</td>\n",
       "      <td>7.8700</td>\n",
       "    </tr>\n",
       "    <tr>\n",
       "      <th>7</th>\n",
       "      <td>The Fast and the Furious Collection</td>\n",
       "      <td>1</td>\n",
       "      <td>190.0</td>\n",
       "      <td>190.00</td>\n",
       "      <td>1515.40</td>\n",
       "      <td>1515.400</td>\n",
       "      <td>7.2000</td>\n",
       "    </tr>\n",
       "    <tr>\n",
       "      <th>8</th>\n",
       "      <td>The Incredibles Collection</td>\n",
       "      <td>1</td>\n",
       "      <td>200.0</td>\n",
       "      <td>200.00</td>\n",
       "      <td>1242.81</td>\n",
       "      <td>1242.810</td>\n",
       "      <td>7.4540</td>\n",
       "    </tr>\n",
       "    <tr>\n",
       "      <th>9</th>\n",
       "      <td>The Lion King (Reboot) Collection</td>\n",
       "      <td>1</td>\n",
       "      <td>260.0</td>\n",
       "      <td>260.00</td>\n",
       "      <td>1662.02</td>\n",
       "      <td>1662.020</td>\n",
       "      <td>7.1090</td>\n",
       "    </tr>\n",
       "  </tbody>\n",
       "</table>\n",
       "</div>"
      ],
      "text/plain": [
       "                       collection_name  movie_count  total_budget  \\\n",
       "0                    Avatar Collection            1         237.0   \n",
       "1             Black Panther Collection            1         200.0   \n",
       "2                    Frozen Collection            2         300.0   \n",
       "3              Harry Potter Collection            1         125.0   \n",
       "4             Jurassic Park Collection            2         320.0   \n",
       "5                 Star Wars Collection            2         445.0   \n",
       "6              The Avengers Collection            4        1241.0   \n",
       "7  The Fast and the Furious Collection            1         190.0   \n",
       "8           The Incredibles Collection            1         200.0   \n",
       "9    The Lion King (Reboot) Collection            1         260.0   \n",
       "\n",
       "   mean_budget  total_revenue  mean_revenue  mean_rating  \n",
       "0       237.00        2923.71      2923.710       7.5880  \n",
       "1       200.00        1349.93      1349.930       7.3730  \n",
       "2       150.00        2727.90      1363.950       7.2485  \n",
       "3       125.00        1341.51      1341.510       8.1000  \n",
       "4       160.00        2982.01      1491.005       6.6155  \n",
       "5       222.50        3400.92      1700.460       7.0210  \n",
       "6       310.25        7776.08      1944.020       7.8700  \n",
       "7       190.00        1515.40      1515.400       7.2000  \n",
       "8       200.00        1242.81      1242.810       7.4540  \n",
       "9       260.00        1662.02      1662.020       7.1090  "
      ]
     },
     "execution_count": 61,
     "metadata": {},
     "output_type": "execute_result"
    }
   ],
   "source": [
    "franch.generate_franchise_summary(df)"
   ]
  },
  {
   "cell_type": "markdown",
   "metadata": {},
   "source": [
    "### Most Successful Franchises & Directors"
   ]
  },
  {
   "cell_type": "code",
   "execution_count": 62,
   "metadata": {},
   "outputs": [
    {
     "data": {
      "text/html": [
       "<div>\n",
       "<style scoped>\n",
       "    .dataframe tbody tr th:only-of-type {\n",
       "        vertical-align: middle;\n",
       "    }\n",
       "\n",
       "    .dataframe tbody tr th {\n",
       "        vertical-align: top;\n",
       "    }\n",
       "\n",
       "    .dataframe thead th {\n",
       "        text-align: right;\n",
       "    }\n",
       "</style>\n",
       "<table border=\"1\" class=\"dataframe\">\n",
       "  <thead>\n",
       "    <tr style=\"text-align: right;\">\n",
       "      <th></th>\n",
       "      <th>collection_name</th>\n",
       "      <th>movie_count</th>\n",
       "      <th>total_budget</th>\n",
       "      <th>mean_budget</th>\n",
       "      <th>total_revenue</th>\n",
       "      <th>mean_revenue</th>\n",
       "      <th>mean_rating</th>\n",
       "    </tr>\n",
       "  </thead>\n",
       "  <tbody>\n",
       "    <tr>\n",
       "      <th>0</th>\n",
       "      <td>Avatar Collection</td>\n",
       "      <td>1</td>\n",
       "      <td>237.0</td>\n",
       "      <td>237.00</td>\n",
       "      <td>2923.71</td>\n",
       "      <td>2923.710</td>\n",
       "      <td>7.5880</td>\n",
       "    </tr>\n",
       "    <tr>\n",
       "      <th>1</th>\n",
       "      <td>Black Panther Collection</td>\n",
       "      <td>1</td>\n",
       "      <td>200.0</td>\n",
       "      <td>200.00</td>\n",
       "      <td>1349.93</td>\n",
       "      <td>1349.930</td>\n",
       "      <td>7.3730</td>\n",
       "    </tr>\n",
       "    <tr>\n",
       "      <th>2</th>\n",
       "      <td>Frozen Collection</td>\n",
       "      <td>2</td>\n",
       "      <td>300.0</td>\n",
       "      <td>150.00</td>\n",
       "      <td>2727.90</td>\n",
       "      <td>1363.950</td>\n",
       "      <td>7.2485</td>\n",
       "    </tr>\n",
       "    <tr>\n",
       "      <th>3</th>\n",
       "      <td>Harry Potter Collection</td>\n",
       "      <td>1</td>\n",
       "      <td>125.0</td>\n",
       "      <td>125.00</td>\n",
       "      <td>1341.51</td>\n",
       "      <td>1341.510</td>\n",
       "      <td>8.1000</td>\n",
       "    </tr>\n",
       "    <tr>\n",
       "      <th>4</th>\n",
       "      <td>Jurassic Park Collection</td>\n",
       "      <td>2</td>\n",
       "      <td>320.0</td>\n",
       "      <td>160.00</td>\n",
       "      <td>2982.01</td>\n",
       "      <td>1491.005</td>\n",
       "      <td>6.6155</td>\n",
       "    </tr>\n",
       "    <tr>\n",
       "      <th>5</th>\n",
       "      <td>Star Wars Collection</td>\n",
       "      <td>2</td>\n",
       "      <td>445.0</td>\n",
       "      <td>222.50</td>\n",
       "      <td>3400.92</td>\n",
       "      <td>1700.460</td>\n",
       "      <td>7.0210</td>\n",
       "    </tr>\n",
       "    <tr>\n",
       "      <th>6</th>\n",
       "      <td>The Avengers Collection</td>\n",
       "      <td>4</td>\n",
       "      <td>1241.0</td>\n",
       "      <td>310.25</td>\n",
       "      <td>7776.08</td>\n",
       "      <td>1944.020</td>\n",
       "      <td>7.8700</td>\n",
       "    </tr>\n",
       "    <tr>\n",
       "      <th>7</th>\n",
       "      <td>The Fast and the Furious Collection</td>\n",
       "      <td>1</td>\n",
       "      <td>190.0</td>\n",
       "      <td>190.00</td>\n",
       "      <td>1515.40</td>\n",
       "      <td>1515.400</td>\n",
       "      <td>7.2000</td>\n",
       "    </tr>\n",
       "    <tr>\n",
       "      <th>8</th>\n",
       "      <td>The Incredibles Collection</td>\n",
       "      <td>1</td>\n",
       "      <td>200.0</td>\n",
       "      <td>200.00</td>\n",
       "      <td>1242.81</td>\n",
       "      <td>1242.810</td>\n",
       "      <td>7.4540</td>\n",
       "    </tr>\n",
       "    <tr>\n",
       "      <th>9</th>\n",
       "      <td>The Lion King (Reboot) Collection</td>\n",
       "      <td>1</td>\n",
       "      <td>260.0</td>\n",
       "      <td>260.00</td>\n",
       "      <td>1662.02</td>\n",
       "      <td>1662.020</td>\n",
       "      <td>7.1090</td>\n",
       "    </tr>\n",
       "  </tbody>\n",
       "</table>\n",
       "</div>"
      ],
      "text/plain": [
       "                       collection_name  movie_count  total_budget  \\\n",
       "0                    Avatar Collection            1         237.0   \n",
       "1             Black Panther Collection            1         200.0   \n",
       "2                    Frozen Collection            2         300.0   \n",
       "3              Harry Potter Collection            1         125.0   \n",
       "4             Jurassic Park Collection            2         320.0   \n",
       "5                 Star Wars Collection            2         445.0   \n",
       "6              The Avengers Collection            4        1241.0   \n",
       "7  The Fast and the Furious Collection            1         190.0   \n",
       "8           The Incredibles Collection            1         200.0   \n",
       "9    The Lion King (Reboot) Collection            1         260.0   \n",
       "\n",
       "   mean_budget  total_revenue  mean_revenue  mean_rating  \n",
       "0       237.00        2923.71      2923.710       7.5880  \n",
       "1       200.00        1349.93      1349.930       7.3730  \n",
       "2       150.00        2727.90      1363.950       7.2485  \n",
       "3       125.00        1341.51      1341.510       8.1000  \n",
       "4       160.00        2982.01      1491.005       6.6155  \n",
       "5       222.50        3400.92      1700.460       7.0210  \n",
       "6       310.25        7776.08      1944.020       7.8700  \n",
       "7       190.00        1515.40      1515.400       7.2000  \n",
       "8       200.00        1242.81      1242.810       7.4540  \n",
       "9       260.00        1662.02      1662.020       7.1090  "
      ]
     },
     "execution_count": 62,
     "metadata": {},
     "output_type": "execute_result"
    }
   ],
   "source": [
    "franchise_summary = franch.generate_franchise_summary(df)\n",
    "franchise_summary"
   ]
  },
  {
   "cell_type": "code",
   "execution_count": 63,
   "metadata": {},
   "outputs": [
    {
     "name": "stdout",
     "output_type": "stream",
     "text": [
      "With a mean budget of 310.25 ,The Avengers Collection is the most sucessful movie franschise\n"
     ]
    }
   ],
   "source": [
    "franch.sort_mean_budget(franchise_summary,'collection_name','mean_budget')"
   ]
  },
  {
   "cell_type": "code",
   "execution_count": 64,
   "metadata": {},
   "outputs": [
    {
     "name": "stdout",
     "output_type": "stream",
     "text": [
      "With a  total budget of  1241.0, The Avengers Collection is the most sucessful movie franschise\n"
     ]
    }
   ],
   "source": [
    "franch.sort_total_budget(franchise_summary,'collection_name','total_budget')"
   ]
  },
  {
   "cell_type": "code",
   "execution_count": 65,
   "metadata": {},
   "outputs": [
    {
     "name": "stdout",
     "output_type": "stream",
     "text": [
      "With a total revenue of  7776.08,The Avengers Collection is the most sucessful movie franschise\n"
     ]
    }
   ],
   "source": [
    "franch.sort_total_revenue(franchise_summary,'collection_name','total_revenue')"
   ]
  },
  {
   "cell_type": "code",
   "execution_count": 66,
   "metadata": {},
   "outputs": [
    {
     "name": "stdout",
     "output_type": "stream",
     "text": [
      "With a mean revenue of  2923.71 ,Avatar Collection is the most sucessful movie franschise\n"
     ]
    }
   ],
   "source": [
    "franch.sort_mean_revenue(franchise_summary,'collection_name','mean_revenue')\n"
   ]
  },
  {
   "cell_type": "code",
   "execution_count": 67,
   "metadata": {},
   "outputs": [
    {
     "name": "stdout",
     "output_type": "stream",
     "text": [
      "With a mean rating of  8.1 ,Harry Potter Collection is the most sucessful movie franschise\n"
     ]
    }
   ],
   "source": [
    "franch.sort_mean_rating(franchise_summary,'collection_name','mean_rating')"
   ]
  },
  {
   "cell_type": "code",
   "execution_count": 68,
   "metadata": {},
   "outputs": [
    {
     "name": "stdout",
     "output_type": "stream",
     "text": [
      "The Avengers Collection is the most successful movie franchise with  4 movie franchises.\n"
     ]
    }
   ],
   "source": [
    "franch.sort_most_successful_movieinfranchise(franchise_summary,'collection_name','movie_count')\n"
   ]
  },
  {
   "cell_type": "code",
   "execution_count": 69,
   "metadata": {},
   "outputs": [
    {
     "data": {
      "text/html": [
       "<div>\n",
       "<style scoped>\n",
       "    .dataframe tbody tr th:only-of-type {\n",
       "        vertical-align: middle;\n",
       "    }\n",
       "\n",
       "    .dataframe tbody tr th {\n",
       "        vertical-align: top;\n",
       "    }\n",
       "\n",
       "    .dataframe thead th {\n",
       "        text-align: right;\n",
       "    }\n",
       "</style>\n",
       "<table border=\"1\" class=\"dataframe\">\n",
       "  <thead>\n",
       "    <tr style=\"text-align: right;\">\n",
       "      <th></th>\n",
       "      <th>director</th>\n",
       "      <th>num_movies_directed</th>\n",
       "      <th>total_revenue</th>\n",
       "      <th>mean_rating</th>\n",
       "    </tr>\n",
       "  </thead>\n",
       "  <tbody>\n",
       "    <tr>\n",
       "      <th>0</th>\n",
       "      <td>Anthony Russo</td>\n",
       "      <td>1</td>\n",
       "      <td>2799.44</td>\n",
       "      <td>8.2380</td>\n",
       "    </tr>\n",
       "    <tr>\n",
       "      <th>1</th>\n",
       "      <td>Bill Condon</td>\n",
       "      <td>1</td>\n",
       "      <td>1266.12</td>\n",
       "      <td>6.9710</td>\n",
       "    </tr>\n",
       "    <tr>\n",
       "      <th>2</th>\n",
       "      <td>Brad Bird</td>\n",
       "      <td>1</td>\n",
       "      <td>1242.81</td>\n",
       "      <td>7.4540</td>\n",
       "    </tr>\n",
       "    <tr>\n",
       "      <th>3</th>\n",
       "      <td>Colin Trevorrow</td>\n",
       "      <td>1</td>\n",
       "      <td>1671.54</td>\n",
       "      <td>6.6930</td>\n",
       "    </tr>\n",
       "    <tr>\n",
       "      <th>4</th>\n",
       "      <td>David Yates</td>\n",
       "      <td>1</td>\n",
       "      <td>1341.51</td>\n",
       "      <td>8.1000</td>\n",
       "    </tr>\n",
       "    <tr>\n",
       "      <th>5</th>\n",
       "      <td>J.A. Bayona</td>\n",
       "      <td>1</td>\n",
       "      <td>1310.47</td>\n",
       "      <td>6.5380</td>\n",
       "    </tr>\n",
       "    <tr>\n",
       "      <th>6</th>\n",
       "      <td>J.J. Abrams</td>\n",
       "      <td>1</td>\n",
       "      <td>2068.22</td>\n",
       "      <td>7.2620</td>\n",
       "    </tr>\n",
       "    <tr>\n",
       "      <th>7</th>\n",
       "      <td>James Cameron</td>\n",
       "      <td>2</td>\n",
       "      <td>5187.87</td>\n",
       "      <td>7.7465</td>\n",
       "    </tr>\n",
       "    <tr>\n",
       "      <th>8</th>\n",
       "      <td>James Wan</td>\n",
       "      <td>1</td>\n",
       "      <td>1515.40</td>\n",
       "      <td>7.2000</td>\n",
       "    </tr>\n",
       "    <tr>\n",
       "      <th>9</th>\n",
       "      <td>Jennifer Lee</td>\n",
       "      <td>2</td>\n",
       "      <td>2727.90</td>\n",
       "      <td>7.2485</td>\n",
       "    </tr>\n",
       "    <tr>\n",
       "      <th>10</th>\n",
       "      <td>Joe Russo</td>\n",
       "      <td>1</td>\n",
       "      <td>2052.42</td>\n",
       "      <td>8.2360</td>\n",
       "    </tr>\n",
       "    <tr>\n",
       "      <th>11</th>\n",
       "      <td>Jon Favreau</td>\n",
       "      <td>1</td>\n",
       "      <td>1662.02</td>\n",
       "      <td>7.1090</td>\n",
       "    </tr>\n",
       "    <tr>\n",
       "      <th>12</th>\n",
       "      <td>Joss Whedon</td>\n",
       "      <td>2</td>\n",
       "      <td>2924.22</td>\n",
       "      <td>7.5030</td>\n",
       "    </tr>\n",
       "    <tr>\n",
       "      <th>13</th>\n",
       "      <td>Rian Johnson</td>\n",
       "      <td>1</td>\n",
       "      <td>1332.70</td>\n",
       "      <td>6.7800</td>\n",
       "    </tr>\n",
       "    <tr>\n",
       "      <th>14</th>\n",
       "      <td>Ryan Coogler</td>\n",
       "      <td>1</td>\n",
       "      <td>1349.93</td>\n",
       "      <td>7.3730</td>\n",
       "    </tr>\n",
       "  </tbody>\n",
       "</table>\n",
       "</div>"
      ],
      "text/plain": [
       "           director  num_movies_directed  total_revenue  mean_rating\n",
       "0     Anthony Russo                    1        2799.44       8.2380\n",
       "1       Bill Condon                    1        1266.12       6.9710\n",
       "2         Brad Bird                    1        1242.81       7.4540\n",
       "3   Colin Trevorrow                    1        1671.54       6.6930\n",
       "4       David Yates                    1        1341.51       8.1000\n",
       "5       J.A. Bayona                    1        1310.47       6.5380\n",
       "6       J.J. Abrams                    1        2068.22       7.2620\n",
       "7     James Cameron                    2        5187.87       7.7465\n",
       "8         James Wan                    1        1515.40       7.2000\n",
       "9      Jennifer Lee                    2        2727.90       7.2485\n",
       "10        Joe Russo                    1        2052.42       8.2360\n",
       "11      Jon Favreau                    1        1662.02       7.1090\n",
       "12      Joss Whedon                    2        2924.22       7.5030\n",
       "13     Rian Johnson                    1        1332.70       6.7800\n",
       "14     Ryan Coogler                    1        1349.93       7.3730"
      ]
     },
     "execution_count": 69,
     "metadata": {},
     "output_type": "execute_result"
    }
   ],
   "source": [
    "franch.generate_director_df(df)"
   ]
  },
  {
   "cell_type": "code",
   "execution_count": 70,
   "metadata": {},
   "outputs": [
    {
     "data": {
      "text/html": [
       "<div>\n",
       "<style scoped>\n",
       "    .dataframe tbody tr th:only-of-type {\n",
       "        vertical-align: middle;\n",
       "    }\n",
       "\n",
       "    .dataframe tbody tr th {\n",
       "        vertical-align: top;\n",
       "    }\n",
       "\n",
       "    .dataframe thead th {\n",
       "        text-align: right;\n",
       "    }\n",
       "</style>\n",
       "<table border=\"1\" class=\"dataframe\">\n",
       "  <thead>\n",
       "    <tr style=\"text-align: right;\">\n",
       "      <th></th>\n",
       "      <th>director</th>\n",
       "      <th>num_movies_directed</th>\n",
       "      <th>total_revenue</th>\n",
       "      <th>mean_rating</th>\n",
       "    </tr>\n",
       "  </thead>\n",
       "  <tbody>\n",
       "    <tr>\n",
       "      <th>0</th>\n",
       "      <td>Anthony Russo</td>\n",
       "      <td>1</td>\n",
       "      <td>2799.44</td>\n",
       "      <td>8.2380</td>\n",
       "    </tr>\n",
       "    <tr>\n",
       "      <th>1</th>\n",
       "      <td>Bill Condon</td>\n",
       "      <td>1</td>\n",
       "      <td>1266.12</td>\n",
       "      <td>6.9710</td>\n",
       "    </tr>\n",
       "    <tr>\n",
       "      <th>2</th>\n",
       "      <td>Brad Bird</td>\n",
       "      <td>1</td>\n",
       "      <td>1242.81</td>\n",
       "      <td>7.4540</td>\n",
       "    </tr>\n",
       "    <tr>\n",
       "      <th>3</th>\n",
       "      <td>Colin Trevorrow</td>\n",
       "      <td>1</td>\n",
       "      <td>1671.54</td>\n",
       "      <td>6.6930</td>\n",
       "    </tr>\n",
       "    <tr>\n",
       "      <th>4</th>\n",
       "      <td>David Yates</td>\n",
       "      <td>1</td>\n",
       "      <td>1341.51</td>\n",
       "      <td>8.1000</td>\n",
       "    </tr>\n",
       "    <tr>\n",
       "      <th>5</th>\n",
       "      <td>J.A. Bayona</td>\n",
       "      <td>1</td>\n",
       "      <td>1310.47</td>\n",
       "      <td>6.5380</td>\n",
       "    </tr>\n",
       "    <tr>\n",
       "      <th>6</th>\n",
       "      <td>J.J. Abrams</td>\n",
       "      <td>1</td>\n",
       "      <td>2068.22</td>\n",
       "      <td>7.2620</td>\n",
       "    </tr>\n",
       "    <tr>\n",
       "      <th>7</th>\n",
       "      <td>James Cameron</td>\n",
       "      <td>2</td>\n",
       "      <td>5187.87</td>\n",
       "      <td>7.7465</td>\n",
       "    </tr>\n",
       "    <tr>\n",
       "      <th>8</th>\n",
       "      <td>James Wan</td>\n",
       "      <td>1</td>\n",
       "      <td>1515.40</td>\n",
       "      <td>7.2000</td>\n",
       "    </tr>\n",
       "    <tr>\n",
       "      <th>9</th>\n",
       "      <td>Jennifer Lee</td>\n",
       "      <td>2</td>\n",
       "      <td>2727.90</td>\n",
       "      <td>7.2485</td>\n",
       "    </tr>\n",
       "    <tr>\n",
       "      <th>10</th>\n",
       "      <td>Joe Russo</td>\n",
       "      <td>1</td>\n",
       "      <td>2052.42</td>\n",
       "      <td>8.2360</td>\n",
       "    </tr>\n",
       "    <tr>\n",
       "      <th>11</th>\n",
       "      <td>Jon Favreau</td>\n",
       "      <td>1</td>\n",
       "      <td>1662.02</td>\n",
       "      <td>7.1090</td>\n",
       "    </tr>\n",
       "    <tr>\n",
       "      <th>12</th>\n",
       "      <td>Joss Whedon</td>\n",
       "      <td>2</td>\n",
       "      <td>2924.22</td>\n",
       "      <td>7.5030</td>\n",
       "    </tr>\n",
       "    <tr>\n",
       "      <th>13</th>\n",
       "      <td>Rian Johnson</td>\n",
       "      <td>1</td>\n",
       "      <td>1332.70</td>\n",
       "      <td>6.7800</td>\n",
       "    </tr>\n",
       "    <tr>\n",
       "      <th>14</th>\n",
       "      <td>Ryan Coogler</td>\n",
       "      <td>1</td>\n",
       "      <td>1349.93</td>\n",
       "      <td>7.3730</td>\n",
       "    </tr>\n",
       "  </tbody>\n",
       "</table>\n",
       "</div>"
      ],
      "text/plain": [
       "           director  num_movies_directed  total_revenue  mean_rating\n",
       "0     Anthony Russo                    1        2799.44       8.2380\n",
       "1       Bill Condon                    1        1266.12       6.9710\n",
       "2         Brad Bird                    1        1242.81       7.4540\n",
       "3   Colin Trevorrow                    1        1671.54       6.6930\n",
       "4       David Yates                    1        1341.51       8.1000\n",
       "5       J.A. Bayona                    1        1310.47       6.5380\n",
       "6       J.J. Abrams                    1        2068.22       7.2620\n",
       "7     James Cameron                    2        5187.87       7.7465\n",
       "8         James Wan                    1        1515.40       7.2000\n",
       "9      Jennifer Lee                    2        2727.90       7.2485\n",
       "10        Joe Russo                    1        2052.42       8.2360\n",
       "11      Jon Favreau                    1        1662.02       7.1090\n",
       "12      Joss Whedon                    2        2924.22       7.5030\n",
       "13     Rian Johnson                    1        1332.70       6.7800\n",
       "14     Ryan Coogler                    1        1349.93       7.3730"
      ]
     },
     "execution_count": 70,
     "metadata": {},
     "output_type": "execute_result"
    }
   ],
   "source": [
    "# franch.generate_director_df(reordered_df)\n",
    "director_df= franch.generate_director_df(df)\n",
    "director_df"
   ]
  },
  {
   "cell_type": "code",
   "execution_count": 71,
   "metadata": {},
   "outputs": [
    {
     "name": "stdout",
     "output_type": "stream",
     "text": [
      "Joss Whedon has directed 2 movies.\n"
     ]
    }
   ],
   "source": [
    "franch.most_movies_directed(director_df,'director','num_movies_directed')"
   ]
  },
  {
   "cell_type": "code",
   "execution_count": 72,
   "metadata": {},
   "outputs": [
    {
     "name": "stdout",
     "output_type": "stream",
     "text": [
      "James Cameron is the most successful by generating USD 5187.87 in revenue.\n"
     ]
    }
   ],
   "source": [
    "franch.most_successful_director_by_revenue(director_df,'director','total_revenue')\n"
   ]
  },
  {
   "cell_type": "code",
   "execution_count": 73,
   "metadata": {},
   "outputs": [
    {
     "name": "stdout",
     "output_type": "stream",
     "text": [
      "Anthony Russo is the most successful by having a mean rating of 8.238.\n"
     ]
    }
   ],
   "source": [
    "franch.successful_director_meanrating(director_df,'director','mean_rating')\n"
   ]
  },
  {
   "cell_type": "markdown",
   "metadata": {},
   "source": [
    "### Data Visualization"
   ]
  },
  {
   "cell_type": "markdown",
   "metadata": {},
   "source": [
    "- Revenue vs. Budget Trends"
   ]
  },
  {
   "cell_type": "code",
   "execution_count": 74,
   "metadata": {},
   "outputs": [
    {
     "data": {
      "image/png": "[encoded data removed]",
      "text/plain": [
       "<Figure size 1000x600 with 1 Axes>"
      ]
     },
     "metadata": {},
     "output_type": "display_data"
    }
   ],
   "source": [
    "visn.revenue_vs_budget(reordered_df)"
   ]
  },
  {
   "cell_type": "markdown",
   "metadata": {},
   "source": [
    "- ROI Distribution by Genre"
   ]
  },
  {
   "cell_type": "code",
   "execution_count": 75,
   "metadata": {},
   "outputs": [
    {
     "data": {
      "image/png": "[encoded data removed]",
      "text/plain": [
       "<Figure size 3000x1500 with 1 Axes>"
      ]
     },
     "metadata": {},
     "output_type": "display_data"
    }
   ],
   "source": [
    "visn.roi_distribution_by_genre(df)"
   ]
  },
  {
   "cell_type": "markdown",
   "metadata": {},
   "source": [
    "- Popularity vs. Rating"
   ]
  },
  {
   "cell_type": "code",
   "execution_count": 76,
   "metadata": {},
   "outputs": [
    {
     "data": {
      "image/png": "[encoded data removed]",
      "text/plain": [
       "<Figure size 1000x600 with 1 Axes>"
      ]
     },
     "metadata": {},
     "output_type": "display_data"
    }
   ],
   "source": [
    "visn.popularity_vs_rating(df)"
   ]
  },
  {
   "cell_type": "markdown",
   "metadata": {},
   "source": [
    "- Yearly Trends in Box Office Performance"
   ]
  },
  {
   "cell_type": "code",
   "execution_count": 77,
   "metadata": {},
   "outputs": [
    {
     "name": "stderr",
     "output_type": "stream",
     "text": [
      "No artists with labels found to put in legend.  Note that artists whose label start with an underscore are ignored when legend() is called with no argument.\n"
     ]
    },
    {
     "data": {
      "image/png": "[encoded data removed]",
      "text/plain": [
       "<Figure size 1500x700 with 1 Axes>"
      ]
     },
     "metadata": {},
     "output_type": "display_data"
    }
   ],
   "source": [
    "visn.yearly_box_office_performance(df)"
   ]
  },
  {
   "cell_type": "markdown",
   "metadata": {},
   "source": [
    "- Comparison of Franchise vs. Standalone Success"
   ]
  },
  {
   "cell_type": "code",
   "execution_count": 78,
   "metadata": {},
   "outputs": [
    {
     "data": {
      "text/plain": [
       "<Figure size 1000x600 with 0 Axes>"
      ]
     },
     "metadata": {},
     "output_type": "display_data"
    },
    {
     "data": {
      "image/png": "[encoded data removed]",
      "text/plain": [
       "<Figure size 1200x700 with 1 Axes>"
      ]
     },
     "metadata": {},
     "output_type": "display_data"
    }
   ],
   "source": [
    "visn.franchise_vs_standalone_success(df)"
   ]
  }
 ],
 "metadata": {
  "kernelspec": {
   "display_name": "vscodeenv",
   "language": "python",
   "name": "python3"
  },
  "language_info": {
   "codemirror_mode": {
    "name": "ipython",
    "version": 3
   },
   "file_extension": ".py",
   "mimetype": "text/x-python",
   "name": "python",
   "nbconvert_exporter": "python",
   "pygments_lexer": "ipython3",
   "version": "3.8.20"
  },
  "orig_nbformat": 4
 },
 "nbformat": 4,
 "nbformat_minor": 2
}
