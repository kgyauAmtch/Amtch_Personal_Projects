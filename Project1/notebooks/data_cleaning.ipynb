{
 "cells": [
  {
   "cell_type": "code",
   "execution_count": null,
   "metadata": {},
   "outputs": [],
   "source": [
    "import pandas as pd\n",
    "import numpy as np\n",
    "import ast"
   ]
  },
  {
   "cell_type": "code",
   "execution_count": null,
   "metadata": {},
   "outputs": [],
   "source": [
    "# file_path=\"/Users/gyauk/github/Project1_movie_analysis/Project1/data/raw/movies_07-04-2025_16-31-38.csv\"\n",
    "file_path='/Users/gyauk/github/Project1_movie_analysis/Project1/data/raw/movies_08-04-2025_10-27-01.csv'\n",
    "\n",
    "df=pd.read_csv(file_path)\n",
    "df.head()"
   ]
  },
  {
   "cell_type": "code",
   "execution_count": null,
   "metadata": {},
   "outputs": [],
   "source": [
    "df['status']"
   ]
  },
  {
   "cell_type": "code",
   "execution_count": null,
   "metadata": {},
   "outputs": [],
   "source": [
    "df.columns.to_list()\n"
   ]
  },
  {
   "cell_type": "code",
   "execution_count": null,
   "metadata": {},
   "outputs": [],
   "source": [
    "df['belongs_to_collection'][0]"
   ]
  },
  {
   "cell_type": "code",
   "execution_count": null,
   "metadata": {},
   "outputs": [],
   "source": [
    "# df['credits'][0]\n"
   ]
  },
  {
   "cell_type": "markdown",
   "metadata": {},
   "source": [
    "## Data Preparation & Cleaning"
   ]
  },
  {
   "cell_type": "markdown",
   "metadata": {},
   "source": [
    "### Drop Irrelevant Columns"
   ]
  },
  {
   "cell_type": "code",
   "execution_count": null,
   "metadata": {},
   "outputs": [],
   "source": [
    "df= df.drop(columns =['adult', 'imdb_id', 'original_title', 'video', 'homepage'])\n",
    "df.head()"
   ]
  },
  {
   "cell_type": "code",
   "execution_count": null,
   "metadata": {},
   "outputs": [],
   "source": [
    "print(df['belongs_to_collection'][5])\n",
    "df['production_countries'][10]\n"
   ]
  },
  {
   "cell_type": "code",
   "execution_count": null,
   "metadata": {},
   "outputs": [],
   "source": [
    "print(type(df['production_countries'][0]))\n",
    "\n",
    "for col in df.columns:\n",
    "    print(f\"{col}: {type(df[col].iloc[0])}\")\n",
    "\n",
    "\n",
    "# x=df['belongs_to_collection'][5]\n",
    "\n",
    "# type(x)"
   ]
  },
  {
   "cell_type": "markdown",
   "metadata": {},
   "source": [
    "### **Evaluate JSON Like column**"
   ]
  },
  {
   "cell_type": "code",
   "execution_count": null,
   "metadata": {},
   "outputs": [],
   "source": [
    "import ast\n",
    "\n",
    "def evaluate_json_column(column):\n",
    "    try:\n",
    "        return ast.literal_eval(column) if pd.notna(column) else {}\n",
    "    except (ValueError, SyntaxError):\n",
    "        return {}\n",
    "\n",
    "json_columns = ['belongs_to_collection', 'genres', 'production_countries', \n",
    "                'production_companies', 'spoken_languages','credits']\n",
    "\n",
    "for col in json_columns:\n",
    "    df[col] = df[col].apply(evaluate_json_column)\n",
    "\n",
    "\n",
    "df.head()"
   ]
  },
  {
   "cell_type": "code",
   "execution_count": null,
   "metadata": {},
   "outputs": [],
   "source": [
    "type(df['production_countries'][0])"
   ]
  },
  {
   "cell_type": "code",
   "execution_count": null,
   "metadata": {},
   "outputs": [],
   "source": [
    "type(df['credits'][0])\n"
   ]
  },
  {
   "cell_type": "code",
   "execution_count": null,
   "metadata": {},
   "outputs": [],
   "source": [
    "x=df['belongs_to_collection'][5]\n",
    "\n",
    "type(x)"
   ]
  },
  {
   "cell_type": "code",
   "execution_count": null,
   "metadata": {},
   "outputs": [],
   "source": [
    "df['genres'][5]"
   ]
  },
  {
   "cell_type": "code",
   "execution_count": null,
   "metadata": {},
   "outputs": [],
   "source": [
    "for col in df.columns:\n",
    "    print(f\"{col}: {type(df[col].iloc[0])}\")"
   ]
  },
  {
   "cell_type": "markdown",
   "metadata": {},
   "source": [
    "### **Extract and clean key data points**"
   ]
  },
  {
   "cell_type": "code",
   "execution_count": null,
   "metadata": {},
   "outputs": [],
   "source": [
    "def extract_collection_name(value):\n",
    "    try:\n",
    "        if pd.notnull(value) and isinstance(value, dict):\n",
    "            return value.get('name')\n",
    "    except (ValueError, SyntaxError):\n",
    "        return None\n",
    "    # return None\n",
    "\n",
    "# Apply to the column\n",
    "df['collection_name'] = df['belongs_to_collection'].apply(extract_collection_name)\n"
   ]
  },
  {
   "cell_type": "code",
   "execution_count": null,
   "metadata": {},
   "outputs": [],
   "source": [
    "df['collection_name'][0]"
   ]
  },
  {
   "cell_type": "code",
   "execution_count": null,
   "metadata": {},
   "outputs": [],
   "source": [
    "def break_data_points(df, init_column='genres', new_column='genre_names'):\n",
    "  df[new_column] = df[init_column].apply(lambda x: ' | '.join(d['name'] for d in x) \n",
    "                  if isinstance(x, list) else None)\n",
    "  return df\n",
    "      \n",
    "    #   df[target_col] = df[source_col].apply(\n",
    "    #     lambda x: '|'.join(d['name'] for d in x) if isinstance(x, list) else None\n",
    "    # )\n",
    "    # return df\n",
    "    \n",
    "df=break_data_points(df)\n"
   ]
  },
  {
   "cell_type": "code",
   "execution_count": null,
   "metadata": {},
   "outputs": [],
   "source": [
    "df.head()"
   ]
  },
  {
   "cell_type": "code",
   "execution_count": null,
   "metadata": {},
   "outputs": [],
   "source": [
    "break_data_points(df, init_column='production_countries', new_column='cld_production_countries')\n",
    "break_data_points(df, init_column='production_companies', new_column='cld_production_companies')\n",
    "break_data_points(df, init_column='spoken_languages', new_column='original_language')\n"
   ]
  },
  {
   "cell_type": "code",
   "execution_count": null,
   "metadata": {},
   "outputs": [],
   "source": [
    "df['credits'][0]"
   ]
  },
  {
   "cell_type": "code",
   "execution_count": null,
   "metadata": {},
   "outputs": [],
   "source": [
    "import pandas as pd\n",
    "import ast\n",
    "\n",
    "# Function to extract cast names\n",
    "def extract_cast_names(credits):\n",
    "    return [member['name'] for member in credits.get('cast', [])]\n",
    "\n",
    "# Function to extract crew names\n",
    "def extract_crew_names(credits):\n",
    "    return [member['name'] for member in credits.get('crew', [])]\n",
    "\n",
    "# Function to extract director\n",
    "def extract_director(credits):\n",
    "    for member in credits.get('crew', []):\n",
    "        if member.get('job') == 'Director':\n",
    "            return member.get('name')\n",
    "    return None\n",
    "\n",
    "# Extract and add new columns\n",
    "df['cast'] = df['credits'].apply(lambda x: ' | '.join(extract_cast_names(x)))\n",
    "df['crew'] = df['credits'].apply(lambda x: ' | '.join(extract_crew_names(x)))\n",
    "df['director'] = df['credits'].apply(extract_director)\n",
    "df['cast_size'] = df['credits'].apply(lambda x: len(x.get('cast', [])))\n",
    "df['crew_size'] = df['credits'].apply(lambda x: len(x.get('crew', [])))\n"
   ]
  },
  {
   "cell_type": "code",
   "execution_count": null,
   "metadata": {},
   "outputs": [],
   "source": [
    "df.head()"
   ]
  },
  {
   "cell_type": "markdown",
   "metadata": {},
   "source": [
    "### Identify Anomalies with value_count()"
   ]
  },
  {
   "cell_type": "code",
   "execution_count": null,
   "metadata": {},
   "outputs": [],
   "source": [
    "def get_value_counts(df, column):\n",
    "    \"\"\"\n",
    "    Returns value_counts for a single column in a DataFrame.\n",
    "\n",
    "    Parameters:\n",
    "    - df (pd.DataFrame): The DataFrame to analyze.\n",
    "    - column (str): Column name to get value counts for.\n",
    "    - normalize (bool): If True, returns relative frequencies.\n",
    "    - dropna (bool): If True, don’t include counts of NaN.\n",
    "\n",
    "    Returns:\n",
    "    - pd.Series: Value counts of the specified column.\n",
    "    \"\"\"\n",
    "    if column in df.columns:\n",
    "        return df[column].value_counts()\n",
    "    else:\n",
    "        raise ValueError(f\"Column '{column}' not found in DataFrame.\")\n",
    "    \n",
    "# # def genre_name(df, init_column='genres', new_column='genre_names'):\n",
    "# # def count_value(df, extrated_column='genre_names'):\n",
    "# def value_counts_multiple(df, columns):\n",
    "#     \"\"\"\n",
    "#     Returns value_counts() for multiple columns in a DataFrame.\n",
    "\n",
    "#     Parameters:\n",
    "#     - df (pd.DataFrame): The DataFrame to analyze.\n",
    "#     - columns (list): List of column names to apply value_counts() to.\n",
    "\n",
    "#     Returns:\n",
    "#     - dict: A dictionary where keys are column names and values are their value_counts().\n",
    "#     \"\"\"\n",
    "#     counts = {}\n",
    "#     for col in columns:\n",
    "#         if col in df.columns:\n",
    "#             counts[col] = df[col].value_counts()\n",
    "#         else:\n",
    "#             print(f\"Warning: Column '{col}' not found in DataFrame.\")\n",
    "#     return counts\n",
    "    "
   ]
  },
  {
   "cell_type": "code",
   "execution_count": null,
   "metadata": {},
   "outputs": [],
   "source": [
    "get_value_counts(df, 'genre_names')"
   ]
  },
  {
   "cell_type": "code",
   "execution_count": null,
   "metadata": {},
   "outputs": [],
   "source": [
    "get_value_counts(df, 'cld_production_countries')"
   ]
  },
  {
   "cell_type": "code",
   "execution_count": null,
   "metadata": {},
   "outputs": [],
   "source": [
    "get_value_counts(df, 'original_language')"
   ]
  },
  {
   "cell_type": "code",
   "execution_count": null,
   "metadata": {},
   "outputs": [],
   "source": [
    "def normalize_anomalies(genre_string):\n",
    "    genres = [g.strip() for g in genre_string.split('|')]\n",
    "    sorted_genres = sorted(genres)\n",
    "    return ' | '.join(sorted_genres)\n",
    "\n",
    "df['genre_names']= df['genre_names'].apply(normalize_anomalies)\n",
    "df['cld_production_countries']= df['cld_production_countries'].apply(normalize_anomalies)\n",
    "df['cld_production_companies']= df['cld_production_companies'].apply(normalize_anomalies)\n",
    "df['original_language']= df['original_language'].apply(normalize_anomalies)\n",
    "\n"
   ]
  },
  {
   "cell_type": "code",
   "execution_count": null,
   "metadata": {},
   "outputs": [],
   "source": [
    "print(df['genre_names'].value_counts())\n",
    "print(df['cld_production_countries'].value_counts())\n",
    "print(df['cld_production_companies'].value_counts())\n",
    "print(df['original_language'].value_counts())\n"
   ]
  }
 ],
 "metadata": {
  "kernelspec": {
   "display_name": "Python 3.9.12",
   "language": "python",
   "name": "python3"
  },
  "language_info": {
   "name": "python",
   "version": "3.9.12"
  },
  "orig_nbformat": 4,
  "vscode": {
   "interpreter": {
    "hash": "e233a59cb30ebade3a71c230bbd9f111f537d9ecfe6ba43114960b5a6bf131d2"
   }
  }
 },
 "nbformat": 4,
 "nbformat_minor": 2
}
