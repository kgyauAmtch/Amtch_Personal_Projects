{
 "cells": [
  {
   "cell_type": "code",
   "execution_count": 1,
   "id": "811fe0f5",
   "metadata": {},
   "outputs": [],
   "source": [
    "import pandas as pd"
   ]
  },
  {
   "cell_type": "code",
   "execution_count": 4,
   "id": "56e3194b",
   "metadata": {},
   "outputs": [],
   "source": [
    "df=pd.read_csv('/Users/gyauk/github/labs/data/ecommerce_data.csv')"
   ]
  },
  {
   "cell_type": "code",
   "execution_count": 5,
   "id": "b46e8391",
   "metadata": {},
   "outputs": [
    {
     "data": {
      "text/html": [
       "<div>\n",
       "<style scoped>\n",
       "    .dataframe tbody tr th:only-of-type {\n",
       "        vertical-align: middle;\n",
       "    }\n",
       "\n",
       "    .dataframe tbody tr th {\n",
       "        vertical-align: top;\n",
       "    }\n",
       "\n",
       "    .dataframe thead th {\n",
       "        text-align: right;\n",
       "    }\n",
       "</style>\n",
       "<table border=\"1\" class=\"dataframe\">\n",
       "  <thead>\n",
       "    <tr style=\"text-align: right;\">\n",
       "      <th></th>\n",
       "      <th>Customer_id</th>\n",
       "      <th>Product_id</th>\n",
       "      <th>Product_category</th>\n",
       "      <th>Payment_type</th>\n",
       "      <th>Device_Type</th>\n",
       "      <th>Event_date</th>\n",
       "    </tr>\n",
       "  </thead>\n",
       "  <tbody>\n",
       "    <tr>\n",
       "      <th>CUST-1001</th>\n",
       "      <td>Prod_1</td>\n",
       "      <td>Hardware</td>\n",
       "      <td>Visa Card</td>\n",
       "      <td>Mobile</td>\n",
       "      <td>Purchase</td>\n",
       "      <td>29-08-2022</td>\n",
       "    </tr>\n",
       "    <tr>\n",
       "      <th>CUST-1002</th>\n",
       "      <td>Prod_2</td>\n",
       "      <td>Books</td>\n",
       "      <td>Paypal</td>\n",
       "      <td>Mobile</td>\n",
       "      <td>Purchase</td>\n",
       "      <td>30-11-2024</td>\n",
       "    </tr>\n",
       "    <tr>\n",
       "      <th>CUST-1003</th>\n",
       "      <td>Prod_3</td>\n",
       "      <td>Accessories</td>\n",
       "      <td>Paypal</td>\n",
       "      <td>Mobile</td>\n",
       "      <td>Purchase</td>\n",
       "      <td>24-03-2021</td>\n",
       "    </tr>\n",
       "    <tr>\n",
       "      <th>CUST-1004</th>\n",
       "      <td>Prod_4</td>\n",
       "      <td>Beauty</td>\n",
       "      <td>Visa Card</td>\n",
       "      <td>Mobile</td>\n",
       "      <td>Addtocart</td>\n",
       "      <td>08-11-2023</td>\n",
       "    </tr>\n",
       "    <tr>\n",
       "      <th>CUST-1005</th>\n",
       "      <td>Prod_5</td>\n",
       "      <td>Accessories</td>\n",
       "      <td>Visa Card</td>\n",
       "      <td>Desktop</td>\n",
       "      <td>Addtocart</td>\n",
       "      <td>24-07-2020</td>\n",
       "    </tr>\n",
       "  </tbody>\n",
       "</table>\n",
       "</div>"
      ],
      "text/plain": [
       "          Customer_id   Product_id Product_category Payment_type Device_Type  \\\n",
       "CUST-1001      Prod_1     Hardware        Visa Card       Mobile    Purchase   \n",
       "CUST-1002      Prod_2        Books           Paypal       Mobile    Purchase   \n",
       "CUST-1003      Prod_3  Accessories           Paypal       Mobile    Purchase   \n",
       "CUST-1004      Prod_4       Beauty        Visa Card       Mobile   Addtocart   \n",
       "CUST-1005      Prod_5  Accessories        Visa Card      Desktop   Addtocart   \n",
       "\n",
       "           Event_date  \n",
       "CUST-1001  29-08-2022  \n",
       "CUST-1002  30-11-2024  \n",
       "CUST-1003  24-03-2021  \n",
       "CUST-1004  08-11-2023  \n",
       "CUST-1005  24-07-2020  "
      ]
     },
     "execution_count": 5,
     "metadata": {},
     "output_type": "execute_result"
    }
   ],
   "source": [
    "df.head()\n"
   ]
  }
 ],
 "metadata": {
  "kernelspec": {
   "display_name": "Python 3",
   "language": "python",
   "name": "python3"
  },
  "language_info": {
   "codemirror_mode": {
    "name": "ipython",
    "version": 3
   },
   "file_extension": ".py",
   "mimetype": "text/x-python",
   "name": "python",
   "nbconvert_exporter": "python",
   "pygments_lexer": "ipython3",
   "version": "3.8.20"
  }
 },
 "nbformat": 4,
 "nbformat_minor": 5
}
