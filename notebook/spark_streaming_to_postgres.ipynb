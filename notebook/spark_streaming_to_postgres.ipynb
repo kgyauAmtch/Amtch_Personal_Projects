{
 "cells": [
  {
   "cell_type": "code",
   "execution_count": 7,
   "id": "245f8fdf",
   "metadata": {},
   "outputs": [],
   "source": [
    "import sys\n",
    "import os\n",
    "# Add 'src' directory to Python path\n",
    "src_path = os.path.abspath(os.path.join(os.getcwd(), '..'))\n",
    "if src_path not in sys.path:\n",
    "    sys.path.append(src_path)"
   ]
  },
  {
   "cell_type": "code",
   "execution_count": 8,
   "id": "952bd681",
   "metadata": {},
   "outputs": [],
   "source": [
    "\n",
    "from pyspark.sql import SparkSession\n",
    "# from pyspark.sql import functions as F\n",
    "# from src import helper_functions as hf\n",
    "# from src import schema as sc   # your custom schema function\n",
    "# from src import datacleaning as dcp\n",
    "# from src import hf_analysis as hf\n",
    "# from src import franchise_analysis as franch\n",
    "# from src import visualisation as visn\n",
    "from pyspark.sql.types import *\n",
    "from pyspark.sql.functions import * \n",
    "\n"
   ]
  },
  {
   "cell_type": "code",
   "execution_count": null,
   "id": "5b7455e9",
   "metadata": {},
   "outputs": [],
   "source": [
    "# Initialize Spark\n",
    "spark = SparkSession.builder.appName(\"streaming_data\").getOrCreate()\n",
    "\n",
    "''' Define struct type of columns in dataframe \n",
    "read the csv files \n",
    "\n",
    "'''\n",
    "\n",
    "# Load JSON data using the schema\n",
    "# json_path = \"/Users/gyauk/github/labs/Pyspark_IMBD_movie_analysis/data/raw/movies.json\"\n",
    "# df = spark.read.schema(hf.schema_build()).json(json_path)\n"
   ]
  },
  {
   "cell_type": "code",
   "execution_count": null,
   "id": "0daf01cc",
   "metadata": {},
   "outputs": [],
   "source": []
  }
 ],
 "metadata": {
  "kernelspec": {
   "display_name": "Python 3",
   "language": "python",
   "name": "python3"
  },
  "language_info": {
   "codemirror_mode": {
    "name": "ipython",
    "version": 3
   },
   "file_extension": ".py",
   "mimetype": "text/x-python",
   "name": "python",
   "nbconvert_exporter": "python",
   "pygments_lexer": "ipython3",
   "version": "3.8.20"
  }
 },
 "nbformat": 4,
 "nbformat_minor": 5
}
