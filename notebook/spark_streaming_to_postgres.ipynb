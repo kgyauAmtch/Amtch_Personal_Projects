{
 "cells": [
  {
   "cell_type": "code",
   "execution_count": 1,
   "id": "245f8fdf",
   "metadata": {},
   "outputs": [],
   "source": [
    "import sys\n",
    "import os\n",
    "# Add 'src' directory to Python path\n",
    "src_path = os.path.abspath(os.path.join(os.getcwd(), '..'))\n",
    "if src_path not in sys.path:\n",
    "    sys.path.append(src_path)"
   ]
  },
  {
   "cell_type": "code",
   "execution_count": 2,
   "id": "952bd681",
   "metadata": {},
   "outputs": [],
   "source": [
    "\n",
    "from pyspark.sql import SparkSession\n",
    "# from pyspark.sql import functions as F\n",
    "from src import helper_functions as hf\n",
    "# from src import schema as sc   # your custom schema function\n",
    "# from src import datacleaning as dcp\n",
    "# from src import hf_analysis as hf\n",
    "# from src import franchise_analysis as franch\n",
    "# from src import visualisation as visn\n",
    "from pyspark.sql.types import *\n",
    "from pyspark.sql.functions import * \n",
    "from src import schema as sc\n"
   ]
  },
  {
   "cell_type": "code",
   "execution_count": 3,
   "id": "5b7455e9",
   "metadata": {},
   "outputs": [
    {
     "name": "stderr",
     "output_type": "stream",
     "text": [
      "25/04/28 09:57:02 WARN Utils: Your hostname, Gyaus-MacBook-Pro.local resolves to a loopback address: 127.0.0.1; using 192.168.21.112 instead (on interface en0)\n",
      "25/04/28 09:57:02 WARN Utils: Set SPARK_LOCAL_IP if you need to bind to another address\n",
      "Setting default log level to \"WARN\".\n",
      "To adjust logging level use sc.setLogLevel(newLevel). For SparkR, use setLogLevel(newLevel).\n",
      "25/04/28 09:57:03 WARN NativeCodeLoader: Unable to load native-hadoop library for your platform... using builtin-java classes where applicable\n",
      "25/04/28 09:57:10 WARN ResolveWriteToStream: Temporary checkpoint location created which is deleted normally when the query didn't fail: /private/var/folders/4r/wjm49txx4vj1j_kryh7ps6r00000gn/T/temporary-516f9f32-68ae-46a0-954e-d92e5e27f3e4. If it's required to delete it under any circumstances, please set spark.sql.streaming.forceDeleteTempCheckpointLocation to true. Important to know deleting temp checkpoint folder is best effort.\n",
      "25/04/28 09:57:10 WARN ResolveWriteToStream: spark.sql.adaptive.enabled is not supported in streaming DataFrames/Datasets and will be disabled.\n"
     ]
    },
    {
     "data": {
      "text/plain": [
       "<pyspark.sql.streaming.query.StreamingQuery at 0x1072b84f0>"
      ]
     },
     "execution_count": 3,
     "metadata": {},
     "output_type": "execute_result"
    }
   ],
   "source": [
    "# Initialize Spark\n",
    "spark = SparkSession.builder.appName(\"streaming_data\").getOrCreate()\n",
    "spark.stop()\n",
    "spark = SparkSession.builder.appName(\"streaming_data\").getOrCreate()\n",
    "\n",
    "\n",
    "''' Define struct type of columns in dataframe \n",
    "read the csv files \n",
    "\n",
    "'''\n",
    "\n",
    "# df = spark.read.option(\"header\", \"true\").option(\"inferSchema\", \"true\").csv(\"path/to/file.csv\")\n",
    "csvDF = spark.readStream.option(\"sep\", \",\").schema(sc.schema_build()).csv(\"/Users/gyauk/github/labs/data\")\n",
    "csvDF.writeStream.format(\"console\").option(\"truncate\", \"false\").start()\n",
    "\n",
    "\n",
    "\n",
    "# Load JSON data using the schema\n",
    "# json_path = \"/Users/gyauk/github/labs/Pyspark_IMBD_movie_analysis/data/raw/movies.json\"\n",
    "# df = spark.read.schema(hf.schema_build()).json(json_path)\n"
   ]
  },
  {
   "cell_type": "code",
   "execution_count": 5,
   "id": "b234fbc7",
   "metadata": {},
   "outputs": [
    {
     "data": {
      "text/plain": [
       "DataFrame[Customer_id: string, Product_id: string, Product_category: string, Payment_type: string, Device_Type: string, Event_Type: string, Event_date: string]"
      ]
     },
     "execution_count": 5,
     "metadata": {},
     "output_type": "execute_result"
    }
   ],
   "source": [
    "csvDF"
   ]
  },
  {
   "cell_type": "code",
   "execution_count": 6,
   "id": "0daf01cc",
   "metadata": {},
   "outputs": [
    {
     "name": "stdout",
     "output_type": "stream",
     "text": [
      "root\n",
      " |-- Customer_ID: string (nullable = true)\n",
      " |-- Product_id: string (nullable = true)\n",
      " |-- Product_category: string (nullable = true)\n",
      " |-- Payment_type: string (nullable = true)\n",
      " |-- Device_Type: string (nullable = true)\n",
      " |-- Event_Type: string (nullable = true)\n",
      " |-- Event_date: date (nullable = true)\n",
      "\n"
     ]
    }
   ],
   "source": [
    "cleaned_df= hf.convert_column_types(csvDF)"
   ]
  },
  {
   "cell_type": "code",
   "execution_count": 6,
   "id": "4b641a4b",
   "metadata": {},
   "outputs": [
    {
     "data": {
      "text/plain": [
       "DataFrame[Customer_ID: string, Product_id: string, Product_category: string, Payment_type: string, Device_Type: string, Event_Type: string, Event_date: date]"
      ]
     },
     "execution_count": 6,
     "metadata": {},
     "output_type": "execute_result"
    }
   ],
   "source": [
    "cleaned_df"
   ]
  }
 ],
 "metadata": {
  "kernelspec": {
   "display_name": "Python 3",
   "language": "python",
   "name": "python3"
  },
  "language_info": {
   "codemirror_mode": {
    "name": "ipython",
    "version": 3
   },
   "file_extension": ".py",
   "mimetype": "text/x-python",
   "name": "python",
   "nbconvert_exporter": "python",
   "pygments_lexer": "ipython3",
   "version": "3.8.20"
  }
 },
 "nbformat": 4,
 "nbformat_minor": 5
}
