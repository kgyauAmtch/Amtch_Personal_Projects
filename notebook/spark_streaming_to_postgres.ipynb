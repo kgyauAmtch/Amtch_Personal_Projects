{
 "cells": [
  {
   "cell_type": "code",
   "execution_count": 9,
   "id": "245f8fdf",
   "metadata": {},
   "outputs": [],
   "source": [
    "import sys\n",
    "import os\n",
    "# Add 'src' directory to Python path\n",
    "src_path = os.path.abspath(os.path.join(os.getcwd(), '..'))\n",
    "if src_path not in sys.path:\n",
    "    sys.path.append(src_path)"
   ]
  },
  {
   "cell_type": "code",
   "execution_count": 10,
   "id": "952bd681",
   "metadata": {},
   "outputs": [],
   "source": [
    "\n",
    "from pyspark.sql import SparkSession\n",
    "# from pyspark.sql import functions as F\n",
    "from src import helper_functions as hf\n",
    "# from src import schema as sc   # your custom schema function\n",
    "# from src import datacleaning as dcp\n",
    "# from src import hf_analysis as hf\n",
    "# from src import franchise_analysis as franch\n",
    "# from src import visualisation as visn\n",
    "from pyspark.sql.types import *\n",
    "from pyspark.sql.functions import * \n",
    "from src import schema as sc\n"
   ]
  },
  {
   "cell_type": "code",
   "execution_count": null,
   "id": "5b7455e9",
   "metadata": {},
   "outputs": [
    {
     "name": "stderr",
     "output_type": "stream",
     "text": [
      "25/04/29 15:22:32 WARN SparkContext: Another SparkContext is being constructed (or threw an exception in its constructor). This may indicate an error, since only one SparkContext should be running in this JVM (see SPARK-2243). The other SparkContext was created at:\n",
      "org.apache.spark.api.java.JavaSparkContext.<init>(JavaSparkContext.scala:58)\n",
      "java.base/jdk.internal.reflect.NativeConstructorAccessorImpl.newInstance0(Native Method)\n",
      "java.base/jdk.internal.reflect.NativeConstructorAccessorImpl.newInstance(NativeConstructorAccessorImpl.java:62)\n",
      "java.base/jdk.internal.reflect.DelegatingConstructorAccessorImpl.newInstance(DelegatingConstructorAccessorImpl.java:45)\n",
      "java.base/java.lang.reflect.Constructor.newInstance(Constructor.java:490)\n",
      "py4j.reflection.MethodInvoker.invoke(MethodInvoker.java:247)\n",
      "py4j.reflection.ReflectionEngine.invoke(ReflectionEngine.java:374)\n",
      "py4j.Gateway.invoke(Gateway.java:238)\n",
      "py4j.commands.ConstructorCommand.invokeConstructor(ConstructorCommand.java:80)\n",
      "py4j.commands.ConstructorCommand.execute(ConstructorCommand.java:69)\n",
      "py4j.ClientServerConnection.waitForCommands(ClientServerConnection.java:182)\n",
      "py4j.ClientServerConnection.run(ClientServerConnection.java:106)\n",
      "java.base/java.lang.Thread.run(Thread.java:834)\n",
      "25/04/29 15:22:32 WARN Utils: Service 'sparkDriver' could not bind on a random free port. You may check whether configuring an appropriate binding address.\n",
      "25/04/29 15:22:32 WARN Utils: Service 'sparkDriver' could not bind on a random free port. You may check whether configuring an appropriate binding address.\n",
      "25/04/29 15:22:32 WARN Utils: Service 'sparkDriver' could not bind on a random free port. You may check whether configuring an appropriate binding address.\n",
      "25/04/29 15:22:32 WARN Utils: Service 'sparkDriver' could not bind on a random free port. You may check whether configuring an appropriate binding address.\n",
      "25/04/29 15:22:32 WARN Utils: Service 'sparkDriver' could not bind on a random free port. You may check whether configuring an appropriate binding address.\n",
      "25/04/29 15:22:32 WARN Utils: Service 'sparkDriver' could not bind on a random free port. You may check whether configuring an appropriate binding address.\n",
      "25/04/29 15:22:32 WARN Utils: Service 'sparkDriver' could not bind on a random free port. You may check whether configuring an appropriate binding address.\n",
      "25/04/29 15:22:32 WARN Utils: Service 'sparkDriver' could not bind on a random free port. You may check whether configuring an appropriate binding address.\n",
      "25/04/29 15:22:32 WARN Utils: Service 'sparkDriver' could not bind on a random free port. You may check whether configuring an appropriate binding address.\n",
      "25/04/29 15:22:32 WARN Utils: Service 'sparkDriver' could not bind on a random free port. You may check whether configuring an appropriate binding address.\n",
      "25/04/29 15:22:32 WARN Utils: Service 'sparkDriver' could not bind on a random free port. You may check whether configuring an appropriate binding address.\n",
      "25/04/29 15:22:32 WARN Utils: Service 'sparkDriver' could not bind on a random free port. You may check whether configuring an appropriate binding address.\n",
      "25/04/29 15:22:32 WARN Utils: Service 'sparkDriver' could not bind on a random free port. You may check whether configuring an appropriate binding address.\n",
      "25/04/29 15:22:32 WARN Utils: Service 'sparkDriver' could not bind on a random free port. You may check whether configuring an appropriate binding address.\n",
      "25/04/29 15:22:32 WARN Utils: Service 'sparkDriver' could not bind on a random free port. You may check whether configuring an appropriate binding address.\n",
      "25/04/29 15:22:32 WARN Utils: Service 'sparkDriver' could not bind on a random free port. You may check whether configuring an appropriate binding address.\n",
      "25/04/29 15:22:32 ERROR SparkContext: Error initializing SparkContext.\n",
      "java.net.BindException: Can't assign requested address: Service 'sparkDriver' failed after 16 retries (on a random free port)! Consider explicitly setting the appropriate binding address for the service 'sparkDriver' (for example spark.driver.bindAddress for SparkDriver) to the correct binding address.\n",
      "\tat java.base/sun.nio.ch.Net.bind0(Native Method)\n",
      "\tat java.base/sun.nio.ch.Net.bind(Net.java:461)\n",
      "\tat java.base/sun.nio.ch.Net.bind(Net.java:453)\n",
      "\tat java.base/sun.nio.ch.ServerSocketChannelImpl.bind(ServerSocketChannelImpl.java:227)\n",
      "\tat io.netty.channel.socket.nio.NioServerSocketChannel.doBind(NioServerSocketChannel.java:141)\n",
      "\tat io.netty.channel.AbstractChannel$AbstractUnsafe.bind(AbstractChannel.java:562)\n",
      "\tat io.netty.channel.DefaultChannelPipeline$HeadContext.bind(DefaultChannelPipeline.java:1334)\n",
      "\tat io.netty.channel.AbstractChannelHandlerContext.invokeBind(AbstractChannelHandlerContext.java:600)\n",
      "\tat io.netty.channel.AbstractChannelHandlerContext.bind(AbstractChannelHandlerContext.java:579)\n",
      "\tat io.netty.channel.DefaultChannelPipeline.bind(DefaultChannelPipeline.java:973)\n",
      "\tat io.netty.channel.AbstractChannel.bind(AbstractChannel.java:260)\n",
      "\tat io.netty.bootstrap.AbstractBootstrap$2.run(AbstractBootstrap.java:356)\n",
      "\tat io.netty.util.concurrent.AbstractEventExecutor.runTask(AbstractEventExecutor.java:174)\n",
      "\tat io.netty.util.concurrent.AbstractEventExecutor.safeExecute(AbstractEventExecutor.java:167)\n",
      "\tat io.netty.util.concurrent.SingleThreadEventExecutor.runAllTasks(SingleThreadEventExecutor.java:470)\n",
      "\tat io.netty.channel.nio.NioEventLoop.run(NioEventLoop.java:569)\n",
      "\tat io.netty.util.concurrent.SingleThreadEventExecutor$4.run(SingleThreadEventExecutor.java:997)\n",
      "\tat io.netty.util.internal.ThreadExecutorMap$2.run(ThreadExecutorMap.java:74)\n",
      "\tat io.netty.util.concurrent.FastThreadLocalRunnable.run(FastThreadLocalRunnable.java:30)\n",
      "\tat java.base/java.lang.Thread.run(Thread.java:834)\n"
     ]
    },
    {
     "ename": "Py4JJavaError",
     "evalue": "An error occurred while calling None.org.apache.spark.api.java.JavaSparkContext.\n: java.net.BindException: Can't assign requested address: Service 'sparkDriver' failed after 16 retries (on a random free port)! Consider explicitly setting the appropriate binding address for the service 'sparkDriver' (for example spark.driver.bindAddress for SparkDriver) to the correct binding address.\n\tat java.base/sun.nio.ch.Net.bind0(Native Method)\n\tat java.base/sun.nio.ch.Net.bind(Net.java:461)\n\tat java.base/sun.nio.ch.Net.bind(Net.java:453)\n\tat java.base/sun.nio.ch.ServerSocketChannelImpl.bind(ServerSocketChannelImpl.java:227)\n\tat io.netty.channel.socket.nio.NioServerSocketChannel.doBind(NioServerSocketChannel.java:141)\n\tat io.netty.channel.AbstractChannel$AbstractUnsafe.bind(AbstractChannel.java:562)\n\tat io.netty.channel.DefaultChannelPipeline$HeadContext.bind(DefaultChannelPipeline.java:1334)\n\tat io.netty.channel.AbstractChannelHandlerContext.invokeBind(AbstractChannelHandlerContext.java:600)\n\tat io.netty.channel.AbstractChannelHandlerContext.bind(AbstractChannelHandlerContext.java:579)\n\tat io.netty.channel.DefaultChannelPipeline.bind(DefaultChannelPipeline.java:973)\n\tat io.netty.channel.AbstractChannel.bind(AbstractChannel.java:260)\n\tat io.netty.bootstrap.AbstractBootstrap$2.run(AbstractBootstrap.java:356)\n\tat io.netty.util.concurrent.AbstractEventExecutor.runTask(AbstractEventExecutor.java:174)\n\tat io.netty.util.concurrent.AbstractEventExecutor.safeExecute(AbstractEventExecutor.java:167)\n\tat io.netty.util.concurrent.SingleThreadEventExecutor.runAllTasks(SingleThreadEventExecutor.java:470)\n\tat io.netty.channel.nio.NioEventLoop.run(NioEventLoop.java:569)\n\tat io.netty.util.concurrent.SingleThreadEventExecutor$4.run(SingleThreadEventExecutor.java:997)\n\tat io.netty.util.internal.ThreadExecutorMap$2.run(ThreadExecutorMap.java:74)\n\tat io.netty.util.concurrent.FastThreadLocalRunnable.run(FastThreadLocalRunnable.java:30)\n\tat java.base/java.lang.Thread.run(Thread.java:834)\n",
     "output_type": "error",
     "traceback": [
      "\u001b[0;31m---------------------------------------------------------------------------\u001b[0m",
      "\u001b[0;31mPy4JJavaError\u001b[0m                             Traceback (most recent call last)",
      "Cell \u001b[0;32mIn[15], line 2\u001b[0m\n\u001b[1;32m      1\u001b[0m \u001b[38;5;66;03m#Initialize Spark\u001b[39;00m\n\u001b[0;32m----> 2\u001b[0m spark \u001b[38;5;241m=\u001b[39m \u001b[43mSparkSession\u001b[49m\u001b[38;5;241;43m.\u001b[39;49m\u001b[43mbuilder\u001b[49m\u001b[43m \u001b[49m\u001b[43m\\\u001b[49m\n\u001b[1;32m      3\u001b[0m \u001b[43m         \u001b[49m\u001b[38;5;241;43m.\u001b[39;49m\u001b[43mappName\u001b[49m\u001b[43m(\u001b[49m\u001b[38;5;124;43m\"\u001b[39;49m\u001b[38;5;124;43mstreaming_data\u001b[39;49m\u001b[38;5;124;43m\"\u001b[39;49m\u001b[43m)\u001b[49m\u001b[43m \u001b[49m\u001b[43m\\\u001b[49m\n\u001b[1;32m      4\u001b[0m \u001b[43m         \u001b[49m\u001b[38;5;241;43m.\u001b[39;49m\u001b[43mconfig\u001b[49m\u001b[43m(\u001b[49m\u001b[38;5;124;43m\"\u001b[39;49m\u001b[38;5;124;43mspark.jars\u001b[39;49m\u001b[38;5;124;43m\"\u001b[39;49m\u001b[43m,\u001b[49m\u001b[43m \u001b[49m\u001b[38;5;124;43m\"\u001b[39;49m\u001b[38;5;124;43m/Users/gyauk/codetools/javajdbc/postgresql-42.7.5.jar\u001b[39;49m\u001b[38;5;124;43m\"\u001b[39;49m\u001b[43m)\u001b[49m\u001b[43m \u001b[49m\u001b[43m\\\u001b[49m\n\u001b[1;32m      5\u001b[0m \u001b[43m         \u001b[49m\u001b[38;5;241;43m.\u001b[39;49m\u001b[43mgetOrCreate\u001b[49m\u001b[43m(\u001b[49m\u001b[43m)\u001b[49m\n\u001b[1;32m      7\u001b[0m \u001b[38;5;66;03m# spark.stop()\u001b[39;00m\n\u001b[1;32m      8\u001b[0m \u001b[38;5;66;03m# spark = SparkSession.builder.appName(\"streaming_data\").getOrCreate()\u001b[39;00m\n\u001b[1;32m     11\u001b[0m \u001b[38;5;124;03m''' Define struct type of columns in dataframe \u001b[39;00m\n\u001b[1;32m     12\u001b[0m \u001b[38;5;124;03mread the csv files \u001b[39;00m\n\u001b[1;32m     13\u001b[0m \n\u001b[1;32m     14\u001b[0m \u001b[38;5;124;03m'''\u001b[39;00m\n",
      "File \u001b[0;32m/opt/anaconda3/envs/vscodeenv/lib/python3.8/site-packages/pyspark/sql/session.py:477\u001b[0m, in \u001b[0;36mSparkSession.Builder.getOrCreate\u001b[0;34m(self)\u001b[0m\n\u001b[1;32m    475\u001b[0m     sparkConf\u001b[38;5;241m.\u001b[39mset(key, value)\n\u001b[1;32m    476\u001b[0m \u001b[38;5;66;03m# This SparkContext may be an existing one.\u001b[39;00m\n\u001b[0;32m--> 477\u001b[0m sc \u001b[38;5;241m=\u001b[39m \u001b[43mSparkContext\u001b[49m\u001b[38;5;241;43m.\u001b[39;49m\u001b[43mgetOrCreate\u001b[49m\u001b[43m(\u001b[49m\u001b[43msparkConf\u001b[49m\u001b[43m)\u001b[49m\n\u001b[1;32m    478\u001b[0m \u001b[38;5;66;03m# Do not update `SparkConf` for existing `SparkContext`, as it's shared\u001b[39;00m\n\u001b[1;32m    479\u001b[0m \u001b[38;5;66;03m# by all sessions.\u001b[39;00m\n\u001b[1;32m    480\u001b[0m session \u001b[38;5;241m=\u001b[39m SparkSession(sc, options\u001b[38;5;241m=\u001b[39m\u001b[38;5;28mself\u001b[39m\u001b[38;5;241m.\u001b[39m_options)\n",
      "File \u001b[0;32m/opt/anaconda3/envs/vscodeenv/lib/python3.8/site-packages/pyspark/context.py:512\u001b[0m, in \u001b[0;36mSparkContext.getOrCreate\u001b[0;34m(cls, conf)\u001b[0m\n\u001b[1;32m    510\u001b[0m \u001b[38;5;28;01mwith\u001b[39;00m SparkContext\u001b[38;5;241m.\u001b[39m_lock:\n\u001b[1;32m    511\u001b[0m     \u001b[38;5;28;01mif\u001b[39;00m SparkContext\u001b[38;5;241m.\u001b[39m_active_spark_context \u001b[38;5;129;01mis\u001b[39;00m \u001b[38;5;28;01mNone\u001b[39;00m:\n\u001b[0;32m--> 512\u001b[0m         \u001b[43mSparkContext\u001b[49m\u001b[43m(\u001b[49m\u001b[43mconf\u001b[49m\u001b[38;5;241;43m=\u001b[39;49m\u001b[43mconf\u001b[49m\u001b[43m \u001b[49m\u001b[38;5;129;43;01mor\u001b[39;49;00m\u001b[43m \u001b[49m\u001b[43mSparkConf\u001b[49m\u001b[43m(\u001b[49m\u001b[43m)\u001b[49m\u001b[43m)\u001b[49m\n\u001b[1;32m    513\u001b[0m     \u001b[38;5;28;01massert\u001b[39;00m SparkContext\u001b[38;5;241m.\u001b[39m_active_spark_context \u001b[38;5;129;01mis\u001b[39;00m \u001b[38;5;129;01mnot\u001b[39;00m \u001b[38;5;28;01mNone\u001b[39;00m\n\u001b[1;32m    514\u001b[0m     \u001b[38;5;28;01mreturn\u001b[39;00m SparkContext\u001b[38;5;241m.\u001b[39m_active_spark_context\n",
      "File \u001b[0;32m/opt/anaconda3/envs/vscodeenv/lib/python3.8/site-packages/pyspark/context.py:200\u001b[0m, in \u001b[0;36mSparkContext.__init__\u001b[0;34m(self, master, appName, sparkHome, pyFiles, environment, batchSize, serializer, conf, gateway, jsc, profiler_cls, udf_profiler_cls, memory_profiler_cls)\u001b[0m\n\u001b[1;32m    198\u001b[0m SparkContext\u001b[38;5;241m.\u001b[39m_ensure_initialized(\u001b[38;5;28mself\u001b[39m, gateway\u001b[38;5;241m=\u001b[39mgateway, conf\u001b[38;5;241m=\u001b[39mconf)\n\u001b[1;32m    199\u001b[0m \u001b[38;5;28;01mtry\u001b[39;00m:\n\u001b[0;32m--> 200\u001b[0m     \u001b[38;5;28;43mself\u001b[39;49m\u001b[38;5;241;43m.\u001b[39;49m\u001b[43m_do_init\u001b[49m\u001b[43m(\u001b[49m\n\u001b[1;32m    201\u001b[0m \u001b[43m        \u001b[49m\u001b[43mmaster\u001b[49m\u001b[43m,\u001b[49m\n\u001b[1;32m    202\u001b[0m \u001b[43m        \u001b[49m\u001b[43mappName\u001b[49m\u001b[43m,\u001b[49m\n\u001b[1;32m    203\u001b[0m \u001b[43m        \u001b[49m\u001b[43msparkHome\u001b[49m\u001b[43m,\u001b[49m\n\u001b[1;32m    204\u001b[0m \u001b[43m        \u001b[49m\u001b[43mpyFiles\u001b[49m\u001b[43m,\u001b[49m\n\u001b[1;32m    205\u001b[0m \u001b[43m        \u001b[49m\u001b[43menvironment\u001b[49m\u001b[43m,\u001b[49m\n\u001b[1;32m    206\u001b[0m \u001b[43m        \u001b[49m\u001b[43mbatchSize\u001b[49m\u001b[43m,\u001b[49m\n\u001b[1;32m    207\u001b[0m \u001b[43m        \u001b[49m\u001b[43mserializer\u001b[49m\u001b[43m,\u001b[49m\n\u001b[1;32m    208\u001b[0m \u001b[43m        \u001b[49m\u001b[43mconf\u001b[49m\u001b[43m,\u001b[49m\n\u001b[1;32m    209\u001b[0m \u001b[43m        \u001b[49m\u001b[43mjsc\u001b[49m\u001b[43m,\u001b[49m\n\u001b[1;32m    210\u001b[0m \u001b[43m        \u001b[49m\u001b[43mprofiler_cls\u001b[49m\u001b[43m,\u001b[49m\n\u001b[1;32m    211\u001b[0m \u001b[43m        \u001b[49m\u001b[43mudf_profiler_cls\u001b[49m\u001b[43m,\u001b[49m\n\u001b[1;32m    212\u001b[0m \u001b[43m        \u001b[49m\u001b[43mmemory_profiler_cls\u001b[49m\u001b[43m,\u001b[49m\n\u001b[1;32m    213\u001b[0m \u001b[43m    \u001b[49m\u001b[43m)\u001b[49m\n\u001b[1;32m    214\u001b[0m \u001b[38;5;28;01mexcept\u001b[39;00m \u001b[38;5;167;01mBaseException\u001b[39;00m:\n\u001b[1;32m    215\u001b[0m     \u001b[38;5;66;03m# If an error occurs, clean up in order to allow future SparkContext creation:\u001b[39;00m\n\u001b[1;32m    216\u001b[0m     \u001b[38;5;28mself\u001b[39m\u001b[38;5;241m.\u001b[39mstop()\n",
      "File \u001b[0;32m/opt/anaconda3/envs/vscodeenv/lib/python3.8/site-packages/pyspark/context.py:287\u001b[0m, in \u001b[0;36mSparkContext._do_init\u001b[0;34m(self, master, appName, sparkHome, pyFiles, environment, batchSize, serializer, conf, jsc, profiler_cls, udf_profiler_cls, memory_profiler_cls)\u001b[0m\n\u001b[1;32m    284\u001b[0m \u001b[38;5;28mself\u001b[39m\u001b[38;5;241m.\u001b[39menvironment[\u001b[38;5;124m\"\u001b[39m\u001b[38;5;124mPYTHONHASHSEED\u001b[39m\u001b[38;5;124m\"\u001b[39m] \u001b[38;5;241m=\u001b[39m os\u001b[38;5;241m.\u001b[39menviron\u001b[38;5;241m.\u001b[39mget(\u001b[38;5;124m\"\u001b[39m\u001b[38;5;124mPYTHONHASHSEED\u001b[39m\u001b[38;5;124m\"\u001b[39m, \u001b[38;5;124m\"\u001b[39m\u001b[38;5;124m0\u001b[39m\u001b[38;5;124m\"\u001b[39m)\n\u001b[1;32m    286\u001b[0m \u001b[38;5;66;03m# Create the Java SparkContext through Py4J\u001b[39;00m\n\u001b[0;32m--> 287\u001b[0m \u001b[38;5;28mself\u001b[39m\u001b[38;5;241m.\u001b[39m_jsc \u001b[38;5;241m=\u001b[39m jsc \u001b[38;5;129;01mor\u001b[39;00m \u001b[38;5;28;43mself\u001b[39;49m\u001b[38;5;241;43m.\u001b[39;49m\u001b[43m_initialize_context\u001b[49m\u001b[43m(\u001b[49m\u001b[38;5;28;43mself\u001b[39;49m\u001b[38;5;241;43m.\u001b[39;49m\u001b[43m_conf\u001b[49m\u001b[38;5;241;43m.\u001b[39;49m\u001b[43m_jconf\u001b[49m\u001b[43m)\u001b[49m\n\u001b[1;32m    288\u001b[0m \u001b[38;5;66;03m# Reset the SparkConf to the one actually used by the SparkContext in JVM.\u001b[39;00m\n\u001b[1;32m    289\u001b[0m \u001b[38;5;28mself\u001b[39m\u001b[38;5;241m.\u001b[39m_conf \u001b[38;5;241m=\u001b[39m SparkConf(_jconf\u001b[38;5;241m=\u001b[39m\u001b[38;5;28mself\u001b[39m\u001b[38;5;241m.\u001b[39m_jsc\u001b[38;5;241m.\u001b[39msc()\u001b[38;5;241m.\u001b[39mconf())\n",
      "File \u001b[0;32m/opt/anaconda3/envs/vscodeenv/lib/python3.8/site-packages/pyspark/context.py:417\u001b[0m, in \u001b[0;36mSparkContext._initialize_context\u001b[0;34m(self, jconf)\u001b[0m\n\u001b[1;32m    413\u001b[0m \u001b[38;5;250m\u001b[39m\u001b[38;5;124;03m\"\"\"\u001b[39;00m\n\u001b[1;32m    414\u001b[0m \u001b[38;5;124;03mInitialize SparkContext in function to allow subclass specific initialization\u001b[39;00m\n\u001b[1;32m    415\u001b[0m \u001b[38;5;124;03m\"\"\"\u001b[39;00m\n\u001b[1;32m    416\u001b[0m \u001b[38;5;28;01massert\u001b[39;00m \u001b[38;5;28mself\u001b[39m\u001b[38;5;241m.\u001b[39m_jvm \u001b[38;5;129;01mis\u001b[39;00m \u001b[38;5;129;01mnot\u001b[39;00m \u001b[38;5;28;01mNone\u001b[39;00m\n\u001b[0;32m--> 417\u001b[0m \u001b[38;5;28;01mreturn\u001b[39;00m \u001b[38;5;28;43mself\u001b[39;49m\u001b[38;5;241;43m.\u001b[39;49m\u001b[43m_jvm\u001b[49m\u001b[38;5;241;43m.\u001b[39;49m\u001b[43mJavaSparkContext\u001b[49m\u001b[43m(\u001b[49m\u001b[43mjconf\u001b[49m\u001b[43m)\u001b[49m\n",
      "File \u001b[0;32m/opt/anaconda3/envs/vscodeenv/lib/python3.8/site-packages/py4j/java_gateway.py:1587\u001b[0m, in \u001b[0;36mJavaClass.__call__\u001b[0;34m(self, *args)\u001b[0m\n\u001b[1;32m   1581\u001b[0m command \u001b[38;5;241m=\u001b[39m proto\u001b[38;5;241m.\u001b[39mCONSTRUCTOR_COMMAND_NAME \u001b[38;5;241m+\u001b[39m\\\n\u001b[1;32m   1582\u001b[0m     \u001b[38;5;28mself\u001b[39m\u001b[38;5;241m.\u001b[39m_command_header \u001b[38;5;241m+\u001b[39m\\\n\u001b[1;32m   1583\u001b[0m     args_command \u001b[38;5;241m+\u001b[39m\\\n\u001b[1;32m   1584\u001b[0m     proto\u001b[38;5;241m.\u001b[39mEND_COMMAND_PART\n\u001b[1;32m   1586\u001b[0m answer \u001b[38;5;241m=\u001b[39m \u001b[38;5;28mself\u001b[39m\u001b[38;5;241m.\u001b[39m_gateway_client\u001b[38;5;241m.\u001b[39msend_command(command)\n\u001b[0;32m-> 1587\u001b[0m return_value \u001b[38;5;241m=\u001b[39m \u001b[43mget_return_value\u001b[49m\u001b[43m(\u001b[49m\n\u001b[1;32m   1588\u001b[0m \u001b[43m    \u001b[49m\u001b[43manswer\u001b[49m\u001b[43m,\u001b[49m\u001b[43m \u001b[49m\u001b[38;5;28;43mself\u001b[39;49m\u001b[38;5;241;43m.\u001b[39;49m\u001b[43m_gateway_client\u001b[49m\u001b[43m,\u001b[49m\u001b[43m \u001b[49m\u001b[38;5;28;43;01mNone\u001b[39;49;00m\u001b[43m,\u001b[49m\u001b[43m \u001b[49m\u001b[38;5;28;43mself\u001b[39;49m\u001b[38;5;241;43m.\u001b[39;49m\u001b[43m_fqn\u001b[49m\u001b[43m)\u001b[49m\n\u001b[1;32m   1590\u001b[0m \u001b[38;5;28;01mfor\u001b[39;00m temp_arg \u001b[38;5;129;01min\u001b[39;00m temp_args:\n\u001b[1;32m   1591\u001b[0m     \u001b[38;5;28;01mif\u001b[39;00m \u001b[38;5;28mhasattr\u001b[39m(temp_arg, \u001b[38;5;124m\"\u001b[39m\u001b[38;5;124m_detach\u001b[39m\u001b[38;5;124m\"\u001b[39m):\n",
      "File \u001b[0;32m/opt/anaconda3/envs/vscodeenv/lib/python3.8/site-packages/pyspark/errors/exceptions/captured.py:169\u001b[0m, in \u001b[0;36mcapture_sql_exception.<locals>.deco\u001b[0;34m(*a, **kw)\u001b[0m\n\u001b[1;32m    167\u001b[0m \u001b[38;5;28;01mdef\u001b[39;00m \u001b[38;5;21mdeco\u001b[39m(\u001b[38;5;241m*\u001b[39ma: Any, \u001b[38;5;241m*\u001b[39m\u001b[38;5;241m*\u001b[39mkw: Any) \u001b[38;5;241m-\u001b[39m\u001b[38;5;241m>\u001b[39m Any:\n\u001b[1;32m    168\u001b[0m     \u001b[38;5;28;01mtry\u001b[39;00m:\n\u001b[0;32m--> 169\u001b[0m         \u001b[38;5;28;01mreturn\u001b[39;00m \u001b[43mf\u001b[49m\u001b[43m(\u001b[49m\u001b[38;5;241;43m*\u001b[39;49m\u001b[43ma\u001b[49m\u001b[43m,\u001b[49m\u001b[43m \u001b[49m\u001b[38;5;241;43m*\u001b[39;49m\u001b[38;5;241;43m*\u001b[39;49m\u001b[43mkw\u001b[49m\u001b[43m)\u001b[49m\n\u001b[1;32m    170\u001b[0m     \u001b[38;5;28;01mexcept\u001b[39;00m Py4JJavaError \u001b[38;5;28;01mas\u001b[39;00m e:\n\u001b[1;32m    171\u001b[0m         converted \u001b[38;5;241m=\u001b[39m convert_exception(e\u001b[38;5;241m.\u001b[39mjava_exception)\n",
      "File \u001b[0;32m/opt/anaconda3/envs/vscodeenv/lib/python3.8/site-packages/py4j/protocol.py:326\u001b[0m, in \u001b[0;36mget_return_value\u001b[0;34m(answer, gateway_client, target_id, name)\u001b[0m\n\u001b[1;32m    324\u001b[0m value \u001b[38;5;241m=\u001b[39m OUTPUT_CONVERTER[\u001b[38;5;28mtype\u001b[39m](answer[\u001b[38;5;241m2\u001b[39m:], gateway_client)\n\u001b[1;32m    325\u001b[0m \u001b[38;5;28;01mif\u001b[39;00m answer[\u001b[38;5;241m1\u001b[39m] \u001b[38;5;241m==\u001b[39m REFERENCE_TYPE:\n\u001b[0;32m--> 326\u001b[0m     \u001b[38;5;28;01mraise\u001b[39;00m Py4JJavaError(\n\u001b[1;32m    327\u001b[0m         \u001b[38;5;124m\"\u001b[39m\u001b[38;5;124mAn error occurred while calling \u001b[39m\u001b[38;5;132;01m{0}\u001b[39;00m\u001b[38;5;132;01m{1}\u001b[39;00m\u001b[38;5;132;01m{2}\u001b[39;00m\u001b[38;5;124m.\u001b[39m\u001b[38;5;130;01m\\n\u001b[39;00m\u001b[38;5;124m\"\u001b[39m\u001b[38;5;241m.\u001b[39m\n\u001b[1;32m    328\u001b[0m         \u001b[38;5;28mformat\u001b[39m(target_id, \u001b[38;5;124m\"\u001b[39m\u001b[38;5;124m.\u001b[39m\u001b[38;5;124m\"\u001b[39m, name), value)\n\u001b[1;32m    329\u001b[0m \u001b[38;5;28;01melse\u001b[39;00m:\n\u001b[1;32m    330\u001b[0m     \u001b[38;5;28;01mraise\u001b[39;00m Py4JError(\n\u001b[1;32m    331\u001b[0m         \u001b[38;5;124m\"\u001b[39m\u001b[38;5;124mAn error occurred while calling \u001b[39m\u001b[38;5;132;01m{0}\u001b[39;00m\u001b[38;5;132;01m{1}\u001b[39;00m\u001b[38;5;132;01m{2}\u001b[39;00m\u001b[38;5;124m. Trace:\u001b[39m\u001b[38;5;130;01m\\n\u001b[39;00m\u001b[38;5;132;01m{3}\u001b[39;00m\u001b[38;5;130;01m\\n\u001b[39;00m\u001b[38;5;124m\"\u001b[39m\u001b[38;5;241m.\u001b[39m\n\u001b[1;32m    332\u001b[0m         \u001b[38;5;28mformat\u001b[39m(target_id, \u001b[38;5;124m\"\u001b[39m\u001b[38;5;124m.\u001b[39m\u001b[38;5;124m\"\u001b[39m, name, value))\n",
      "\u001b[0;31mPy4JJavaError\u001b[0m: An error occurred while calling None.org.apache.spark.api.java.JavaSparkContext.\n: java.net.BindException: Can't assign requested address: Service 'sparkDriver' failed after 16 retries (on a random free port)! Consider explicitly setting the appropriate binding address for the service 'sparkDriver' (for example spark.driver.bindAddress for SparkDriver) to the correct binding address.\n\tat java.base/sun.nio.ch.Net.bind0(Native Method)\n\tat java.base/sun.nio.ch.Net.bind(Net.java:461)\n\tat java.base/sun.nio.ch.Net.bind(Net.java:453)\n\tat java.base/sun.nio.ch.ServerSocketChannelImpl.bind(ServerSocketChannelImpl.java:227)\n\tat io.netty.channel.socket.nio.NioServerSocketChannel.doBind(NioServerSocketChannel.java:141)\n\tat io.netty.channel.AbstractChannel$AbstractUnsafe.bind(AbstractChannel.java:562)\n\tat io.netty.channel.DefaultChannelPipeline$HeadContext.bind(DefaultChannelPipeline.java:1334)\n\tat io.netty.channel.AbstractChannelHandlerContext.invokeBind(AbstractChannelHandlerContext.java:600)\n\tat io.netty.channel.AbstractChannelHandlerContext.bind(AbstractChannelHandlerContext.java:579)\n\tat io.netty.channel.DefaultChannelPipeline.bind(DefaultChannelPipeline.java:973)\n\tat io.netty.channel.AbstractChannel.bind(AbstractChannel.java:260)\n\tat io.netty.bootstrap.AbstractBootstrap$2.run(AbstractBootstrap.java:356)\n\tat io.netty.util.concurrent.AbstractEventExecutor.runTask(AbstractEventExecutor.java:174)\n\tat io.netty.util.concurrent.AbstractEventExecutor.safeExecute(AbstractEventExecutor.java:167)\n\tat io.netty.util.concurrent.SingleThreadEventExecutor.runAllTasks(SingleThreadEventExecutor.java:470)\n\tat io.netty.channel.nio.NioEventLoop.run(NioEventLoop.java:569)\n\tat io.netty.util.concurrent.SingleThreadEventExecutor$4.run(SingleThreadEventExecutor.java:997)\n\tat io.netty.util.internal.ThreadExecutorMap$2.run(ThreadExecutorMap.java:74)\n\tat io.netty.util.concurrent.FastThreadLocalRunnable.run(FastThreadLocalRunnable.java:30)\n\tat java.base/java.lang.Thread.run(Thread.java:834)\n"
     ]
    },
    {
     "name": "stderr",
     "output_type": "stream",
     "text": [
      "25/04/30 09:24:50 WARN FileStreamSource: Listed 29 file(s) in 2543 ms\n",
      "25/04/30 09:24:50 WARN FileStreamSource: Listed 29 file(s) in 2468 ms\n"
     ]
    }
   ],
   "source": [
    "#Initialize Spark\n",
    "spark = SparkSession.builder \\\n",
    "         .appName(\"streaming_data\") \\\n",
    "         .config(\"spark.jars\", \"/Users/gyauk/codetools/javajdbc/postgresql-42.7.5.jar\") \\\n",
    "         .getOrCreate()\n",
    "\n",
    "# spark.stop()\n",
    "# spark = SparkSession.builder.appName(\"streaming_data\").getOrCreate()\n",
    "\n",
    "\n",
    "''' Define struct type of columns in dataframe \n",
    "read the csv files \n",
    "\n",
    "'''\n",
    "\n",
    "# df = spark.read.option(\"header\", \"true\").option(\"inferSchema\", \"true\").csv(\"path/to/file.csv\")\n",
    "csvDF = spark.readStream.option(\"sep\", \",\").schema(sc.schema_build()).csv(\"/Users/gyauk/github/labs/data\")\n",
    "csvDF.writeStream.format(\"console\").option(\"truncate\", \"false\").start()\n",
    "\n",
    "\n",
    "\n",
    "# Load JSON data using the schema\n",
    "# json_path = \"/Users/gyauk/github/labs/Pyspark_IMBD_movie_analysis/data/raw/movies.json\"\n",
    "# df = spark.read.schema(hf.schema_build()).json(json_path)\n"
   ]
  },
  {
   "cell_type": "code",
   "execution_count": 4,
   "id": "b234fbc7",
   "metadata": {},
   "outputs": [
    {
     "data": {
      "text/plain": [
       "DataFrame[customer_id: string, product_id: string, product_category: string, payment_type: string, device_type: string, event_type: string, event_date: string]"
      ]
     },
     "execution_count": 4,
     "metadata": {},
     "output_type": "execute_result"
    }
   ],
   "source": [
    "csvDF"
   ]
  },
  {
   "cell_type": "code",
   "execution_count": 5,
   "id": "0daf01cc",
   "metadata": {},
   "outputs": [
    {
     "name": "stdout",
     "output_type": "stream",
     "text": [
      "root\n",
      " |-- customer_id: string (nullable = true)\n",
      " |-- product_id: string (nullable = true)\n",
      " |-- product_category: string (nullable = true)\n",
      " |-- payment_type: string (nullable = true)\n",
      " |-- device_type: string (nullable = true)\n",
      " |-- event_type: string (nullable = true)\n",
      " |-- event_date: date (nullable = true)\n",
      "\n"
     ]
    }
   ],
   "source": [
    "cleaned_df= hf.convert_column_types(csvDF)"
   ]
  },
  {
   "cell_type": "code",
   "execution_count": 6,
   "id": "4b641a4b",
   "metadata": {},
   "outputs": [
    {
     "name": "stdout",
     "output_type": "stream",
     "text": [
      "root\n",
      " |-- customer_id: string (nullable = true)\n",
      " |-- product_id: string (nullable = true)\n",
      " |-- product_category: string (nullable = true)\n",
      " |-- payment_type: string (nullable = true)\n",
      " |-- device_type: string (nullable = true)\n",
      " |-- event_type: string (nullable = true)\n",
      " |-- event_date: date (nullable = true)\n",
      "\n"
     ]
    }
   ],
   "source": [
    "cleaned_df.printSchema()"
   ]
  },
  {
   "cell_type": "code",
   "execution_count": 7,
   "id": "5e53c349",
   "metadata": {},
   "outputs": [
    {
     "data": {
      "text/plain": [
       "'file:///Users/gyauk/codetools/javajdbc/postgresql-42.7.5.jar'"
      ]
     },
     "execution_count": 7,
     "metadata": {},
     "output_type": "execute_result"
    }
   ],
   "source": [
    "spark.conf.get(\"spark.jars\")\n"
   ]
  },
  {
   "cell_type": "code",
   "execution_count": null,
   "id": "c6029205",
   "metadata": {},
   "outputs": [
    {
     "name": "stderr",
     "output_type": "stream",
     "text": [
      "25/04/28 17:20:14 WARN ResolveWriteToStream: Temporary checkpoint location created which is deleted normally when the query didn't fail: /private/var/folders/4r/wjm49txx4vj1j_kryh7ps6r00000gn/T/temporary-b242243a-f3b7-4457-8686-33f041d309d6. If it's required to delete it under any circumstances, please set spark.sql.streaming.forceDeleteTempCheckpointLocation to true. Important to know deleting temp checkpoint folder is best effort.\n",
      "25/04/28 17:20:14 WARN ResolveWriteToStream: spark.sql.adaptive.enabled is not supported in streaming DataFrames/Datasets and will be disabled.\n"
     ]
    },
    {
     "name": "stdout",
     "output_type": "stream",
     "text": [
      "Batch 0 started writing to PostgreSQL...\n"
     ]
    },
    {
     "name": "stderr",
     "output_type": "stream",
     "text": [
      "                                                                                \r"
     ]
    },
    {
     "name": "stdout",
     "output_type": "stream",
     "text": [
      "-------------------------------------------\n",
      "Batch: 0\n",
      "-------------------------------------------\n"
     ]
    },
    {
     "name": "stderr",
     "output_type": "stream",
     "text": [
      "[Stage 1:>                                                          (0 + 7) / 7]\r"
     ]
    },
    {
     "name": "stdout",
     "output_type": "stream",
     "text": [
      "+-----------+----------+----------------+------------+-----------+----------+----------+\n",
      "|customer_id|product_id|product_category|payment_type|device_type|event_type|event_date|\n",
      "+-----------+----------+----------------+------------+-----------+----------+----------+\n",
      "|CUST-14987 |Prod_13987|Books           |Visa Card   |Mobile     |Purchase  |30-06-2024|\n",
      "|CUST-14988 |Prod_13988|Electronics     |Paypal      |Mobile     |Purchase  |28-09-2023|\n",
      "|CUST-14989 |Prod_13989|Clothes         |Momo        |Desktop    |Purchase  |25-09-2022|\n",
      "|CUST-14990 |Prod_13990|Furniture       |Visa Card   |Desktop    |Addtocart |17-11-2024|\n",
      "|CUST-14991 |Prod_13991|Furniture       |Visa Card   |Desktop    |Addtocart |22-07-2023|\n",
      "|CUST-14992 |Prod_13992|Electronics     |Momo        |Mobile     |Purchase  |16-04-2020|\n",
      "|CUST-14993 |Prod_13993|Beauty          |Paypal      |Mobile     |Purchase  |14-12-2022|\n",
      "|CUST-14994 |Prod_13994|Clothes         |Visa Card   |Mobile     |Addtocart |03-12-2021|\n",
      "|CUST-14995 |Prod_13995|Clothes         |Momo        |Mobile     |Addtocart |09-11-2022|\n",
      "|CUST-14996 |Prod_13996|Accessories     |Momo        |Desktop    |Addtocart |27-08-2023|\n",
      "|CUST-14997 |Prod_13997|Accessories     |Visa Card   |Mobile     |Addtocart |31-12-2021|\n",
      "|CUST-14998 |Prod_13998|Furniture       |Paypal      |Mobile     |Purchase  |10-04-2024|\n",
      "|CUST-14999 |Prod_13999|Electronics     |Momo        |Mobile     |Addtocart |31-03-2023|\n",
      "|CUST-15000 |Prod_14000|Furniture       |Paypal      |Desktop    |Addtocart |06-05-2020|\n",
      "|CUST-15001 |Prod_14001|Electronics     |Paypal      |Mobile     |Purchase  |13-08-2023|\n",
      "|CUST-15002 |Prod_14002|Hardware        |Momo        |Mobile     |Addtocart |02-06-2020|\n",
      "|CUST-15003 |Prod_14003|Books           |Momo        |Desktop    |Addtocart |20-12-2021|\n",
      "|CUST-15004 |Prod_14004|Accessories     |Visa Card   |Mobile     |Addtocart |18-01-2021|\n",
      "|CUST-15005 |Prod_14005|Clothes         |Momo        |Desktop    |Purchase  |06-10-2023|\n",
      "|CUST-15006 |Prod_14006|Clothes         |Visa Card   |Mobile     |Addtocart |04-09-2020|\n",
      "+-----------+----------+----------------+------------+-----------+----------+----------+\n",
      "only showing top 20 rows\n",
      "\n"
     ]
    },
    {
     "name": "stderr",
     "output_type": "stream",
     "text": [
      "                                                                                \r"
     ]
    },
    {
     "name": "stdout",
     "output_type": "stream",
     "text": [
      "Batch 0 successfully written to PostgreSQL!\n"
     ]
    },
    {
     "name": "stderr",
     "output_type": "stream",
     "text": [
      "                                                                                \r"
     ]
    },
    {
     "name": "stdout",
     "output_type": "stream",
     "text": [
      "-------------------------------------------\n",
      "Batch: 1\n",
      "-------------------------------------------\n",
      "+-----------+----------+----------------+------------+-----------+----------+----------+\n",
      "|customer_id|product_id|product_category|payment_type|device_type|event_type|event_date|\n",
      "+-----------+----------+----------------+------------+-----------+----------+----------+\n",
      "|CUST-23978 |Prod_22978|Accessories     |Paypal      |Mobile     |Purchase  |26-06-2021|\n",
      "|CUST-23979 |Prod_22979|Hardware        |Momo        |Desktop    |Addtocart |24-09-2023|\n",
      "|CUST-23980 |Prod_22980|Beauty          |Visa Card   |Desktop    |Addtocart |04-02-2023|\n",
      "|CUST-23981 |Prod_22981|Furniture       |Visa Card   |Desktop    |Purchase  |06-06-2021|\n",
      "|CUST-23982 |Prod_22982|Accessories     |Visa Card   |Mobile     |Purchase  |27-05-2023|\n",
      "|CUST-23983 |Prod_22983|Books           |Paypal      |Desktop    |Purchase  |20-07-2023|\n",
      "|CUST-23984 |Prod_22984|Hardware        |Visa Card   |Desktop    |Addtocart |14-03-2024|\n",
      "|CUST-23985 |Prod_22985|Accessories     |Momo        |Desktop    |Purchase  |20-04-2025|\n",
      "|CUST-23986 |Prod_22986|Clothes         |Paypal      |Desktop    |Addtocart |11-02-2023|\n",
      "|CUST-23987 |Prod_22987|Hardware        |Momo        |Desktop    |Purchase  |06-04-2023|\n",
      "|CUST-23988 |Prod_22988|Beauty          |Paypal      |Mobile     |Addtocart |23-05-2023|\n",
      "|CUST-23989 |Prod_22989|Books           |Paypal      |Mobile     |Purchase  |19-05-2022|\n",
      "|CUST-23990 |Prod_22990|Electronics     |Paypal      |Desktop    |Purchase  |11-09-2020|\n",
      "|CUST-23991 |Prod_22991|Hardware        |Visa Card   |Desktop    |Addtocart |23-08-2023|\n",
      "|CUST-23992 |Prod_22992|Hardware        |Paypal      |Desktop    |Addtocart |02-06-2022|\n",
      "|CUST-23993 |Prod_22993|Books           |Momo        |Desktop    |Purchase  |19-02-2025|\n",
      "|CUST-23994 |Prod_22994|Clothes         |Visa Card   |Desktop    |Addtocart |21-09-2024|\n",
      "|CUST-23995 |Prod_22995|Accessories     |Paypal      |Mobile     |Purchase  |26-12-2024|\n",
      "|CUST-23996 |Prod_22996|Furniture       |Paypal      |Mobile     |Addtocart |02-02-2020|\n",
      "|CUST-23997 |Prod_22997|Accessories     |Visa Card   |Mobile     |Addtocart |08-02-2022|\n",
      "+-----------+----------+----------------+------------+-----------+----------+----------+\n",
      "only showing top 20 rows\n",
      "\n",
      "Batch 1 started writing to PostgreSQL...\n"
     ]
    },
    {
     "name": "stderr",
     "output_type": "stream",
     "text": [
      "                                                                                \r"
     ]
    },
    {
     "name": "stdout",
     "output_type": "stream",
     "text": [
      "Batch 1 successfully written to PostgreSQL!\n",
      "-------------------------------------------\n",
      "Batch: 2\n",
      "-------------------------------------------\n",
      "+-----------+----------+----------------+------------+-----------+----------+----------+\n",
      "|customer_id|product_id|product_category|payment_type|device_type|event_type|event_date|\n",
      "+-----------+----------+----------------+------------+-----------+----------+----------+\n",
      "|CUST-25976 |Prod_24976|Electronics     |Momo        |Desktop    |Addtocart |09-11-2021|\n",
      "|CUST-25977 |Prod_24977|Electronics     |Visa Card   |Mobile     |Addtocart |11-10-2022|\n",
      "|CUST-25978 |Prod_24978|Accessories     |Paypal      |Desktop    |Purchase  |23-02-2021|\n",
      "|CUST-25979 |Prod_24979|Accessories     |Visa Card   |Desktop    |Addtocart |02-09-2021|\n",
      "|CUST-25980 |Prod_24980|Accessories     |Visa Card   |Desktop    |Purchase  |16-01-2024|\n",
      "|CUST-25981 |Prod_24981|Clothes         |Paypal      |Desktop    |Purchase  |19-04-2023|\n",
      "|CUST-25982 |Prod_24982|Beauty          |Visa Card   |Mobile     |Addtocart |17-04-2021|\n",
      "|CUST-25983 |Prod_24983|Books           |Visa Card   |Desktop    |Purchase  |09-04-2025|\n",
      "|CUST-25984 |Prod_24984|Accessories     |Paypal      |Mobile     |Purchase  |02-10-2020|\n",
      "|CUST-25985 |Prod_24985|Beauty          |Momo        |Desktop    |Purchase  |31-07-2022|\n",
      "|CUST-25986 |Prod_24986|Furniture       |Visa Card   |Desktop    |Purchase  |31-12-2023|\n",
      "|CUST-25987 |Prod_24987|Clothes         |Momo        |Mobile     |Purchase  |27-03-2025|\n",
      "|CUST-25988 |Prod_24988|Beauty          |Visa Card   |Desktop    |Addtocart |12-05-2020|\n",
      "|CUST-25989 |Prod_24989|Beauty          |Paypal      |Mobile     |Purchase  |14-11-2024|\n",
      "|CUST-25990 |Prod_24990|Books           |Momo        |Desktop    |Purchase  |13-02-2020|\n",
      "|CUST-25991 |Prod_24991|Electronics     |Paypal      |Desktop    |Addtocart |01-05-2024|\n",
      "|CUST-25992 |Prod_24992|Beauty          |Paypal      |Desktop    |Addtocart |10-12-2021|\n",
      "|CUST-25993 |Prod_24993|Books           |Visa Card   |Desktop    |Addtocart |13-08-2024|\n",
      "|CUST-25994 |Prod_24994|Accessories     |Visa Card   |Mobile     |Purchase  |06-02-2021|\n",
      "|CUST-25995 |Prod_24995|Books           |Momo        |Mobile     |Addtocart |05-04-2025|\n",
      "+-----------+----------+----------------+------------+-----------+----------+----------+\n",
      "only showing top 20 rows\n",
      "\n",
      "Batch 2 started writing to PostgreSQL...\n",
      "-------------------------------------------\n",
      "Batch: 3\n",
      "-------------------------------------------\n",
      "+-----------+----------+----------------+------------+-----------+----------+----------+\n",
      "|customer_id|product_id|product_category|payment_type|device_type|event_type|event_date|\n",
      "+-----------+----------+----------------+------------+-----------+----------+----------+\n",
      "|CUST-26975 |Prod_25975|Beauty          |Paypal      |Desktop    |Addtocart |02-07-2022|\n",
      "|CUST-26976 |Prod_25976|Hardware        |Paypal      |Desktop    |Purchase  |03-04-2021|\n",
      "|CUST-26977 |Prod_25977|Beauty          |Paypal      |Mobile     |Addtocart |02-06-2024|\n",
      "|CUST-26978 |Prod_25978|Furniture       |Visa Card   |Desktop    |Purchase  |18-09-2023|\n",
      "|CUST-26979 |Prod_25979|Accessories     |Paypal      |Mobile     |Addtocart |16-07-2024|\n",
      "|CUST-26980 |Prod_25980|Books           |Momo        |Mobile     |Purchase  |29-12-2020|\n",
      "|CUST-26981 |Prod_25981|Beauty          |Paypal      |Mobile     |Purchase  |31-08-2024|\n",
      "|CUST-26982 |Prod_25982|Books           |Paypal      |Desktop    |Purchase  |03-10-2020|\n",
      "|CUST-26983 |Prod_25983|Hardware        |Visa Card   |Mobile     |Addtocart |29-12-2020|\n",
      "|CUST-26984 |Prod_25984|Accessories     |Visa Card   |Desktop    |Addtocart |30-10-2020|\n",
      "|CUST-26985 |Prod_25985|Books           |Paypal      |Mobile     |Addtocart |22-07-2022|\n",
      "|CUST-26986 |Prod_25986|Furniture       |Paypal      |Mobile     |Addtocart |26-01-2022|\n",
      "|CUST-26987 |Prod_25987|Hardware        |Momo        |Mobile     |Addtocart |19-01-2021|\n",
      "|CUST-26988 |Prod_25988|Clothes         |Visa Card   |Mobile     |Purchase  |08-01-2021|\n",
      "|CUST-26989 |Prod_25989|Beauty          |Visa Card   |Desktop    |Addtocart |30-12-2022|\n",
      "|CUST-26990 |Prod_25990|Electronics     |Visa Card   |Mobile     |Purchase  |10-02-2020|\n",
      "|CUST-26991 |Prod_25991|Furniture       |Momo        |Desktop    |Purchase  |27-11-2022|\n",
      "|CUST-26992 |Prod_25992|Hardware        |Paypal      |Desktop    |Purchase  |03-12-2024|\n",
      "|CUST-26993 |Prod_25993|Accessories     |Visa Card   |Desktop    |Purchase  |25-03-2022|\n",
      "|CUST-26994 |Prod_25994|Accessories     |Momo        |Desktop    |Purchase  |27-07-2022|\n",
      "+-----------+----------+----------------+------------+-----------+----------+----------+\n",
      "only showing top 20 rows\n",
      "\n",
      "Batch 2 successfully written to PostgreSQL!\n",
      "Batch 3 started writing to PostgreSQL...\n",
      "-------------------------------------------\n",
      "Batch: 4\n",
      "-------------------------------------------\n",
      "+-----------+----------+----------------+------------+-----------+----------+----------+\n",
      "|customer_id|product_id|product_category|payment_type|device_type|event_type|event_date|\n",
      "+-----------+----------+----------------+------------+-----------+----------+----------+\n",
      "|CUST-27974 |Prod_26974|Accessories     |Visa Card   |Desktop    |Addtocart |21-12-2024|\n",
      "|CUST-27975 |Prod_26975|Accessories     |Paypal      |Mobile     |Addtocart |09-12-2021|\n",
      "|CUST-27976 |Prod_26976|Hardware        |Paypal      |Desktop    |Purchase  |20-10-2023|\n",
      "|CUST-27977 |Prod_26977|Books           |Momo        |Desktop    |Addtocart |02-02-2021|\n",
      "|CUST-27978 |Prod_26978|Clothes         |Paypal      |Mobile     |Purchase  |21-04-2020|\n",
      "|CUST-27979 |Prod_26979|Furniture       |Visa Card   |Desktop    |Addtocart |02-03-2021|\n",
      "|CUST-27980 |Prod_26980|Furniture       |Paypal      |Mobile     |Addtocart |23-01-2025|\n",
      "|CUST-27981 |Prod_26981|Clothes         |Paypal      |Desktop    |Purchase  |03-03-2022|\n",
      "|CUST-27982 |Prod_26982|Hardware        |Paypal      |Desktop    |Addtocart |21-01-2024|\n",
      "|CUST-27983 |Prod_26983|Clothes         |Momo        |Mobile     |Purchase  |11-11-2022|\n",
      "|CUST-27984 |Prod_26984|Hardware        |Visa Card   |Desktop    |Purchase  |05-12-2023|\n",
      "|CUST-27985 |Prod_26985|Beauty          |Paypal      |Desktop    |Addtocart |09-12-2021|\n",
      "|CUST-27986 |Prod_26986|Hardware        |Momo        |Mobile     |Purchase  |05-07-2023|\n",
      "|CUST-27987 |Prod_26987|Furniture       |Visa Card   |Desktop    |Purchase  |08-05-2022|\n",
      "|CUST-27988 |Prod_26988|Beauty          |Momo        |Mobile     |Addtocart |01-02-2020|\n",
      "|CUST-27989 |Prod_26989|Accessories     |Paypal      |Mobile     |Purchase  |23-02-2020|\n",
      "|CUST-27990 |Prod_26990|Furniture       |Momo        |Desktop    |Purchase  |17-08-2024|\n",
      "|CUST-27991 |Prod_26991|Electronics     |Paypal      |Desktop    |Addtocart |10-11-2024|\n",
      "|CUST-27992 |Prod_26992|Clothes         |Paypal      |Desktop    |Addtocart |02-01-2023|\n",
      "|CUST-27993 |Prod_26993|Accessories     |Momo        |Mobile     |Purchase  |11-06-2021|\n",
      "+-----------+----------+----------------+------------+-----------+----------+----------+\n",
      "only showing top 20 rows\n",
      "\n",
      "Batch 3 successfully written to PostgreSQL!\n",
      "Batch 4 started writing to PostgreSQL...\n",
      "-------------------------------------------\n",
      "Batch: 5\n",
      "-------------------------------------------\n",
      "+-----------+----------+----------------+------------+-----------+----------+----------+\n",
      "|customer_id|product_id|product_category|payment_type|device_type|event_type|event_date|\n",
      "+-----------+----------+----------------+------------+-----------+----------+----------+\n",
      "|CUST-28973 |Prod_27973|Clothes         |Momo        |Mobile     |Addtocart |04-05-2020|\n",
      "|CUST-28974 |Prod_27974|Hardware        |Momo        |Desktop    |Purchase  |28-12-2022|\n",
      "|CUST-28975 |Prod_27975|Books           |Momo        |Desktop    |Purchase  |29-08-2024|\n",
      "|CUST-28976 |Prod_27976|Accessories     |Paypal      |Mobile     |Purchase  |09-12-2023|\n",
      "|CUST-28977 |Prod_27977|Accessories     |Visa Card   |Desktop    |Addtocart |30-08-2024|\n",
      "|CUST-28978 |Prod_27978|Books           |Visa Card   |Mobile     |Purchase  |17-04-2025|\n",
      "|CUST-28979 |Prod_27979|Accessories     |Momo        |Mobile     |Purchase  |04-03-2024|\n",
      "|CUST-28980 |Prod_27980|Beauty          |Visa Card   |Mobile     |Addtocart |26-04-2020|\n",
      "|CUST-28981 |Prod_27981|Electronics     |Momo        |Desktop    |Addtocart |23-06-2021|\n",
      "|CUST-28982 |Prod_27982|Accessories     |Momo        |Desktop    |Addtocart |05-12-2023|\n",
      "|CUST-28983 |Prod_27983|Furniture       |Momo        |Desktop    |Purchase  |14-05-2020|\n",
      "|CUST-28984 |Prod_27984|Clothes         |Visa Card   |Desktop    |Addtocart |13-05-2023|\n",
      "|CUST-28985 |Prod_27985|Accessories     |Paypal      |Desktop    |Purchase  |20-05-2023|\n",
      "|CUST-28986 |Prod_27986|Clothes         |Visa Card   |Mobile     |Addtocart |24-03-2021|\n",
      "|CUST-28987 |Prod_27987|Accessories     |Visa Card   |Desktop    |Addtocart |22-10-2023|\n",
      "|CUST-28988 |Prod_27988|Hardware        |Paypal      |Mobile     |Purchase  |13-02-2020|\n",
      "|CUST-28989 |Prod_27989|Furniture       |Visa Card   |Mobile     |Purchase  |07-04-2024|\n",
      "|CUST-28990 |Prod_27990|Electronics     |Paypal      |Mobile     |Purchase  |24-07-2023|\n",
      "|CUST-28991 |Prod_27991|Beauty          |Momo        |Mobile     |Addtocart |06-05-2020|\n",
      "|CUST-28992 |Prod_27992|Books           |Paypal      |Mobile     |Purchase  |20-08-2024|\n",
      "+-----------+----------+----------------+------------+-----------+----------+----------+\n",
      "only showing top 20 rows\n",
      "\n",
      "Batch 4 successfully written to PostgreSQL!\n"
     ]
    },
    {
     "name": "stderr",
     "output_type": "stream",
     "text": [
      "ERROR:root:KeyboardInterrupt while sending command.\n",
      "Traceback (most recent call last):\n",
      "  File \"/opt/anaconda3/envs/vscodeenv/lib/python3.8/site-packages/py4j/java_gateway.py\", line 1038, in send_command\n",
      "    response = connection.send_command(command)\n",
      "  File \"/opt/anaconda3/envs/vscodeenv/lib/python3.8/site-packages/py4j/clientserver.py\", line 511, in send_command\n",
      "    answer = smart_decode(self.stream.readline()[:-1])\n",
      "  File \"/opt/anaconda3/envs/vscodeenv/lib/python3.8/socket.py\", line 681, in readinto\n",
      "    return self._sock.recv_into(b)\n",
      "KeyboardInterrupt\n"
     ]
    },
    {
     "ename": "KeyboardInterrupt",
     "evalue": "",
     "output_type": "error",
     "traceback": [
      "\u001b[0;31m---------------------------------------------------------------------------\u001b[0m",
      "\u001b[0;31mKeyboardInterrupt\u001b[0m                         Traceback (most recent call last)",
      "Cell \u001b[0;32mIn[8], line 7\u001b[0m\n\u001b[1;32m      1\u001b[0m \u001b[38;5;66;03m# Attach this function to your streaming query\u001b[39;00m\n\u001b[1;32m      2\u001b[0m query \u001b[38;5;241m=\u001b[39m cleaned_df\u001b[38;5;241m.\u001b[39mwriteStream \\\n\u001b[1;32m      3\u001b[0m     \u001b[38;5;241m.\u001b[39mforeachBatch(hf\u001b[38;5;241m.\u001b[39mwrite_to_postgres) \\\n\u001b[1;32m      4\u001b[0m     \u001b[38;5;241m.\u001b[39moutputMode(\u001b[38;5;124m\"\u001b[39m\u001b[38;5;124mappend\u001b[39m\u001b[38;5;124m\"\u001b[39m) \\\n\u001b[1;32m      5\u001b[0m     \u001b[38;5;241m.\u001b[39mstart()\n\u001b[0;32m----> 7\u001b[0m \u001b[43mquery\u001b[49m\u001b[38;5;241;43m.\u001b[39;49m\u001b[43mawaitTermination\u001b[49m\u001b[43m(\u001b[49m\u001b[43mtimeout\u001b[49m\u001b[38;5;241;43m=\u001b[39;49m\u001b[38;5;28;43;01mNone\u001b[39;49;00m\u001b[43m)\u001b[49m\n",
      "File \u001b[0;32m/opt/anaconda3/envs/vscodeenv/lib/python3.8/site-packages/pyspark/sql/streaming/query.py:201\u001b[0m, in \u001b[0;36mStreamingQuery.awaitTermination\u001b[0;34m(self, timeout)\u001b[0m\n\u001b[1;32m    199\u001b[0m     \u001b[38;5;28;01mreturn\u001b[39;00m \u001b[38;5;28mself\u001b[39m\u001b[38;5;241m.\u001b[39m_jsq\u001b[38;5;241m.\u001b[39mawaitTermination(\u001b[38;5;28mint\u001b[39m(timeout \u001b[38;5;241m*\u001b[39m \u001b[38;5;241m1000\u001b[39m))\n\u001b[1;32m    200\u001b[0m \u001b[38;5;28;01melse\u001b[39;00m:\n\u001b[0;32m--> 201\u001b[0m     \u001b[38;5;28;01mreturn\u001b[39;00m \u001b[38;5;28;43mself\u001b[39;49m\u001b[38;5;241;43m.\u001b[39;49m\u001b[43m_jsq\u001b[49m\u001b[38;5;241;43m.\u001b[39;49m\u001b[43mawaitTermination\u001b[49m\u001b[43m(\u001b[49m\u001b[43m)\u001b[49m\n",
      "File \u001b[0;32m/opt/anaconda3/envs/vscodeenv/lib/python3.8/site-packages/py4j/java_gateway.py:1321\u001b[0m, in \u001b[0;36mJavaMember.__call__\u001b[0;34m(self, *args)\u001b[0m\n\u001b[1;32m   1314\u001b[0m args_command, temp_args \u001b[38;5;241m=\u001b[39m \u001b[38;5;28mself\u001b[39m\u001b[38;5;241m.\u001b[39m_build_args(\u001b[38;5;241m*\u001b[39margs)\n\u001b[1;32m   1316\u001b[0m command \u001b[38;5;241m=\u001b[39m proto\u001b[38;5;241m.\u001b[39mCALL_COMMAND_NAME \u001b[38;5;241m+\u001b[39m\\\n\u001b[1;32m   1317\u001b[0m     \u001b[38;5;28mself\u001b[39m\u001b[38;5;241m.\u001b[39mcommand_header \u001b[38;5;241m+\u001b[39m\\\n\u001b[1;32m   1318\u001b[0m     args_command \u001b[38;5;241m+\u001b[39m\\\n\u001b[1;32m   1319\u001b[0m     proto\u001b[38;5;241m.\u001b[39mEND_COMMAND_PART\n\u001b[0;32m-> 1321\u001b[0m answer \u001b[38;5;241m=\u001b[39m \u001b[38;5;28;43mself\u001b[39;49m\u001b[38;5;241;43m.\u001b[39;49m\u001b[43mgateway_client\u001b[49m\u001b[38;5;241;43m.\u001b[39;49m\u001b[43msend_command\u001b[49m\u001b[43m(\u001b[49m\u001b[43mcommand\u001b[49m\u001b[43m)\u001b[49m\n\u001b[1;32m   1322\u001b[0m return_value \u001b[38;5;241m=\u001b[39m get_return_value(\n\u001b[1;32m   1323\u001b[0m     answer, \u001b[38;5;28mself\u001b[39m\u001b[38;5;241m.\u001b[39mgateway_client, \u001b[38;5;28mself\u001b[39m\u001b[38;5;241m.\u001b[39mtarget_id, \u001b[38;5;28mself\u001b[39m\u001b[38;5;241m.\u001b[39mname)\n\u001b[1;32m   1325\u001b[0m \u001b[38;5;28;01mfor\u001b[39;00m temp_arg \u001b[38;5;129;01min\u001b[39;00m temp_args:\n",
      "File \u001b[0;32m/opt/anaconda3/envs/vscodeenv/lib/python3.8/site-packages/py4j/java_gateway.py:1038\u001b[0m, in \u001b[0;36mGatewayClient.send_command\u001b[0;34m(self, command, retry, binary)\u001b[0m\n\u001b[1;32m   1036\u001b[0m connection \u001b[38;5;241m=\u001b[39m \u001b[38;5;28mself\u001b[39m\u001b[38;5;241m.\u001b[39m_get_connection()\n\u001b[1;32m   1037\u001b[0m \u001b[38;5;28;01mtry\u001b[39;00m:\n\u001b[0;32m-> 1038\u001b[0m     response \u001b[38;5;241m=\u001b[39m \u001b[43mconnection\u001b[49m\u001b[38;5;241;43m.\u001b[39;49m\u001b[43msend_command\u001b[49m\u001b[43m(\u001b[49m\u001b[43mcommand\u001b[49m\u001b[43m)\u001b[49m\n\u001b[1;32m   1039\u001b[0m     \u001b[38;5;28;01mif\u001b[39;00m binary:\n\u001b[1;32m   1040\u001b[0m         \u001b[38;5;28;01mreturn\u001b[39;00m response, \u001b[38;5;28mself\u001b[39m\u001b[38;5;241m.\u001b[39m_create_connection_guard(connection)\n",
      "File \u001b[0;32m/opt/anaconda3/envs/vscodeenv/lib/python3.8/site-packages/py4j/clientserver.py:511\u001b[0m, in \u001b[0;36mClientServerConnection.send_command\u001b[0;34m(self, command)\u001b[0m\n\u001b[1;32m    509\u001b[0m \u001b[38;5;28;01mtry\u001b[39;00m:\n\u001b[1;32m    510\u001b[0m     \u001b[38;5;28;01mwhile\u001b[39;00m \u001b[38;5;28;01mTrue\u001b[39;00m:\n\u001b[0;32m--> 511\u001b[0m         answer \u001b[38;5;241m=\u001b[39m smart_decode(\u001b[38;5;28;43mself\u001b[39;49m\u001b[38;5;241;43m.\u001b[39;49m\u001b[43mstream\u001b[49m\u001b[38;5;241;43m.\u001b[39;49m\u001b[43mreadline\u001b[49m\u001b[43m(\u001b[49m\u001b[43m)\u001b[49m[:\u001b[38;5;241m-\u001b[39m\u001b[38;5;241m1\u001b[39m])\n\u001b[1;32m    512\u001b[0m         logger\u001b[38;5;241m.\u001b[39mdebug(\u001b[38;5;124m\"\u001b[39m\u001b[38;5;124mAnswer received: \u001b[39m\u001b[38;5;132;01m{0}\u001b[39;00m\u001b[38;5;124m\"\u001b[39m\u001b[38;5;241m.\u001b[39mformat(answer))\n\u001b[1;32m    513\u001b[0m         \u001b[38;5;66;03m# Happens when a the other end is dead. There might be an empty\u001b[39;00m\n\u001b[1;32m    514\u001b[0m         \u001b[38;5;66;03m# answer before the socket raises an error.\u001b[39;00m\n",
      "File \u001b[0;32m/opt/anaconda3/envs/vscodeenv/lib/python3.8/socket.py:681\u001b[0m, in \u001b[0;36mSocketIO.readinto\u001b[0;34m(self, b)\u001b[0m\n\u001b[1;32m    679\u001b[0m \u001b[38;5;28;01mwhile\u001b[39;00m \u001b[38;5;28;01mTrue\u001b[39;00m:\n\u001b[1;32m    680\u001b[0m     \u001b[38;5;28;01mtry\u001b[39;00m:\n\u001b[0;32m--> 681\u001b[0m         \u001b[38;5;28;01mreturn\u001b[39;00m \u001b[38;5;28;43mself\u001b[39;49m\u001b[38;5;241;43m.\u001b[39;49m\u001b[43m_sock\u001b[49m\u001b[38;5;241;43m.\u001b[39;49m\u001b[43mrecv_into\u001b[49m\u001b[43m(\u001b[49m\u001b[43mb\u001b[49m\u001b[43m)\u001b[49m\n\u001b[1;32m    682\u001b[0m     \u001b[38;5;28;01mexcept\u001b[39;00m timeout:\n\u001b[1;32m    683\u001b[0m         \u001b[38;5;28mself\u001b[39m\u001b[38;5;241m.\u001b[39m_timeout_occurred \u001b[38;5;241m=\u001b[39m \u001b[38;5;28;01mTrue\u001b[39;00m\n",
      "\u001b[0;31mKeyboardInterrupt\u001b[0m: "
     ]
    }
   ],
   "source": [
    "# Attach this function to your streaming query\n",
    "query = cleaned_df.writeStream \\\n",
    "    .foreachBatch(hf.write_to_postgres) \\\n",
    "    .outputMode(\"append\") \\\n",
    "    .start()\n",
    "\n",
    "query.awaitTermination(timeout=None)"
   ]
  }
 ],
 "metadata": {
  "kernelspec": {
   "display_name": "Python 3",
   "language": "python",
   "name": "python3"
  },
  "language_info": {
   "codemirror_mode": {
    "name": "ipython",
    "version": 3
   },
   "file_extension": ".py",
   "mimetype": "text/x-python",
   "name": "python",
   "nbconvert_exporter": "python",
   "pygments_lexer": "ipython3",
   "version": "3.8.20"
  }
 },
 "nbformat": 4,
 "nbformat_minor": 5
}
